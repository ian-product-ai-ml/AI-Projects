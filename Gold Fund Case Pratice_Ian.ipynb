{
 "cells": [
  {
   "cell_type": "code",
   "execution_count": 26,
   "id": "3b52f929-7c20-4932-8b5a-230bdd60cc22",
   "metadata": {},
   "outputs": [],
   "source": [
    "# Import the necessary libraries\n",
    "import pandas as pd\n",
    "import numpy as np\n",
    "import seaborn as sns\n",
    "import matplotlib.pyplot as plt\n",
    "from sklearn.model_selection import train_test_split\n",
    "from sklearn.preprocessing import StandardScaler\n",
    "from sklearn.pipeline import Pipeline\n",
    "from sklearn.linear_model import LogisticRegression\n",
    "from sklearn.metrics import accuracy_score, classification_report, confusion_matrix, precision_score, recall_score, f1_score\n",
    "from statsmodels.stats.outliers_influence import variance_inflation_factor\n",
    "from sklearn.metrics import roc_curve"
   ]
  },
  {
   "cell_type": "code",
   "execution_count": 3,
   "id": "3d40fc7b-cc95-4b1f-9e16-d9f71e14ce7d",
   "metadata": {},
   "outputs": [
    {
     "data": {
      "text/html": [
       "<div>\n",
       "<style scoped>\n",
       "    .dataframe tbody tr th:only-of-type {\n",
       "        vertical-align: middle;\n",
       "    }\n",
       "\n",
       "    .dataframe tbody tr th {\n",
       "        vertical-align: top;\n",
       "    }\n",
       "\n",
       "    .dataframe thead th {\n",
       "        text-align: right;\n",
       "    }\n",
       "</style>\n",
       "<table border=\"1\" class=\"dataframe\">\n",
       "  <thead>\n",
       "    <tr style=\"text-align: right;\">\n",
       "      <th></th>\n",
       "      <th>ID</th>\n",
       "      <th>Gender</th>\n",
       "      <th>AMB</th>\n",
       "      <th>AccountSince</th>\n",
       "      <th>RelationshipSize</th>\n",
       "      <th>AvgMonthlyTxn</th>\n",
       "      <th>DematAccounts</th>\n",
       "      <th>FD_Nos</th>\n",
       "      <th>MF_nos</th>\n",
       "      <th>Equity_mfs</th>\n",
       "      <th>Debt_mfs</th>\n",
       "      <th>Balanced_Funds</th>\n",
       "      <th>ELSS</th>\n",
       "      <th>PMS_accounts</th>\n",
       "      <th>Trading_Accounts</th>\n",
       "      <th>Speciality_funds</th>\n",
       "      <th>Gold_Fund</th>\n",
       "    </tr>\n",
       "  </thead>\n",
       "  <tbody>\n",
       "    <tr>\n",
       "      <th>0</th>\n",
       "      <td>25</td>\n",
       "      <td>1</td>\n",
       "      <td>297.0</td>\n",
       "      <td>22</td>\n",
       "      <td>2</td>\n",
       "      <td>14</td>\n",
       "      <td>0</td>\n",
       "      <td>1</td>\n",
       "      <td>1</td>\n",
       "      <td>0</td>\n",
       "      <td>0</td>\n",
       "      <td>0</td>\n",
       "      <td>0</td>\n",
       "      <td>0</td>\n",
       "      <td>0</td>\n",
       "      <td>0</td>\n",
       "      <td>0</td>\n",
       "    </tr>\n",
       "    <tr>\n",
       "      <th>1</th>\n",
       "      <td>46</td>\n",
       "      <td>1</td>\n",
       "      <td>138.0</td>\n",
       "      <td>56</td>\n",
       "      <td>7</td>\n",
       "      <td>22</td>\n",
       "      <td>2</td>\n",
       "      <td>1</td>\n",
       "      <td>2</td>\n",
       "      <td>0</td>\n",
       "      <td>1</td>\n",
       "      <td>0</td>\n",
       "      <td>1</td>\n",
       "      <td>1</td>\n",
       "      <td>0</td>\n",
       "      <td>0</td>\n",
       "      <td>0</td>\n",
       "    </tr>\n",
       "    <tr>\n",
       "      <th>2</th>\n",
       "      <td>47</td>\n",
       "      <td>1</td>\n",
       "      <td>228.0</td>\n",
       "      <td>2</td>\n",
       "      <td>1</td>\n",
       "      <td>2</td>\n",
       "      <td>0</td>\n",
       "      <td>0</td>\n",
       "      <td>0</td>\n",
       "      <td>0</td>\n",
       "      <td>0</td>\n",
       "      <td>0</td>\n",
       "      <td>0</td>\n",
       "      <td>0</td>\n",
       "      <td>0</td>\n",
       "      <td>0</td>\n",
       "      <td>0</td>\n",
       "    </tr>\n",
       "    <tr>\n",
       "      <th>3</th>\n",
       "      <td>61</td>\n",
       "      <td>1</td>\n",
       "      <td>190.0</td>\n",
       "      <td>16</td>\n",
       "      <td>1</td>\n",
       "      <td>16</td>\n",
       "      <td>0</td>\n",
       "      <td>0</td>\n",
       "      <td>0</td>\n",
       "      <td>0</td>\n",
       "      <td>0</td>\n",
       "      <td>0</td>\n",
       "      <td>1</td>\n",
       "      <td>0</td>\n",
       "      <td>0</td>\n",
       "      <td>0</td>\n",
       "      <td>0</td>\n",
       "    </tr>\n",
       "    <tr>\n",
       "      <th>4</th>\n",
       "      <td>79</td>\n",
       "      <td>1</td>\n",
       "      <td>NaN</td>\n",
       "      <td>14</td>\n",
       "      <td>1</td>\n",
       "      <td>14</td>\n",
       "      <td>1</td>\n",
       "      <td>0</td>\n",
       "      <td>0</td>\n",
       "      <td>0</td>\n",
       "      <td>0</td>\n",
       "      <td>0</td>\n",
       "      <td>0</td>\n",
       "      <td>0</td>\n",
       "      <td>0</td>\n",
       "      <td>0</td>\n",
       "      <td>0</td>\n",
       "    </tr>\n",
       "  </tbody>\n",
       "</table>\n",
       "</div>"
      ],
      "text/plain": [
       "   ID  Gender    AMB  AccountSince  RelationshipSize  AvgMonthlyTxn  \\\n",
       "0  25       1  297.0            22                 2             14   \n",
       "1  46       1  138.0            56                 7             22   \n",
       "2  47       1  228.0             2                 1              2   \n",
       "3  61       1  190.0            16                 1             16   \n",
       "4  79       1    NaN            14                 1             14   \n",
       "\n",
       "   DematAccounts  FD_Nos  MF_nos  Equity_mfs  Debt_mfs  Balanced_Funds  ELSS  \\\n",
       "0              0       1       1           0         0               0     0   \n",
       "1              2       1       2           0         1               0     1   \n",
       "2              0       0       0           0         0               0     0   \n",
       "3              0       0       0           0         0               0     1   \n",
       "4              1       0       0           0         0               0     0   \n",
       "\n",
       "   PMS_accounts  Trading_Accounts  Speciality_funds  Gold_Fund  \n",
       "0             0                 0                 0          0  \n",
       "1             1                 0                 0          0  \n",
       "2             0                 0                 0          0  \n",
       "3             0                 0                 0          0  \n",
       "4             0                 0                 0          0  "
      ]
     },
     "execution_count": 3,
     "metadata": {},
     "output_type": "execute_result"
    }
   ],
   "source": [
    "df=pd.read_csv('gold fund.csv')\n",
    "df.head()"
   ]
  },
  {
   "cell_type": "markdown",
   "id": "f9fa4021-e24b-4d4d-bf8f-3a860800ffcf",
   "metadata": {},
   "source": [
    "## Data Preprocessing"
   ]
  },
  {
   "cell_type": "code",
   "execution_count": 4,
   "id": "edb0b032-1689-4541-a868-7399d864bac4",
   "metadata": {},
   "outputs": [],
   "source": [
    "# Handle missing values\n",
    "df.dropna(inplace=True)"
   ]
  },
  {
   "cell_type": "markdown",
   "id": "a23a9293-22a3-45c2-8661-672011217e38",
   "metadata": {},
   "source": [
    "## Exploratory Data Analysis (EDA)"
   ]
  },
  {
   "cell_type": "code",
   "execution_count": 5,
   "id": "7774beec-7685-4b97-9fea-4d6fb723fd33",
   "metadata": {},
   "outputs": [
    {
     "name": "stdout",
     "output_type": "stream",
     "text": [
      "                 ID      Gender         AMB  AccountSince  RelationshipSize  \\\n",
      "count    835.000000  835.000000  835.000000    835.000000        835.000000   \n",
      "mean    6261.244311    0.731737  208.282635     26.316168          3.881437   \n",
      "std     3613.162927    0.443321  101.633772     18.409821          3.466396   \n",
      "min       25.000000    0.000000   17.000000      2.000000          1.000000   \n",
      "25%     3145.500000    0.000000  130.500000     12.000000          1.000000   \n",
      "50%     6304.000000    1.000000  207.000000     22.000000          2.000000   \n",
      "75%     9375.000000    1.000000  282.000000     36.000000          6.000000   \n",
      "max    12428.000000    1.000000  475.000000     94.000000         12.000000   \n",
      "\n",
      "       AvgMonthlyTxn  DematAccounts      FD_Nos      MF_nos  Equity_mfs  \\\n",
      "count     835.000000     835.000000  835.000000  835.000000  835.000000   \n",
      "mean       20.088623       0.626347    0.305389    0.754491    0.336527   \n",
      "std       154.295263       0.977824    0.598886    1.088787    0.673617   \n",
      "min         2.000000       0.000000    0.000000    0.000000    0.000000   \n",
      "25%         8.000000       0.000000    0.000000    0.000000    0.000000   \n",
      "50%        12.000000       0.000000    0.000000    0.000000    0.000000   \n",
      "75%        16.000000       1.000000    0.000000    1.000000    0.000000   \n",
      "max      4000.000000       7.000000    4.000000    7.000000    5.000000   \n",
      "\n",
      "        Debt_mfs  Balanced_Funds        ELSS  PMS_accounts  Trading_Accounts  \\\n",
      "count  835.00000      835.000000  835.000000    835.000000        835.000000   \n",
      "mean     0.25988        0.328144    0.380838      0.126946          0.032335   \n",
      "std      0.55469        0.632919    0.764071      0.364069          0.183645   \n",
      "min      0.00000        0.000000    0.000000      0.000000          0.000000   \n",
      "25%      0.00000        0.000000    0.000000      0.000000          0.000000   \n",
      "50%      0.00000        0.000000    0.000000      0.000000          0.000000   \n",
      "75%      0.00000        1.000000    0.000000      0.000000          0.000000   \n",
      "max      3.00000        4.000000    5.000000      2.000000          2.000000   \n",
      "\n",
      "       Speciality_funds   Gold_Fund  \n",
      "count        835.000000  835.000000  \n",
      "mean           0.045509    0.083832  \n",
      "std            0.225132    0.277302  \n",
      "min            0.000000    0.000000  \n",
      "25%            0.000000    0.000000  \n",
      "50%            0.000000    0.000000  \n",
      "75%            0.000000    0.000000  \n",
      "max            2.000000    1.000000  \n"
     ]
    }
   ],
   "source": [
    "print(df.describe())"
   ]
  },
  {
   "cell_type": "code",
   "execution_count": 6,
   "id": "22d278de-53a5-4daf-9279-4427d3f84a01",
   "metadata": {},
   "outputs": [
    {
     "data": {
      "image/png": "[encoded data removed]",
      "text/plain": [
       "<Figure size 432x288 with 1 Axes>"
      ]
     },
     "metadata": {
      "needs_background": "light"
     },
     "output_type": "display_data"
    }
   ],
   "source": [
    "# Visualizing the distribution of the target variable\n",
    "sns.countplot(x='Gold_Fund', data=df)\n",
    "plt.title(\"Distribution of Gold Fund Purchases\")\n",
    "plt.show()"
   ]
  },
  {
   "cell_type": "code",
   "execution_count": 7,
   "id": "565d9430-6dd4-4e50-8521-ddf4282289c9",
   "metadata": {},
   "outputs": [
    {
     "data": {
      "image/png": "[encoded data removed]",
      "text/plain": [
       "<Figure size 864x576 with 2 Axes>"
      ]
     },
     "metadata": {
      "needs_background": "light"
     },
     "output_type": "display_data"
    }
   ],
   "source": [
    "# Checking correlation between features\n",
    "plt.figure(figsize=(12, 8))\n",
    "sns.heatmap(df.corr(), annot=False, cmap=\"coolwarm\", fmt='.2f')\n",
    "plt.title(\"Feature Correlation Heatmap\",fontsize=17)\n",
    "plt.show()"
   ]
  },
  {
   "cell_type": "code",
   "execution_count": 8,
   "id": "61d86806-58ad-4517-bdb8-98586872d39f",
   "metadata": {},
   "outputs": [
    {
     "name": "stdout",
     "output_type": "stream",
     "text": [
      "Variance Inflation Factor (VIF) values:\n",
      "             Feature        VIF\n",
      "0             Gender   2.787871\n",
      "1                AMB   5.375013\n",
      "2       AccountSince  13.567307\n",
      "3   RelationshipSize  25.596130\n",
      "4      AvgMonthlyTxn   1.095692\n",
      "5      DematAccounts   3.459285\n",
      "6             FD_Nos   2.316120\n",
      "7             MF_nos   4.286175\n",
      "8         Equity_mfs   2.389251\n",
      "9           Debt_mfs   2.175312\n",
      "10    Balanced_Funds   2.477976\n",
      "11              ELSS   2.609715\n",
      "12      PMS_accounts   1.889171\n",
      "13  Trading_Accounts   1.710825\n",
      "14  Speciality_funds   1.635832\n"
     ]
    }
   ],
   "source": [
    "# Calculate Variance Inflation Factor (VIF)\n",
    "X = df.drop(columns=['ID', 'Gold_Fund'])  # Removing non-relevant columns\n",
    "vif_data = pd.DataFrame()\n",
    "vif_data['Feature'] = X.columns\n",
    "vif_data['VIF'] = [variance_inflation_factor(X.values, i) for i in range(X.shape[1])]\n",
    "print(\"Variance Inflation Factor (VIF) values:\")\n",
    "print(vif_data)"
   ]
  },
  {
   "cell_type": "markdown",
   "id": "5dacbdff-a6ae-4bfb-b3f5-3d75dff6547c",
   "metadata": {},
   "source": [
    "## Feature Engineering"
   ]
  },
  {
   "cell_type": "code",
   "execution_count": 9,
   "id": "df09254a-6266-4cee-9730-1ace94f5ee61",
   "metadata": {},
   "outputs": [],
   "source": [
    "# Drop features with VIF > 5\n",
    "features_to_keep = vif_data[vif_data['VIF'] <= 5]['Feature'].tolist()\n",
    "X = X[features_to_keep]"
   ]
  },
  {
   "cell_type": "code",
   "execution_count": 10,
   "id": "42d608ab-83dc-4c7e-8f77-3bf2fcedd449",
   "metadata": {},
   "outputs": [
    {
     "data": {
      "text/html": [
       "<div>\n",
       "<style scoped>\n",
       "    .dataframe tbody tr th:only-of-type {\n",
       "        vertical-align: middle;\n",
       "    }\n",
       "\n",
       "    .dataframe tbody tr th {\n",
       "        vertical-align: top;\n",
       "    }\n",
       "\n",
       "    .dataframe thead th {\n",
       "        text-align: right;\n",
       "    }\n",
       "</style>\n",
       "<table border=\"1\" class=\"dataframe\">\n",
       "  <thead>\n",
       "    <tr style=\"text-align: right;\">\n",
       "      <th></th>\n",
       "      <th>Gender</th>\n",
       "      <th>AvgMonthlyTxn</th>\n",
       "      <th>DematAccounts</th>\n",
       "      <th>FD_Nos</th>\n",
       "      <th>MF_nos</th>\n",
       "      <th>Equity_mfs</th>\n",
       "      <th>Debt_mfs</th>\n",
       "      <th>Balanced_Funds</th>\n",
       "      <th>ELSS</th>\n",
       "      <th>PMS_accounts</th>\n",
       "      <th>Trading_Accounts</th>\n",
       "      <th>Speciality_funds</th>\n",
       "    </tr>\n",
       "  </thead>\n",
       "  <tbody>\n",
       "    <tr>\n",
       "      <th>0</th>\n",
       "      <td>1</td>\n",
       "      <td>14</td>\n",
       "      <td>0</td>\n",
       "      <td>1</td>\n",
       "      <td>1</td>\n",
       "      <td>0</td>\n",
       "      <td>0</td>\n",
       "      <td>0</td>\n",
       "      <td>0</td>\n",
       "      <td>0</td>\n",
       "      <td>0</td>\n",
       "      <td>0</td>\n",
       "    </tr>\n",
       "    <tr>\n",
       "      <th>1</th>\n",
       "      <td>1</td>\n",
       "      <td>22</td>\n",
       "      <td>2</td>\n",
       "      <td>1</td>\n",
       "      <td>2</td>\n",
       "      <td>0</td>\n",
       "      <td>1</td>\n",
       "      <td>0</td>\n",
       "      <td>1</td>\n",
       "      <td>1</td>\n",
       "      <td>0</td>\n",
       "      <td>0</td>\n",
       "    </tr>\n",
       "    <tr>\n",
       "      <th>2</th>\n",
       "      <td>1</td>\n",
       "      <td>2</td>\n",
       "      <td>0</td>\n",
       "      <td>0</td>\n",
       "      <td>0</td>\n",
       "      <td>0</td>\n",
       "      <td>0</td>\n",
       "      <td>0</td>\n",
       "      <td>0</td>\n",
       "      <td>0</td>\n",
       "      <td>0</td>\n",
       "      <td>0</td>\n",
       "    </tr>\n",
       "  </tbody>\n",
       "</table>\n",
       "</div>"
      ],
      "text/plain": [
       "   Gender  AvgMonthlyTxn  DematAccounts  FD_Nos  MF_nos  Equity_mfs  Debt_mfs  \\\n",
       "0       1             14              0       1       1           0         0   \n",
       "1       1             22              2       1       2           0         1   \n",
       "2       1              2              0       0       0           0         0   \n",
       "\n",
       "   Balanced_Funds  ELSS  PMS_accounts  Trading_Accounts  Speciality_funds  \n",
       "0               0     0             0                 0                 0  \n",
       "1               0     1             1                 0                 0  \n",
       "2               0     0             0                 0                 0  "
      ]
     },
     "execution_count": 10,
     "metadata": {},
     "output_type": "execute_result"
    }
   ],
   "source": [
    "X.head(3)"
   ]
  },
  {
   "cell_type": "markdown",
   "id": "477ba5ad-60eb-4b60-bcd3-7208607d6f51",
   "metadata": {},
   "source": [
    "## Model Training and Evaluation"
   ]
  },
  {
   "cell_type": "code",
   "execution_count": 13,
   "id": "c1394ebf-8e3b-4de7-bfcf-81a9ba2a7aae",
   "metadata": {},
   "outputs": [
    {
     "data": {
      "text/plain": [
       "0      0\n",
       "1      0\n",
       "2      0\n",
       "3      0\n",
       "5      0\n",
       "      ..\n",
       "868    0\n",
       "869    1\n",
       "870    0\n",
       "871    0\n",
       "873    1\n",
       "Name: Gold_Fund, Length: 835, dtype: int64"
      ]
     },
     "execution_count": 13,
     "metadata": {},
     "output_type": "execute_result"
    }
   ],
   "source": [
    "# Feature-target split\n",
    "y = df['Gold_Fund']"
   ]
  },
  {
   "cell_type": "code",
   "execution_count": 15,
   "id": "e17559fb-3602-47af-aa40-8df09c808b62",
   "metadata": {},
   "outputs": [],
   "source": [
    "# Standardize numerical features\n",
    "scaler = StandardScaler()\n",
    "X_scaled = scaler.fit_transform(X)"
   ]
  },
  {
   "cell_type": "code",
   "execution_count": 16,
   "id": "b79c8072-38c7-4437-869f-2d3a0703c85b",
   "metadata": {},
   "outputs": [],
   "source": [
    "# Split data into train and test sets\n",
    "X_train, X_test, y_train, y_test = train_test_split(X_scaled, y, test_size=0.2, random_state=42)"
   ]
  },
  {
   "cell_type": "code",
   "execution_count": 17,
   "id": "3fda8b2c-b396-4d27-b2e0-f6728847ca00",
   "metadata": {},
   "outputs": [
    {
     "data": {
      "text/html": [
       "<style>#sk-container-id-1 {color: black;}#sk-container-id-1 pre{padding: 0;}#sk-container-id-1 div.sk-toggleable {background-color: white;}#sk-container-id-1 label.sk-toggleable__label {cursor: pointer;display: block;width: 100%;margin-bottom: 0;padding: 0.3em;box-sizing: border-box;text-align: center;}#sk-container-id-1 label.sk-toggleable__label-arrow:before {content: \"▸\";float: left;margin-right: 0.25em;color: #696969;}#sk-container-id-1 label.sk-toggleable__label-arrow:hover:before {color: black;}#sk-container-id-1 div.sk-estimator:hover label.sk-toggleable__label-arrow:before {color: black;}#sk-container-id-1 div.sk-toggleable__content {max-height: 0;max-width: 0;overflow: hidden;text-align: left;background-color: #f0f8ff;}#sk-container-id-1 div.sk-toggleable__content pre {margin: 0.2em;color: black;border-radius: 0.25em;background-color: #f0f8ff;}#sk-container-id-1 input.sk-toggleable__control:checked~div.sk-toggleable__content {max-height: 200px;max-width: 100%;overflow: auto;}#sk-container-id-1 input.sk-toggleable__control:checked~label.sk-toggleable__label-arrow:before {content: \"▾\";}#sk-container-id-1 div.sk-estimator input.sk-toggleable__control:checked~label.sk-toggleable__label {background-color: #d4ebff;}#sk-container-id-1 div.sk-label input.sk-toggleable__control:checked~label.sk-toggleable__label {background-color: #d4ebff;}#sk-container-id-1 input.sk-hidden--visually {border: 0;clip: rect(1px 1px 1px 1px);clip: rect(1px, 1px, 1px, 1px);height: 1px;margin: -1px;overflow: hidden;padding: 0;position: absolute;width: 1px;}#sk-container-id-1 div.sk-estimator {font-family: monospace;background-color: #f0f8ff;border: 1px dotted black;border-radius: 0.25em;box-sizing: border-box;margin-bottom: 0.5em;}#sk-container-id-1 div.sk-estimator:hover {background-color: #d4ebff;}#sk-container-id-1 div.sk-parallel-item::after {content: \"\";width: 100%;border-bottom: 1px solid gray;flex-grow: 1;}#sk-container-id-1 div.sk-label:hover label.sk-toggleable__label {background-color: #d4ebff;}#sk-container-id-1 div.sk-serial::before {content: \"\";position: absolute;border-left: 1px solid gray;box-sizing: border-box;top: 0;bottom: 0;left: 50%;z-index: 0;}#sk-container-id-1 div.sk-serial {display: flex;flex-direction: column;align-items: center;background-color: white;padding-right: 0.2em;padding-left: 0.2em;position: relative;}#sk-container-id-1 div.sk-item {position: relative;z-index: 1;}#sk-container-id-1 div.sk-parallel {display: flex;align-items: stretch;justify-content: center;background-color: white;position: relative;}#sk-container-id-1 div.sk-item::before, #sk-container-id-1 div.sk-parallel-item::before {content: \"\";position: absolute;border-left: 1px solid gray;box-sizing: border-box;top: 0;bottom: 0;left: 50%;z-index: -1;}#sk-container-id-1 div.sk-parallel-item {display: flex;flex-direction: column;z-index: 1;position: relative;background-color: white;}#sk-container-id-1 div.sk-parallel-item:first-child::after {align-self: flex-end;width: 50%;}#sk-container-id-1 div.sk-parallel-item:last-child::after {align-self: flex-start;width: 50%;}#sk-container-id-1 div.sk-parallel-item:only-child::after {width: 0;}#sk-container-id-1 div.sk-dashed-wrapped {border: 1px dashed gray;margin: 0 0.4em 0.5em 0.4em;box-sizing: border-box;padding-bottom: 0.4em;background-color: white;}#sk-container-id-1 div.sk-label label {font-family: monospace;font-weight: bold;display: inline-block;line-height: 1.2em;}#sk-container-id-1 div.sk-label-container {text-align: center;}#sk-container-id-1 div.sk-container {/* jupyter's `normalize.less` sets `[hidden] { display: none; }` but bootstrap.min.css set `[hidden] { display: none !important; }` so we also need the `!important` here to be able to override the default hidden behavior on the sphinx rendered scikit-learn.org. See: https://github.com/scikit-learn/scikit-learn/issues/21755 */display: inline-block !important;position: relative;}#sk-container-id-1 div.sk-text-repr-fallback {display: none;}</style><div id=\"sk-container-id-1\" class=\"sk-top-container\"><div class=\"sk-text-repr-fallback\"><pre>LogisticRegression()</pre><b>In a Jupyter environment, please rerun this cell to show the HTML representation or trust the notebook. <br />On GitHub, the HTML representation is unable to render, please try loading this page with nbviewer.org.</b></div><div class=\"sk-container\" hidden><div class=\"sk-item\"><div class=\"sk-estimator sk-toggleable\"><input class=\"sk-toggleable__control sk-hidden--visually\" id=\"sk-estimator-id-1\" type=\"checkbox\" checked><label for=\"sk-estimator-id-1\" class=\"sk-toggleable__label sk-toggleable__label-arrow\">LogisticRegression</label><div class=\"sk-toggleable__content\"><pre>LogisticRegression()</pre></div></div></div></div></div>"
      ],
      "text/plain": [
       "LogisticRegression()"
      ]
     },
     "execution_count": 17,
     "metadata": {},
     "output_type": "execute_result"
    }
   ],
   "source": [
    "# Train Logistic Regression Model\n",
    "log_reg = LogisticRegression()\n",
    "log_reg.fit(X_train, y_train)"
   ]
  },
  {
   "cell_type": "code",
   "execution_count": 18,
   "id": "b03ef86e-0b07-493f-b214-dc0ea99f9246",
   "metadata": {},
   "outputs": [],
   "source": [
    "# Make predictions\n",
    "y_pred = log_reg.predict(X_test)"
   ]
  },
  {
   "cell_type": "code",
   "execution_count": 23,
   "id": "ca9c5921-254a-4de2-ba77-fef2f37e721f",
   "metadata": {},
   "outputs": [
    {
     "name": "stdout",
     "output_type": "stream",
     "text": [
      "Model Accuracy: 0.89\n",
      "Precision: 0.50\n",
      "Recall: 0.11\n",
      "F1-Score: 0.18\n"
     ]
    }
   ],
   "source": [
    "# Evaluate the model\n",
    "accuracy = accuracy_score(y_test, y_pred)\n",
    "precision = precision_score(y_test, y_pred)\n",
    "recall = recall_score(y_test, y_pred)\n",
    "f1 = f1_score(y_test, y_pred)\n",
    "\n",
    "print(f\"Model Accuracy: {accuracy:.2f}\")\n",
    "print(f\"Precision: {precision:.2f}\")\n",
    "print(f\"Recall: {recall:.2f}\")\n",
    "print(f\"F1-Score: {f1:.2f}\")"
   ]
  },
  {
   "cell_type": "code",
   "execution_count": 22,
   "id": "5d63422e-6632-4072-af93-08723d94568f",
   "metadata": {},
   "outputs": [
    {
     "name": "stdout",
     "output_type": "stream",
     "text": [
      "Classification Report:\n",
      "              precision    recall  f1-score   support\n",
      "\n",
      "           0       0.90      0.99      0.94       149\n",
      "           1       0.50      0.11      0.18        18\n",
      "\n",
      "    accuracy                           0.89       167\n",
      "   macro avg       0.70      0.55      0.56       167\n",
      "weighted avg       0.86      0.89      0.86       167\n",
      "\n",
      "Confusion Matrix:\n",
      "[[147   2]\n",
      " [ 16   2]]\n"
     ]
    }
   ],
   "source": [
    "# Classification report\n",
    "print(\"Classification Report:\")\n",
    "print(classification_report(y_test, y_pred))\n",
    "\n",
    "# Confusion matrix\n",
    "print(\"Confusion Matrix:\")\n",
    "print(confusion_matrix(y_test, y_pred))"
   ]
  },
  {
   "cell_type": "markdown",
   "id": "4d1cfeb5-715e-4518-9283-806ae2190ebf",
   "metadata": {},
   "source": [
    "## Fine tune model"
   ]
  },
  {
   "cell_type": "code",
   "execution_count": null,
   "id": "8a66e5a0-fe37-4ece-8049-663cb82923e2",
   "metadata": {},
   "outputs": [],
   "source": [
    "# False Negatives 16: Most concerning issue. Since most customers don’t buy the Gold Fund, the model learns to predict \"No\" most of the time.\n",
    "# Need to fine tune the Threshold"
   ]
  },
  {
   "cell_type": "code",
   "execution_count": 51,
   "id": "cb691629-1d17-47eb-98a3-102211e015a9",
   "metadata": {},
   "outputs": [],
   "source": [
    "# Get probability predictions\n",
    "y_probs = log_reg.predict_proba(X_test)[:, 1]  # Probabilities for class 1\n",
    "\n",
    "# Tune the decision threshold\n",
    "threshold = 0.3  # Adjust as needed\n",
    "y_pred_adjusted = (y_probs > threshold).astype(int)"
   ]
  },
  {
   "cell_type": "code",
   "execution_count": 52,
   "id": "9359af98-1048-4b19-9403-9ab55780d924",
   "metadata": {},
   "outputs": [
    {
     "name": "stdout",
     "output_type": "stream",
     "text": [
      "Model Accuracy: 0.88\n",
      "Precision: 0.42\n",
      "Recall: 0.28\n",
      "F1-Score: 0.33\n"
     ]
    }
   ],
   "source": [
    "# Evaluate the model with the adjusted threshold\n",
    "accuracy = accuracy_score(y_test, y_pred_adjusted)\n",
    "precision = precision_score(y_test, y_pred_adjusted)\n",
    "recall = recall_score(y_test, y_pred_adjusted)\n",
    "f1 = f1_score(y_test, y_pred_adjusted)\n",
    "\n",
    "print(f\"Model Accuracy: {accuracy:.2f}\")\n",
    "print(f\"Precision: {precision:.2f}\")\n",
    "print(f\"Recall: {recall:.2f}\")\n",
    "print(f\"F1-Score: {f1:.2f}\")"
   ]
  },
  {
   "cell_type": "code",
   "execution_count": 53,
   "id": "5579218c-4a7a-40c6-889e-abefdc4703b4",
   "metadata": {},
   "outputs": [
    {
     "name": "stdout",
     "output_type": "stream",
     "text": [
      "Classification Report:\n",
      "              precision    recall  f1-score   support\n",
      "\n",
      "           0       0.92      0.95      0.93       149\n",
      "           1       0.42      0.28      0.33        18\n",
      "\n",
      "    accuracy                           0.88       167\n",
      "   macro avg       0.67      0.62      0.63       167\n",
      "weighted avg       0.86      0.88      0.87       167\n",
      "\n",
      "Confusion Matrix:\n",
      "[[142   7]\n",
      " [ 13   5]]\n"
     ]
    }
   ],
   "source": [
    "# Classification report\n",
    "print(\"Classification Report:\")\n",
    "print(classification_report(y_test, y_pred_adjusted))\n",
    "\n",
    "# Confusion matrix\n",
    "print(\"Confusion Matrix:\")\n",
    "print(confusion_matrix(y_test, y_pred_adjusted))"
   ]
  },
  {
   "cell_type": "markdown",
   "id": "cb0be9b2-42c2-4af0-b760-00cfc88af762",
   "metadata": {},
   "source": [
    "## Adjust threshold and compare results"
   ]
  },
  {
   "cell_type": "code",
   "execution_count": 65,
   "id": "3403bd7f-12a9-4c62-a6a7-241cef26d89f",
   "metadata": {},
   "outputs": [],
   "source": [
    "# Get probability predictions\n",
    "y_probs_test = log_reg.predict_proba(X_test)[:, 1]  # Probabilities for class 1 in test set\n",
    "y_probs_train = log_reg.predict_proba(X_train)[:, 1]  # Probabilities for class 1 in train set\n",
    "\n",
    "# Tune the decision threshold\n",
    "threshold = 0.35\n",
    "\n",
    "# Predictions for test set\n",
    "y_pred_test_adjusted = (y_probs_test > threshold).astype(int)\n",
    "\n",
    "# Predictions for train set\n",
    "y_pred_train_adjusted = (y_probs_train > threshold).astype(int)"
   ]
  },
  {
   "cell_type": "code",
   "execution_count": 66,
   "id": "8972bf05-07c0-41cb-8a89-c797c7c5e98d",
   "metadata": {},
   "outputs": [
    {
     "name": "stdout",
     "output_type": "stream",
     "text": [
      "Performance on Test Data:\n",
      "Test Accuracy: 0.89\n",
      "Test Precision: 0.44\n",
      "Test Recall: 0.22\n",
      "Test F1-Score: 0.30\n",
      "Classification Report (Test):\n",
      "              precision    recall  f1-score   support\n",
      "\n",
      "           0       0.91      0.97      0.94       149\n",
      "           1       0.44      0.22      0.30        18\n",
      "\n",
      "    accuracy                           0.89       167\n",
      "   macro avg       0.68      0.59      0.62       167\n",
      "weighted avg       0.86      0.89      0.87       167\n",
      "\n",
      "Confusion Matrix (Test):\n",
      "[[144   5]\n",
      " [ 14   4]]\n",
      "Performance on Train Data:\n",
      "Train Accuracy: 0.93\n",
      "Train Precision: 0.64\n",
      "Train Recall: 0.31\n",
      "Train F1-Score: 0.42\n",
      "Classification Report (Train):\n",
      "              precision    recall  f1-score   support\n",
      "\n",
      "           0       0.94      0.99      0.96       616\n",
      "           1       0.64      0.31      0.42        52\n",
      "\n",
      "    accuracy                           0.93       668\n",
      "   macro avg       0.79      0.65      0.69       668\n",
      "weighted avg       0.92      0.93      0.92       668\n",
      "\n",
      "Confusion Matrix (Train):\n",
      "[[607   9]\n",
      " [ 36  16]]\n"
     ]
    }
   ],
   "source": [
    "# Evaluate the model on the test set\n",
    "print(\"Performance on Test Data:\")\n",
    "accuracy_test = accuracy_score(y_test, y_pred_test_adjusted)\n",
    "precision_test = precision_score(y_test, y_pred_test_adjusted)\n",
    "recall_test = recall_score(y_test, y_pred_test_adjusted)\n",
    "f1_test = f1_score(y_test, y_pred_test_adjusted)\n",
    "print(f\"Test Accuracy: {accuracy_test:.2f}\")\n",
    "print(f\"Test Precision: {precision_test:.2f}\")\n",
    "print(f\"Test Recall: {recall_test:.2f}\")\n",
    "print(f\"Test F1-Score: {f1_test:.2f}\")\n",
    "print(\"Classification Report (Test):\")\n",
    "print(classification_report(y_test, y_pred_test_adjusted))\n",
    "print(\"Confusion Matrix (Test):\")\n",
    "print(confusion_matrix(y_test, y_pred_test_adjusted))\n",
    "\n",
    "# Evaluate the model on the train set\n",
    "print(\"Performance on Train Data:\")\n",
    "accuracy_train = accuracy_score(y_train, y_pred_train_adjusted)\n",
    "precision_train = precision_score(y_train, y_pred_train_adjusted)\n",
    "recall_train = recall_score(y_train, y_pred_train_adjusted)\n",
    "f1_train = f1_score(y_train, y_pred_train_adjusted)\n",
    "print(f\"Train Accuracy: {accuracy_train:.2f}\")\n",
    "print(f\"Train Precision: {precision_train:.2f}\")\n",
    "print(f\"Train Recall: {recall_train:.2f}\")\n",
    "print(f\"Train F1-Score: {f1_train:.2f}\")\n",
    "print(\"Classification Report (Train):\")\n",
    "print(classification_report(y_train, y_pred_train_adjusted))\n",
    "print(\"Confusion Matrix (Train):\")\n",
    "print(confusion_matrix(y_train, y_pred_train_adjusted))"
   ]
  },
  {
   "cell_type": "markdown",
   "id": "5fafc91f-d758-41e6-a114-127643772dab",
   "metadata": {},
   "source": [
    "## Balance the dataset (SMOTE)"
   ]
  },
  {
   "cell_type": "code",
   "execution_count": 69,
   "id": "96f16062-f0f0-4368-b574-19148f9535b9",
   "metadata": {},
   "outputs": [],
   "source": [
    "from imblearn.over_sampling import SMOTE"
   ]
  },
  {
   "cell_type": "code",
   "execution_count": 75,
   "id": "8f7e52cd-5de3-48ad-8aa5-734f2828fc20",
   "metadata": {},
   "outputs": [
    {
     "name": "stdout",
     "output_type": "stream",
     "text": [
      "Performance on Test Data:\n",
      "Test Accuracy: 0.58\n",
      "Test Precision: 0.17\n",
      "Test Recall: 0.78\n",
      "Test F1-Score: 0.29\n",
      "Classification Report (Test):\n",
      "              precision    recall  f1-score   support\n",
      "\n",
      "           0       0.95      0.56      0.70       149\n",
      "           1       0.17      0.78      0.29        18\n",
      "\n",
      "    accuracy                           0.58       167\n",
      "   macro avg       0.56      0.67      0.49       167\n",
      "weighted avg       0.87      0.58      0.66       167\n",
      "\n",
      "Confusion Matrix (Test):\n",
      "[[83 66]\n",
      " [ 4 14]]\n",
      "Performance on Train Data:\n",
      "Train Accuracy: 0.68\n",
      "Train Precision: 0.67\n",
      "Train Recall: 0.72\n",
      "Train F1-Score: 0.70\n",
      "Classification Report (Train):\n",
      "              precision    recall  f1-score   support\n",
      "\n",
      "           0       0.70      0.64      0.67       616\n",
      "           1       0.67      0.72      0.70       616\n",
      "\n",
      "    accuracy                           0.68      1232\n",
      "   macro avg       0.69      0.68      0.68      1232\n",
      "weighted avg       0.69      0.68      0.68      1232\n",
      "\n",
      "Confusion Matrix (Train):\n",
      "[[397 219]\n",
      " [170 446]]\n"
     ]
    }
   ],
   "source": [
    "# Apply SMOTE to balance the dataset\n",
    "smote = SMOTE(random_state=42)\n",
    "X_train_resampled, y_train_resampled = smote.fit_resample(X_train, y_train)\n",
    "\n",
    "# Train Logistic Regression Model\n",
    "log_reg = LogisticRegression()\n",
    "log_reg.fit(X_train_resampled, y_train_resampled)\n",
    "\n",
    "# Get probability predictions\n",
    "y_probs_test = log_reg.predict_proba(X_test)[:, 1]  # Probabilities for class 1 in test set\n",
    "y_probs_train = log_reg.predict_proba(X_train_resampled)[:, 1]  # Probabilities for class 1 in train set\n",
    "\n",
    "# Tune the decision threshold\n",
    "threshold = 0.4  # Adjust as needed\n",
    "\n",
    "# Predictions for test set\n",
    "y_pred_test_adjusted = (y_probs_test > threshold).astype(int)\n",
    "\n",
    "# Predictions for train set\n",
    "y_pred_train_adjusted = (y_probs_train > threshold).astype(int)\n",
    "\n",
    "# Evaluate the model on the test set\n",
    "print(\"Performance on Test Data:\")\n",
    "accuracy_test = accuracy_score(y_test, y_pred_test_adjusted)\n",
    "precision_test = precision_score(y_test, y_pred_test_adjusted)\n",
    "recall_test = recall_score(y_test, y_pred_test_adjusted)\n",
    "f1_test = f1_score(y_test, y_pred_test_adjusted)\n",
    "print(f\"Test Accuracy: {accuracy_test:.2f}\")\n",
    "print(f\"Test Precision: {precision_test:.2f}\")\n",
    "print(f\"Test Recall: {recall_test:.2f}\")\n",
    "print(f\"Test F1-Score: {f1_test:.2f}\")\n",
    "print(\"Classification Report (Test):\")\n",
    "print(classification_report(y_test, y_pred_test_adjusted))\n",
    "print(\"Confusion Matrix (Test):\")\n",
    "print(confusion_matrix(y_test, y_pred_test_adjusted))\n",
    "\n",
    "# Evaluate the model on the train set\n",
    "print(\"Performance on Train Data:\")\n",
    "accuracy_train = accuracy_score(y_train_resampled, y_pred_train_adjusted)\n",
    "precision_train = precision_score(y_train_resampled, y_pred_train_adjusted)\n",
    "recall_train = recall_score(y_train_resampled, y_pred_train_adjusted)\n",
    "f1_train = f1_score(y_train_resampled, y_pred_train_adjusted)\n",
    "print(f\"Train Accuracy: {accuracy_train:.2f}\")\n",
    "print(f\"Train Precision: {precision_train:.2f}\")\n",
    "print(f\"Train Recall: {recall_train:.2f}\")\n",
    "print(f\"Train F1-Score: {f1_train:.2f}\")\n",
    "print(\"Classification Report (Train):\")\n",
    "print(classification_report(y_train_resampled, y_pred_train_adjusted))\n",
    "print(\"Confusion Matrix (Train):\")\n",
    "print(confusion_matrix(y_train_resampled, y_pred_train_adjusted))"
   ]
  },
  {
   "cell_type": "code",
   "execution_count": 76,
   "id": "5aaf11f6-e045-4a05-ae57-e43a857c5845",
   "metadata": {},
   "outputs": [],
   "source": [
    "# Detect as many buyers as possible (high recall), so this model is okay"
   ]
  }
 ],
 "metadata": {
  "kernelspec": {
   "display_name": "Python 3 [3.10]",
   "language": "python",
   "name": "python3"
  },
  "language_info": {
   "codemirror_mode": {
    "name": "ipython",
    "version": 3
   },
   "file_extension": ".py",
   "mimetype": "text/x-python",
   "name": "python",
   "nbconvert_exporter": "python",
   "pygments_lexer": "ipython3",
   "version": "3.10.2"
  }
 },
 "nbformat": 4,
 "nbformat_minor": 5
}
