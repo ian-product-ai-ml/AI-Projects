{
 "cells": [
  {
   "cell_type": "markdown",
   "id": "9236a923-32d9-4a77-a562-153a928a7088",
   "metadata": {},
   "source": [
    "## Introduction\n",
    "In this example, I develop and train a deep learning model utilizing the Fashion-MNIST dataset, which comprises 28x28 grayscale images of various clothing items, such as shirts, sneakers, and coats, categorized into 10 distinct classes. The model, a fully connected neural network, is designed to accurately classify these images based on their visual features."
   ]
  },
  {
   "cell_type": "markdown",
   "id": "7e7a588f-8aed-4d3b-ad43-d8b1acf524ca",
   "metadata": {},
   "source": [
    "## Step 1: Import Libraries"
   ]
  },
  {
   "cell_type": "code",
   "execution_count": 1,
   "id": "2976b681-033f-45ab-aca1-37a3feeb8f5d",
   "metadata": {},
   "outputs": [],
   "source": [
    "import torch\n",
    "import torch.nn as nn\n",
    "import torch.optim as optim\n",
    "from torchvision import datasets, transforms\n",
    "from torch.utils.data import DataLoader\n",
    "import matplotlib.pyplot as plt"
   ]
  },
  {
   "cell_type": "markdown",
   "id": "e8367e19-9f28-4338-b8af-1d741d2344af",
   "metadata": {},
   "source": [
    "## Step 2: Load and Prepare Dataset"
   ]
  },
  {
   "cell_type": "code",
   "execution_count": 2,
   "id": "2109f94b-7793-440a-b34f-08697231151d",
   "metadata": {},
   "outputs": [],
   "source": [
    "# Transform: Convert images to tensors & normalize pixel values\n",
    "transform = transforms.Compose([\n",
    "    transforms.ToTensor(),\n",
    "    transforms.Normalize((0.5,), (0.5,))  # mean = 0.5, std = 0.5 for grayscale\n",
    "])"
   ]
  },
  {
   "cell_type": "code",
   "execution_count": 3,
   "id": "20221880-f5af-40a1-8f05-5f425142ce10",
   "metadata": {},
   "outputs": [
    {
     "name": "stdout",
     "output_type": "stream",
     "text": [
      "Downloading http://fashion-mnist.s3-website.eu-central-1.amazonaws.com/train-images-idx3-ubyte.gz\n",
      "Downloading http://fashion-mnist.s3-website.eu-central-1.amazonaws.com/train-images-idx3-ubyte.gz to ./data/FashionMNIST/raw/train-images-idx3-ubyte.gz\n"
     ]
    },
    {
     "name": "stderr",
     "output_type": "stream",
     "text": [
      "100%|██████████| 26421880/26421880 [00:02<00:00, 9000362.95it/s] \n"
     ]
    },
    {
     "name": "stdout",
     "output_type": "stream",
     "text": [
      "Extracting ./data/FashionMNIST/raw/train-images-idx3-ubyte.gz to ./data/FashionMNIST/raw\n",
      "\n",
      "Downloading http://fashion-mnist.s3-website.eu-central-1.amazonaws.com/train-labels-idx1-ubyte.gz\n",
      "Downloading http://fashion-mnist.s3-website.eu-central-1.amazonaws.com/train-labels-idx1-ubyte.gz to ./data/FashionMNIST/raw/train-labels-idx1-ubyte.gz\n"
     ]
    },
    {
     "name": "stderr",
     "output_type": "stream",
     "text": [
      "100%|██████████| 29515/29515 [00:00<00:00, 215518.09it/s]\n"
     ]
    },
    {
     "name": "stdout",
     "output_type": "stream",
     "text": [
      "Extracting ./data/FashionMNIST/raw/train-labels-idx1-ubyte.gz to ./data/FashionMNIST/raw\n",
      "\n",
      "Downloading http://fashion-mnist.s3-website.eu-central-1.amazonaws.com/t10k-images-idx3-ubyte.gz\n",
      "Downloading http://fashion-mnist.s3-website.eu-central-1.amazonaws.com/t10k-images-idx3-ubyte.gz to ./data/FashionMNIST/raw/t10k-images-idx3-ubyte.gz\n"
     ]
    },
    {
     "name": "stderr",
     "output_type": "stream",
     "text": [
      "100%|██████████| 4422102/4422102 [00:01<00:00, 3992430.87it/s]\n"
     ]
    },
    {
     "name": "stdout",
     "output_type": "stream",
     "text": [
      "Extracting ./data/FashionMNIST/raw/t10k-images-idx3-ubyte.gz to ./data/FashionMNIST/raw\n",
      "\n",
      "Downloading http://fashion-mnist.s3-website.eu-central-1.amazonaws.com/t10k-labels-idx1-ubyte.gz\n",
      "Downloading http://fashion-mnist.s3-website.eu-central-1.amazonaws.com/t10k-labels-idx1-ubyte.gz to ./data/FashionMNIST/raw/t10k-labels-idx1-ubyte.gz\n"
     ]
    },
    {
     "name": "stderr",
     "output_type": "stream",
     "text": [
      "100%|██████████| 5148/5148 [00:00<00:00, 33218887.68it/s]\n"
     ]
    },
    {
     "name": "stdout",
     "output_type": "stream",
     "text": [
      "Extracting ./data/FashionMNIST/raw/t10k-labels-idx1-ubyte.gz to ./data/FashionMNIST/raw\n",
      "\n"
     ]
    }
   ],
   "source": [
    "# Download and load FashionMNIST dataset\n",
    "train_dataset = datasets.FashionMNIST(root='./data', train=True, download=True, transform=transform)\n",
    "test_dataset = datasets.FashionMNIST(root='./data', train=False, download=True, transform=transform)"
   ]
  },
  {
   "cell_type": "code",
   "execution_count": 5,
   "id": "fba4a6b4-1a9d-41dc-b518-8e368d4b03ed",
   "metadata": {},
   "outputs": [],
   "source": [
    "# Turn into batches for efficient training and better learning\n",
    "train_loader = DataLoader(train_dataset, batch_size=32, shuffle=True)\n",
    "test_loader = DataLoader(test_dataset, batch_size=32, shuffle=False)"
   ]
  },
  {
   "cell_type": "markdown",
   "id": "cb7da1f2-04f9-4be9-babb-2cd1dc4ded70",
   "metadata": {},
   "source": [
    "## Step 3: Visualize Sample Image"
   ]
  },
  {
   "cell_type": "code",
   "execution_count": 19,
   "id": "82eb6f6c-fca5-4ec0-9f80-14242f3cf67c",
   "metadata": {},
   "outputs": [
    {
     "name": "stdout",
     "output_type": "stream",
     "text": [
      "Label: 3\n"
     ]
    },
    {
     "data": {
      "image/png": "[encoded data removed]",
      "text/plain": [
       "<Figure size 432x288 with 1 Axes>"
      ]
     },
     "metadata": {
      "needs_background": "light"
     },
     "output_type": "display_data"
    }
   ],
   "source": [
    "images, labels = next(iter(train_loader))\n",
    "plt.imshow(images[0].squeeze(), cmap='gray')\n",
    "print(\"Label:\", labels[0].item())  # Label is a number from 0–9"
   ]
  },
  {
   "cell_type": "markdown",
   "id": "76f57822-64f4-4226-ad6f-feffd4670772",
   "metadata": {},
   "source": [
    "### Fashion-MNIST label names\n",
    "| Label | Class Name   |\n",
    "|-------|--------------|\n",
    "| 0     | T-shirt/top  |\n",
    "| 1     | Trouser      |\n",
    "| 2     | Pullover     |\n",
    "| 3     | Dress        |\n",
    "| 4     | Coat         |\n",
    "| 5     | Sandal       |\n",
    "| 6     | Shirt        |\n",
    "| 7     | Sneaker      |\n",
    "| 8     | Bag          |\n",
    "| 9     | Ankle boot   |\n"
   ]
  },
  {
   "cell_type": "markdown",
   "id": "b674f333-c78e-4f37-8702-fd303af52a66",
   "metadata": {},
   "source": [
    "## Step 4: Define a Simple Neural Network"
   ]
  },
  {
   "cell_type": "code",
   "execution_count": 20,
   "id": "cae26a29-423d-485d-a17b-fcbff2172370",
   "metadata": {},
   "outputs": [],
   "source": [
    "class SimpleNN(nn.Module):\n",
    "    def __init__(self):\n",
    "        super(SimpleNN, self).__init__()\n",
    "        self.fc1 = nn.Linear(28*28, 128)  # First hidden layer\n",
    "        self.fc2 = nn.Linear(128, 64)     # Second hidden layer\n",
    "        self.fc3 = nn.Linear(64, 10)      # Output: 10 classes\n",
    "\n",
    "    def forward(self, x):\n",
    "        x = x.view(-1, 28*28)         # Flatten the image (28x28 → 784)\n",
    "        x = torch.relu(self.fc1(x))   # Activation after first layer\n",
    "        x = torch.relu(self.fc2(x))   # Activation after second layer\n",
    "        x = self.fc3(x)               # Output layer (no softmax needed with CrossEntropy)\n",
    "        return x\n",
    "\n",
    "model = SimpleNN()"
   ]
  },
  {
   "cell_type": "markdown",
   "id": "86849b91-0956-45f8-82bf-64d7523d56b8",
   "metadata": {},
   "source": [
    "## Train Model"
   ]
  },
  {
   "cell_type": "code",
   "execution_count": 25,
   "id": "23d3b202-c3b6-4391-9024-cf325851bb7d",
   "metadata": {},
   "outputs": [],
   "source": [
    "# Loss and optimizer\n",
    "criterion = nn.CrossEntropyLoss()\n",
    "optimizer = optim.Adam(model.parameters(), lr=0.001) # Use Adam and set learning rate as 0.001"
   ]
  },
  {
   "cell_type": "code",
   "execution_count": 23,
   "id": "485aa292-770a-49a5-9ef4-f20a6147d6c6",
   "metadata": {},
   "outputs": [
    {
     "name": "stdout",
     "output_type": "stream",
     "text": [
      "Epoch 1, Loss: 0.4998\n",
      "Epoch 2, Loss: 0.3773\n",
      "Epoch 3, Loss: 0.3389\n",
      "Epoch 4, Loss: 0.3156\n",
      "Epoch 5, Loss: 0.2968\n"
     ]
    }
   ],
   "source": [
    "# Training loop\n",
    "epochs = 5\n",
    "for epoch in range(epochs):\n",
    "    running_loss = 0\n",
    "    for images, labels in train_loader:\n",
    "        optimizer.zero_grad()           # Reset gradients\n",
    "        outputs = model(images)         # Forward pass\n",
    "        loss = criterion(outputs, labels)\n",
    "        loss.backward()                 # Backward pass\n",
    "        optimizer.step()                # Update weights\n",
    "\n",
    "        running_loss += loss.item()\n",
    "    \n",
    "    print(f\"Epoch {epoch+1}, Loss: {running_loss/len(train_loader):.4f}\")"
   ]
  },
  {
   "cell_type": "markdown",
   "id": "55541cd8-d66c-4ae5-bb34-226e6676f791",
   "metadata": {},
   "source": [
    "## Evaluate Model"
   ]
  },
  {
   "cell_type": "code",
   "execution_count": 24,
   "id": "359bf02a-0b20-44a1-a4d2-20ea40886fae",
   "metadata": {},
   "outputs": [
    {
     "name": "stdout",
     "output_type": "stream",
     "text": [
      "Accuracy on test set: 87.72%\n"
     ]
    }
   ],
   "source": [
    "correct = 0\n",
    "total = 0\n",
    "\n",
    "model.eval()  # Turn off dropout/batchnorm (if used)\n",
    "\n",
    "with torch.no_grad():  # No need to calculate gradients now\n",
    "    for images, labels in test_loader:\n",
    "        outputs = model(images)\n",
    "        _, predicted = torch.max(outputs, 1)  # Get predicted class\n",
    "        total += labels.size(0)\n",
    "        correct += (predicted == labels).sum().item()\n",
    "\n",
    "print(f\"Accuracy on test set: {100 * correct / total:.2f}%\")"
   ]
  },
  {
   "cell_type": "code",
   "execution_count": null,
   "id": "be833116-3ef9-45f5-9d28-2f353209479b",
   "metadata": {},
   "outputs": [],
   "source": []
  },
  {
   "cell_type": "code",
   "execution_count": null,
   "id": "333ca522-301e-46c3-b8e7-ed6b1e47dca4",
   "metadata": {},
   "outputs": [],
   "source": []
  }
 ],
 "metadata": {
  "kernelspec": {
   "display_name": "Python 3 [3.10]",
   "language": "python",
   "name": "python3"
  },
  "language_info": {
   "codemirror_mode": {
    "name": "ipython",
    "version": 3
   },
   "file_extension": ".py",
   "mimetype": "text/x-python",
   "name": "python",
   "nbconvert_exporter": "python",
   "pygments_lexer": "ipython3",
   "version": "3.10.2"
  }
 },
 "nbformat": 4,
 "nbformat_minor": 5
}
