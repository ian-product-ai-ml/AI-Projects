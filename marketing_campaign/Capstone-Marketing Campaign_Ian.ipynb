{
 "cells": [
  {
   "cell_type": "markdown",
   "id": "32d2744b-915f-4c4c-a80e-3653827c7e76",
   "metadata": {},
   "source": [
    "# Data Import and Cleaning"
   ]
  },
  {
   "cell_type": "code",
   "execution_count": 2,
   "id": "487f87fa-3d7e-4e16-90f5-12ae3a1f0b58",
   "metadata": {},
   "outputs": [],
   "source": [
    "#1) After importing the data, examine variables such as Dt_Customer and Income to verify their accurate importation"
   ]
  },
  {
   "cell_type": "code",
   "execution_count": 3,
   "id": "43b89373-bfb9-418f-ace5-cc1f6ad529bd",
   "metadata": {},
   "outputs": [
    {
     "name": "stdout",
     "output_type": "stream",
     "text": [
      "<class 'pandas.core.frame.DataFrame'>\n",
      "RangeIndex: 2240 entries, 0 to 2239\n",
      "Data columns (total 28 columns):\n",
      " #   Column               Non-Null Count  Dtype \n",
      "---  ------               --------------  ----- \n",
      " 0   ID                   2240 non-null   int64 \n",
      " 1   Year_Birth           2240 non-null   int64 \n",
      " 2   Education            2240 non-null   object\n",
      " 3   Marital_Status       2240 non-null   object\n",
      " 4   Income               2216 non-null   object\n",
      " 5   Kidhome              2240 non-null   int64 \n",
      " 6   Teenhome             2240 non-null   int64 \n",
      " 7   Dt_Customer          2240 non-null   object\n",
      " 8   Recency              2240 non-null   int64 \n",
      " 9   MntWines             2240 non-null   int64 \n",
      " 10  MntFruits            2240 non-null   int64 \n",
      " 11  MntMeatProducts      2240 non-null   int64 \n",
      " 12  MntFishProducts      2240 non-null   int64 \n",
      " 13  MntSweetProducts     2240 non-null   int64 \n",
      " 14  MntGoldProds         2240 non-null   int64 \n",
      " 15  NumDealsPurchases    2240 non-null   int64 \n",
      " 16  NumWebPurchases      2240 non-null   int64 \n",
      " 17  NumCatalogPurchases  2240 non-null   int64 \n",
      " 18  NumStorePurchases    2240 non-null   int64 \n",
      " 19  NumWebVisitsMonth    2240 non-null   int64 \n",
      " 20  AcceptedCmp3         2240 non-null   int64 \n",
      " 21  AcceptedCmp4         2240 non-null   int64 \n",
      " 22  AcceptedCmp5         2240 non-null   int64 \n",
      " 23  AcceptedCmp1         2240 non-null   int64 \n",
      " 24  AcceptedCmp2         2240 non-null   int64 \n",
      " 25  Response             2240 non-null   int64 \n",
      " 26  Complain             2240 non-null   int64 \n",
      " 27  Country              2240 non-null   object\n",
      "dtypes: int64(23), object(5)\n",
      "memory usage: 490.1+ KB\n",
      "None\n",
      "      ID  Year_Birth   Education Marital_Status       Income  Kidhome  \\\n",
      "0   1826        1970  Graduation       Divorced  $84,835.00         0   \n",
      "1      1        1961  Graduation         Single  $57,091.00         0   \n",
      "2  10476        1958  Graduation        Married  $67,267.00         0   \n",
      "3   1386        1967  Graduation       Together  $32,474.00         1   \n",
      "4   5371        1989  Graduation         Single  $21,474.00         1   \n",
      "\n",
      "   Teenhome Dt_Customer  Recency  MntWines  ...  NumStorePurchases  \\\n",
      "0         0   6/16/2014        0       189  ...                  6   \n",
      "1         0   6/15/2014        0       464  ...                  7   \n",
      "2         1   5/13/2014        0       134  ...                  5   \n",
      "3         1   5/11/2014        0        10  ...                  2   \n",
      "4         0    4/8/2014        0         6  ...                  2   \n",
      "\n",
      "   NumWebVisitsMonth  AcceptedCmp3  AcceptedCmp4  AcceptedCmp5  AcceptedCmp1  \\\n",
      "0                  1             0             0             0             0   \n",
      "1                  5             0             0             0             0   \n",
      "2                  2             0             0             0             0   \n",
      "3                  7             0             0             0             0   \n",
      "4                  7             1             0             0             0   \n",
      "\n",
      "   AcceptedCmp2  Response  Complain  Country  \n",
      "0             0         1         0       SP  \n",
      "1             1         1         0       CA  \n",
      "2             0         0         0       US  \n",
      "3             0         0         0      AUS  \n",
      "4             0         1         0       SP  \n",
      "\n",
      "[5 rows x 28 columns]\n"
     ]
    }
   ],
   "source": [
    "import pandas as pd\n",
    "import numpy as np\n",
    "df=pd.read_csv(\"marketing_data.csv\")\n",
    "print(df.info())\n",
    "print(df.head())"
   ]
  },
  {
   "cell_type": "code",
   "execution_count": 4,
   "id": "732c4593-b530-4acd-b190-95917d983fa1",
   "metadata": {},
   "outputs": [
    {
     "name": "stdout",
     "output_type": "stream",
     "text": [
      "count           2216\n",
      "unique          1974\n",
      "top       $7,500.00 \n",
      "freq              12\n",
      "Name: Income, dtype: object\n",
      "Missing values in Income: 24\n"
     ]
    }
   ],
   "source": [
    "#2) There are missing income values for some customers. Conduct missing value imputation, considering that customers with similar education and marital status tend to have comparable yearly incomes, on average. \n",
    "# Look for problem in the column\n",
    "print(df['Income'].describe())\n",
    "print(\"Missing values in Income:\", df['Income'].isnull().sum())"
   ]
  },
  {
   "cell_type": "code",
   "execution_count": 5,
   "id": "cdd8a62f-53bd-47b4-aaa1-53e9f83072a2",
   "metadata": {},
   "outputs": [
    {
     "name": "stdout",
     "output_type": "stream",
     "text": [
      "            Income\n",
      "Education         \n",
      "2n Cycle       200\n",
      "Basic           54\n",
      "Graduation    1116\n",
      "Master         365\n",
      "PhD            481\n",
      "All           2216\n",
      "                Income\n",
      "Marital_Status        \n",
      "Absurd               2\n",
      "Alone                3\n",
      "Divorced           232\n",
      "Married            857\n",
      "Single             471\n",
      "Together           573\n",
      "Widow               76\n",
      "YOLO                 2\n",
      "All               2216\n"
     ]
    }
   ],
   "source": [
    "print(df.pivot_table(index='Education', values='Income', aggfunc='count', margins=True))\n",
    "print(df.pivot_table(index='Marital_Status', values='Income', aggfunc='count', margins=True))"
   ]
  },
  {
   "cell_type": "code",
   "execution_count": 6,
   "id": "c00eb695-863b-4211-bab0-b2e3df96ede2",
   "metadata": {},
   "outputs": [
    {
     "name": "stdout",
     "output_type": "stream",
     "text": [
      "Married     864\n",
      "Together    580\n",
      "Single      480\n",
      "Divorced    232\n",
      "Other        84\n",
      "Name: Marital_Status, dtype: int64\n",
      "Graduation    1127\n",
      "PhD            486\n",
      "Master         370\n",
      "Basic          257\n",
      "Name: Education, dtype: int64\n"
     ]
    }
   ],
   "source": [
    "# Recategorize and clean data format\n",
    "df['Marital_Status'] = df['Marital_Status'].replace(['Absurd', 'Alone', 'YOLO', 'Widow'], 'Other')\n",
    "df['Education'] = df['Education'].replace(['2n Cycle','Basic'], 'Basic')\n",
    "print(df['Marital_Status'].value_counts())\n",
    "print(df['Education'].value_counts())\n",
    "\n",
    "df['Income'] = df['Income'].str.replace(r'[\\$,]', '', regex=True).astype(float)"
   ]
  },
  {
   "cell_type": "code",
   "execution_count": 7,
   "id": "abd03b4c-39a4-4932-b6c0-bafc7911f826",
   "metadata": {},
   "outputs": [
    {
     "name": "stdout",
     "output_type": "stream",
     "text": [
      "Education   Marital_Status\n",
      "Basic       Divorced          47734.833333\n",
      "            Married           41352.980000\n",
      "            Other             46514.000000\n",
      "            Single            41862.185185\n",
      "            Together          40037.142857\n",
      "Graduation  Divorced          54526.042017\n",
      "            Married           50800.258741\n",
      "            Other             55070.351351\n",
      "            Single            51322.182927\n",
      "            Together          55758.480702\n",
      "Master      Divorced          50331.945946\n",
      "            Married           53286.028986\n",
      "            Other             59171.923077\n",
      "            Single            53530.560000\n",
      "            Together          52109.009804\n",
      "PhD         Divorced          53096.615385\n",
      "            Married           58138.031579\n",
      "            Other             58505.111111\n",
      "            Single            53314.614583\n",
      "            Together          56041.422414\n",
      "Name: Income, dtype: float64\n",
      "Missing values in Income after imputation: 0\n"
     ]
    }
   ],
   "source": [
    "# Group Data\n",
    "income_means = df.groupby(['Education', 'Marital_Status'])['Income'].mean()\n",
    "print(income_means)\n",
    "\n",
    "#Impute function\n",
    "def impute_income(row):\n",
    "    if pd.isnull(row['Income']): #Only change if income is null\n",
    "        return income_means[row['Education'], row['Marital_Status']] #Use group mean\n",
    "    return row['Income'] # Keep original value if not null\n",
    "\n",
    "df['Income'] = df.apply(impute_income, axis=1)\n",
    "\n",
    "#Verify result\n",
    "print(\"Missing values in Income after imputation:\", df['Income'].isnull().sum())"
   ]
  },
  {
   "cell_type": "markdown",
   "id": "c0f57996-ef05-403b-b206-87e6e76ba7a5",
   "metadata": {},
   "source": [
    "# Create variables"
   ]
  },
  {
   "cell_type": "code",
   "execution_count": 8,
   "id": "ec07d082-89a6-4dc5-b16d-42c8507e5609",
   "metadata": {},
   "outputs": [
    {
     "data": {
      "text/html": [
       "<div>\n",
       "<style scoped>\n",
       "    .dataframe tbody tr th:only-of-type {\n",
       "        vertical-align: middle;\n",
       "    }\n",
       "\n",
       "    .dataframe tbody tr th {\n",
       "        vertical-align: top;\n",
       "    }\n",
       "\n",
       "    .dataframe thead th {\n",
       "        text-align: right;\n",
       "    }\n",
       "</style>\n",
       "<table border=\"1\" class=\"dataframe\">\n",
       "  <thead>\n",
       "    <tr style=\"text-align: right;\">\n",
       "      <th></th>\n",
       "      <th>Total_Children</th>\n",
       "      <th>Age</th>\n",
       "      <th>Total_Spending</th>\n",
       "      <th>Total_Purchases</th>\n",
       "    </tr>\n",
       "  </thead>\n",
       "  <tbody>\n",
       "    <tr>\n",
       "      <th>0</th>\n",
       "      <td>0</td>\n",
       "      <td>54</td>\n",
       "      <td>1190</td>\n",
       "      <td>14</td>\n",
       "    </tr>\n",
       "    <tr>\n",
       "      <th>1</th>\n",
       "      <td>0</td>\n",
       "      <td>63</td>\n",
       "      <td>577</td>\n",
       "      <td>17</td>\n",
       "    </tr>\n",
       "    <tr>\n",
       "      <th>2</th>\n",
       "      <td>1</td>\n",
       "      <td>66</td>\n",
       "      <td>251</td>\n",
       "      <td>10</td>\n",
       "    </tr>\n",
       "    <tr>\n",
       "      <th>3</th>\n",
       "      <td>2</td>\n",
       "      <td>57</td>\n",
       "      <td>11</td>\n",
       "      <td>3</td>\n",
       "    </tr>\n",
       "    <tr>\n",
       "      <th>4</th>\n",
       "      <td>1</td>\n",
       "      <td>35</td>\n",
       "      <td>91</td>\n",
       "      <td>6</td>\n",
       "    </tr>\n",
       "  </tbody>\n",
       "</table>\n",
       "</div>"
      ],
      "text/plain": [
       "   Total_Children  Age  Total_Spending  Total_Purchases\n",
       "0               0   54            1190               14\n",
       "1               0   63             577               17\n",
       "2               1   66             251               10\n",
       "3               2   57              11                3\n",
       "4               1   35              91                6"
      ]
     },
     "execution_count": 8,
     "metadata": {},
     "output_type": "execute_result"
    }
   ],
   "source": [
    "from datetime import datetime\n",
    "# Create total number of children\n",
    "df['Total_Children'] = df['Kidhome'] + df['Teenhome']\n",
    "\n",
    "#Create age\n",
    "df['Age'] = datetime.now().year - df['Year_Birth']\n",
    "\n",
    "#Create total spending\n",
    "spending_columns = ['MntWines', 'MntFruits', 'MntMeatProducts', 'MntFishProducts', 'MntSweetProducts', 'MntGoldProds']\n",
    "df['Total_Spending'] = df[spending_columns].sum(axis=1)\n",
    "\n",
    "#Create total purchase across channeles\n",
    "purchase_columns = ['NumWebPurchases', 'NumCatalogPurchases', 'NumStorePurchases']\n",
    "df['Total_Purchases'] = df[purchase_columns].sum(axis=1)\n",
    "\n",
    "df[['Total_Children', 'Age', 'Total_Spending', 'Total_Purchases']].head()"
   ]
  },
  {
   "cell_type": "markdown",
   "id": "417f9a67-f8d4-4f83-847a-7d3c3083caab",
   "metadata": {},
   "source": [
    "# Plots and Histograms"
   ]
  },
  {
   "cell_type": "code",
   "execution_count": 9,
   "id": "710f1aec-1b46-4d7c-a660-cdb31a15df3c",
   "metadata": {},
   "outputs": [
    {
     "data": {
      "image/png": "[encoded data removed]",
      "text/plain": [
       "<Figure size 576x288 with 1 Axes>"
      ]
     },
     "metadata": {
      "needs_background": "light"
     },
     "output_type": "display_data"
    },
    {
     "data": {
      "image/png": "[encoded data removed]",
      "text/plain": [
       "<Figure size 576x288 with 1 Axes>"
      ]
     },
     "metadata": {
      "needs_background": "light"
     },
     "output_type": "display_data"
    },
    {
     "data": {
      "image/png": "[encoded data removed]",
      "text/plain": [
       "<Figure size 576x288 with 1 Axes>"
      ]
     },
     "metadata": {
      "needs_background": "light"
     },
     "output_type": "display_data"
    },
    {
     "data": {
      "image/png": "[encoded data removed]",
      "text/plain": [
       "<Figure size 576x288 with 1 Axes>"
      ]
     },
     "metadata": {
      "needs_background": "light"
     },
     "output_type": "display_data"
    },
    {
     "data": {
      "image/png": "[encoded data removed]",
      "text/plain": [
       "<Figure size 576x288 with 1 Axes>"
      ]
     },
     "metadata": {
      "needs_background": "light"
     },
     "output_type": "display_data"
    },
    {
     "data": {
      "image/png": "[encoded data removed]",
      "text/plain": [
       "<Figure size 576x288 with 1 Axes>"
      ]
     },
     "metadata": {
      "needs_background": "light"
     },
     "output_type": "display_data"
    }
   ],
   "source": [
    "# Generate box plots and histograms to gain insights into the distributions and identify outliers. Implement outlier treatment as needed\n",
    "import matplotlib.pyplot as plt\n",
    "\n",
    "columns_to_analyze = ['Income', 'Total_Spending', 'Total_Purchases']\n",
    "for column in columns_to_analyze:\n",
    "    # Box plot\n",
    "    plt.figure(figsize=(8, 4))\n",
    "    plt.boxplot(df[column])\n",
    "    plt.title(f'Box Plot of {column}')\n",
    "    plt.show()\n",
    "    \n",
    "    # Histogram\n",
    "    plt.figure(figsize=(8, 4))\n",
    "    plt.hist(df[column], bins=20, edgecolor='black')\n",
    "    plt.title(f'Histogram of {column}')\n",
    "    plt.xlabel(column)\n",
    "    plt.ylabel('Frequency')\n",
    "    plt.show()"
   ]
  },
  {
   "cell_type": "code",
   "execution_count": 10,
   "id": "414db726-0d0e-4dc1-897e-36e8ed529d83",
   "metadata": {},
   "outputs": [
    {
     "name": "stdout",
     "output_type": "stream",
     "text": [
      "Income Outliers:\n",
      "325     157146.0\n",
      "497     160803.0\n",
      "527     666666.0\n",
      "731     162397.0\n",
      "853     157733.0\n",
      "1826    153924.0\n",
      "1925    156924.0\n",
      "2204    157243.0\n",
      "Name: Income, dtype: float64\n",
      "Total_Spending Outliers:\n",
      "671     2525\n",
      "672     2525\n",
      "1026    2486\n",
      "1404    2524\n",
      "1864    2440\n",
      "Name: Total_Spending, dtype: int64\n",
      "Total_Purchases Outliers:\n",
      "Series([], Name: Total_Purchases, dtype: int64)\n"
     ]
    }
   ],
   "source": [
    "# detect outliers using zscore method\n",
    "from scipy.stats import zscore\n",
    "\n",
    "for column in columns_to_analyze:\n",
    "    z_scores = zscore(df[column])  # Calculate z-scores\n",
    "    outliers = df[column][(z_scores < -3) | (z_scores > 3)]  # Find values with z-score > 3 or < -3\n",
    "    print(f'{column} Outliers:')\n",
    "    print(outliers)"
   ]
  },
  {
   "cell_type": "code",
   "execution_count": 11,
   "id": "8dd68c2d-e522-42d8-adb3-4a6c0e31d175",
   "metadata": {},
   "outputs": [
    {
     "name": "stdout",
     "output_type": "stream",
     "text": [
      "Income: Capped at [-22888.15939373651, 127367.27421364817]\n",
      "Total_Spending: Capped at [-1200.9496497471885, 2412.546078318617]\n",
      "Total_Purchases: Capped at [-9.080168659922457, 34.1542758027796]\n",
      "After Outlier Treatment:\n",
      "              Income  Total_Spending  Total_Purchases\n",
      "count    2240.000000     2240.000000      2240.000000\n",
      "mean    51902.995889      605.603005        12.537054\n",
      "std     21061.021054      601.646800         7.205741\n",
      "min      1730.000000        5.000000         0.000000\n",
      "25%     35538.750000       68.750000         6.000000\n",
      "50%     51371.000000      396.000000        12.000000\n",
      "75%     68289.750000     1045.500000        18.000000\n",
      "max    127367.274214     2412.546078        32.000000\n"
     ]
    }
   ],
   "source": [
    "# Treat Outliers\n",
    "def treat_outliers_zscore(df, column, threshold=3):\n",
    "    # Calculate z-scores\n",
    "    z_scores = zscore(df[column])\n",
    "\n",
    "    # Identify upper and lower bounds\n",
    "    upper_bound = df[column].mean() + threshold * df[column].std()\n",
    "    lower_bound = df[column].mean() - threshold * df[column].std()\n",
    "\n",
    "    # Cap values outside the range [-threshold, threshold]\n",
    "    df[column] = df[column].clip(lower=lower_bound, upper=upper_bound)\n",
    "\n",
    "    print(f'{column}: Capped at [{lower_bound}, {upper_bound}]')\n",
    "    \n",
    "# Apply function to columns_to_analyze\n",
    "for column in columns_to_analyze:\n",
    "    treat_outliers_zscore(df, column)\n",
    "    \n",
    "print(\"After Outlier Treatment:\")\n",
    "print(df[columns_to_analyze].describe())"
   ]
  },
  {
   "cell_type": "markdown",
   "id": "824764c1-3f10-48a8-88d3-cad0d9096555",
   "metadata": {},
   "source": [
    "# Encoding"
   ]
  },
  {
   "cell_type": "code",
   "execution_count": 12,
   "id": "2a8344da-8ebb-49d0-abc7-7cff48381f1e",
   "metadata": {},
   "outputs": [
    {
     "name": "stdout",
     "output_type": "stream",
     "text": [
      "2    1127\n",
      "4     486\n",
      "3     370\n",
      "1     257\n",
      "Name: Education_Ordinal, dtype: int64\n"
     ]
    }
   ],
   "source": [
    "# Apply ordinal and one-hot encoding based on the various types of categorical variables\n",
    "# Apply ordinal encoding for 'Education'\n",
    "education_map = {\n",
    "    'Basic': 1,\n",
    "    'Graduation': 2,\n",
    "    'Master': 3,\n",
    "    'PhD': 4\n",
    "}\n",
    "df['Education_Ordinal'] = df['Education'].map(education_map)\n",
    "\n",
    "# Verify the encoding\n",
    "print(df['Education_Ordinal'].value_counts())\n"
   ]
  },
  {
   "cell_type": "code",
   "execution_count": 13,
   "id": "59274b96-491f-4210-95cd-4309fa3e4611",
   "metadata": {},
   "outputs": [
    {
     "name": "stdout",
     "output_type": "stream",
     "text": [
      "      ID  Year_Birth   Education Marital_Status   Income  Kidhome  Teenhome  \\\n",
      "0   1826        1970  Graduation       Divorced  84835.0        0         0   \n",
      "1      1        1961  Graduation         Single  57091.0        0         0   \n",
      "2  10476        1958  Graduation        Married  67267.0        0         1   \n",
      "3   1386        1967  Graduation       Together  32474.0        1         1   \n",
      "4   5371        1989  Graduation         Single  21474.0        1         0   \n",
      "\n",
      "  Dt_Customer  Recency  MntWines  ...  Total_Children  Age  Total_Spending  \\\n",
      "0   6/16/2014        0       189  ...               0   54          1190.0   \n",
      "1   6/15/2014        0       464  ...               0   63           577.0   \n",
      "2   5/13/2014        0       134  ...               1   66           251.0   \n",
      "3   5/11/2014        0        10  ...               2   57            11.0   \n",
      "4    4/8/2014        0         6  ...               1   35            91.0   \n",
      "\n",
      "   Total_Purchases  Education_Ordinal  Marital_Divorced  Marital_Married  \\\n",
      "0               14                  2                 1                0   \n",
      "1               17                  2                 0                0   \n",
      "2               10                  2                 0                1   \n",
      "3                3                  2                 0                0   \n",
      "4                6                  2                 0                0   \n",
      "\n",
      "   Marital_Other  Marital_Single  Marital_Together  \n",
      "0              0               0                 0  \n",
      "1              0               1                 0  \n",
      "2              0               0                 0  \n",
      "3              0               0                 1  \n",
      "4              0               1                 0  \n",
      "\n",
      "[5 rows x 38 columns]\n"
     ]
    }
   ],
   "source": [
    "# Apply one-hot encoding for 'Marital_Status'\n",
    "marital_status_encoded = pd.get_dummies(df['Marital_Status'], prefix='Marital')\n",
    "\n",
    "# Merge the encoded columns into the original DataFrame\n",
    "df = pd.concat([df, marital_status_encoded], axis=1)\n",
    "\n",
    "# Verify the encoding\n",
    "print(df.head())"
   ]
  },
  {
   "cell_type": "markdown",
   "id": "b1d141a4-471f-4ce0-98b7-a0bae77bcabd",
   "metadata": {},
   "source": [
    "# Heat Map"
   ]
  },
  {
   "cell_type": "code",
   "execution_count": 14,
   "id": "e816cd41-bf45-4b5a-9082-fe9a5ccf25f3",
   "metadata": {},
   "outputs": [
    {
     "data": {
      "image/png": "[encoded data removed]",
      "text/plain": [
       "<Figure size 720x576 with 2 Axes>"
      ]
     },
     "metadata": {
      "needs_background": "light"
     },
     "output_type": "display_data"
    }
   ],
   "source": [
    "# Generate a heatmap to illustrate the correlation between different pairs of variables\n",
    "import seaborn as sns\n",
    "import matplotlib.pyplot as plt\n",
    "\n",
    "# Step 1: Select specific columns to reduce clutter\n",
    "columns_to_include = ['Income', 'Age', 'Total_Spending', 'Total_Purchases', 'Total_Children','Education_Ordinal']\n",
    "correlation_matrix = df[columns_to_include].corr()\n",
    "\n",
    "# Step 2: Plot the heatmap\n",
    "plt.figure(figsize=(10, 8))  # Adjust the figure size\n",
    "sns.heatmap(correlation_matrix, annot=True, cmap='coolwarm', fmt=\".2f\")\n",
    "plt.title('Heatmap of Correlation Matrix')\n",
    "plt.show()"
   ]
  },
  {
   "cell_type": "markdown",
   "id": "be93ff6a-0bce-46a2-afd5-5846c9e7fe03",
   "metadata": {},
   "source": [
    "# Test Hypotheses"
   ]
  },
  {
   "cell_type": "code",
   "execution_count": 15,
   "id": "c802cb09-5196-4078-b8a0-f66cf6abda65",
   "metadata": {},
   "outputs": [
    {
     "data": {
      "text/plain": [
       "' \\nHypo 1:\\nOlder individuals may not possess the same level of technological proficiency and may, therefore, \\nlean toward traditional in-store shopping preferences.\\n'"
      ]
     },
     "execution_count": 15,
     "metadata": {},
     "output_type": "execute_result"
    }
   ],
   "source": [
    "\"\"\" \n",
    "Hypo 1:\n",
    "Older individuals may not possess the same level of technological proficiency and may, therefore, \n",
    "lean toward traditional in-store shopping preferences.\n",
    "\"\"\""
   ]
  },
  {
   "cell_type": "code",
   "execution_count": 16,
   "id": "035ab9b5-4823-4ef8-8633-38334b0f1209",
   "metadata": {},
   "outputs": [
    {
     "name": "stdout",
     "output_type": "stream",
     "text": [
      "Hypotheses:\n",
      "H0: No significant difference in in-store purchases across age groups.\n",
      "H1: Significant differences in in-store purchases across age groups.\n",
      "\n",
      "ANOVA Results: F-statistic = 21.76, p-value = 0.000\n",
      "Conclusion: Reject H0. Significant differences exist in in-store purchases across age groups.\n"
     ]
    }
   ],
   "source": [
    "import scipy.stats as stats\n",
    "\n",
    "# Step 1: Create Age Groups (Simplified)\n",
    "df['Age_Group'] = pd.cut(df['Age'], bins=[0, 30, 60, 100], labels=['<30', '30-60', '>60'])\n",
    "\n",
    "# Step 2: Perform ANOVA Test\n",
    "anova_result = stats.f_oneway(\n",
    "    df[df['Age_Group'] == '<30']['NumStorePurchases'],\n",
    "    df[df['Age_Group'] == '30-60']['NumStorePurchases'],\n",
    "    df[df['Age_Group'] == '>60']['NumStorePurchases']\n",
    ")\n",
    "\n",
    "# Step 3: Print Hypotheses and Results\n",
    "print(\"Hypotheses:\")\n",
    "print(\"H0: No significant difference in in-store purchases across age groups.\")\n",
    "print(\"H1: Significant differences in in-store purchases across age groups.\")\n",
    "\n",
    "print(f\"\\nANOVA Results: F-statistic = {anova_result.statistic:.2f}, p-value = {anova_result.pvalue:.3f}\")\n",
    "\n",
    "# Step 4: Interpret Results\n",
    "if anova_result.pvalue < 0.05:\n",
    "    print(\"Conclusion: Reject H0. Significant differences exist in in-store purchases across age groups.\")\n",
    "else:\n",
    "    print(\"Conclusion: Fail to reject H0. No significant differences in in-store purchases across age groups.\")"
   ]
  },
  {
   "cell_type": "code",
   "execution_count": 17,
   "id": "45762950-1b3c-46d8-bf08-f268e5b00775",
   "metadata": {},
   "outputs": [
    {
     "data": {
      "text/plain": [
       "'\\nHypo 2:\\nCustomers with children likely experience time constraints, making online shopping a more convenient option.\\n'"
      ]
     },
     "execution_count": 17,
     "metadata": {},
     "output_type": "execute_result"
    }
   ],
   "source": [
    "\"\"\"\n",
    "Hypo 2:\n",
    "Customers with children likely experience time constraints, making online shopping a more convenient option.\n",
    "\"\"\""
   ]
  },
  {
   "cell_type": "code",
   "execution_count": 18,
   "id": "e28cfbc8-3719-47ba-ada1-c28ec8fa2b67",
   "metadata": {},
   "outputs": [
    {
     "name": "stdout",
     "output_type": "stream",
     "text": [
      "Hypotheses:\n",
      "H0: No significant correlation between Total_Children and NumWebPurchases.\n",
      "H1: Significant correlation exists between Total_Children and NumWebPurchases.\n",
      "\n",
      "Correlation Results: r = -0.15, p-value = 0.000\n",
      "Conclusion: Reject H0. Significant correlation exists between Total_Children and NumWebPurchases.\n"
     ]
    }
   ],
   "source": [
    "# Perform Pearson correlation test\n",
    "correlation, pvalue = stats.pearsonr(df['Total_Children'], df['NumWebPurchases'])\n",
    "\n",
    "# Print hypotheses and results\n",
    "print(\"Hypotheses:\")\n",
    "print(\"H0: No significant correlation between Total_Children and NumWebPurchases.\")\n",
    "print(\"H1: Significant correlation exists between Total_Children and NumWebPurchases.\")\n",
    "\n",
    "print(f\"\\nCorrelation Results: r = {correlation:.2f}, p-value = {pvalue:.3f}\")\n",
    "\n",
    "# Interpret results\n",
    "if pvalue < 0.05:\n",
    "    print(\"Conclusion: Reject H0. Significant correlation exists between Total_Children and NumWebPurchases.\")\n",
    "else:\n",
    "    print(\"Conclusion: Fail to reject H0. No significant correlation between Total_Children and NumWebPurchases.\")"
   ]
  },
  {
   "cell_type": "code",
   "execution_count": 19,
   "id": "457c1679-5dd3-4af7-95c5-f06af3647e34",
   "metadata": {},
   "outputs": [
    {
     "data": {
      "text/plain": [
       "'\\nHypo 3:\\nSales at physical stores may face the risk of cannibalization by alternative distribution channels.\\n'"
      ]
     },
     "execution_count": 19,
     "metadata": {},
     "output_type": "execute_result"
    }
   ],
   "source": [
    "\"\"\"\n",
    "Hypo 3:\n",
    "Sales at physical stores may face the risk of cannibalization by alternative distribution channels.\n",
    "\"\"\""
   ]
  },
  {
   "cell_type": "code",
   "execution_count": 20,
   "id": "6b769ebc-cecd-45bc-92a3-2d71e33f60d9",
   "metadata": {},
   "outputs": [
    {
     "name": "stdout",
     "output_type": "stream",
     "text": [
      "Hypotheses:\n",
      "H0: No significant relationship between NumStorePurchases and alternative distribution channels (NumWebPurchases, NumCatalogPurchases).\n",
      "H1: Significant negative relationship exists between NumStorePurchases and alternative distribution channels.\n",
      "\n",
      "Store vs Web Purchases: r = 0.50, p-value = 0.000\n",
      "Store vs Catalog Purchases: r = 0.52, p-value = 0.000\n",
      "\n",
      "Conclusion: Reject H0 for Store vs Web Purchases. Significant negative relationship exists between Store and Web purchases.\n",
      "Conclusion: Reject H0 for Store vs Catalog Purchases. Significant negative relationship exists between Store and Catalog purchases.\n"
     ]
    }
   ],
   "source": [
    "import scipy.stats as stats\n",
    "\n",
    "# Step 1: Correlation between store purchases and web/catalog purchases\n",
    "correlation_store_web, pvalue_store_web = stats.pearsonr(df['NumStorePurchases'], df['NumWebPurchases'])\n",
    "correlation_store_catalog, pvalue_store_catalog = stats.pearsonr(df['NumStorePurchases'], df['NumCatalogPurchases'])\n",
    "\n",
    "# Step 2: Print hypotheses and results\n",
    "print(\"Hypotheses:\")\n",
    "print(\"H0: No significant relationship between NumStorePurchases and alternative distribution channels (NumWebPurchases, NumCatalogPurchases).\")\n",
    "print(\"H1: Significant negative relationship exists between NumStorePurchases and alternative distribution channels.\")\n",
    "\n",
    "# Results for Store vs Web Purchases\n",
    "print(f\"\\nStore vs Web Purchases: r = {correlation_store_web:.2f}, p-value = {pvalue_store_web:.3f}\")\n",
    "# Results for Store vs Catalog Purchases\n",
    "print(f\"Store vs Catalog Purchases: r = {correlation_store_catalog:.2f}, p-value = {pvalue_store_catalog:.3f}\")\n",
    "\n",
    "# Step 3: Interpret Results\n",
    "if pvalue_store_web < 0.05:\n",
    "    print(\"\\nConclusion: Reject H0 for Store vs Web Purchases. Significant negative relationship exists between Store and Web purchases.\")\n",
    "else:\n",
    "    print(\"\\nConclusion: Fail to reject H0 for Store vs Web Purchases. No significant relationship between Store and Web purchases.\")\n",
    "\n",
    "if pvalue_store_catalog < 0.05:\n",
    "    print(\"Conclusion: Reject H0 for Store vs Catalog Purchases. Significant negative relationship exists between Store and Catalog purchases.\")\n",
    "else:\n",
    "    print(\"Conclusion: Fail to reject H0 for Store vs Catalog Purchases. No significant relationship between Store and Catalog purchases.\")\n"
   ]
  },
  {
   "cell_type": "code",
   "execution_count": 21,
   "id": "ba56b856-e293-4aee-99dc-b2f88ec45554",
   "metadata": {},
   "outputs": [
    {
     "data": {
      "text/plain": [
       "'\\nDoes the United States significantly outperform the rest of the world in total purchase volumes?\\n'"
      ]
     },
     "execution_count": 21,
     "metadata": {},
     "output_type": "execute_result"
    }
   ],
   "source": [
    "\"\"\"\n",
    "Does the United States significantly outperform the rest of the world in total purchase volumes?\n",
    "\"\"\""
   ]
  },
  {
   "cell_type": "code",
   "execution_count": 22,
   "id": "24bdc3da-4670-485c-94ba-5ca9af32cc97",
   "metadata": {},
   "outputs": [
    {
     "name": "stdout",
     "output_type": "stream",
     "text": [
      "Hypotheses:\n",
      "H0: No significant difference in total purchase volumes between the United States and the rest of the world.\n",
      "H1: The United States significantly outperforms the rest of the world in total purchase volumes.\n",
      "\n",
      "T-test Results: t-statistic = 1.47, p-value = 0.145\n",
      "Conclusion: Fail to reject H0. No significant difference in total purchase volumes between the United States and the rest of the world.\n"
     ]
    }
   ],
   "source": [
    "# Step 1: Split the data into two groups: United States and Rest of the World\n",
    "us_data = df[df['Country'] == 'US']['Total_Purchases']\n",
    "non_us_data = df[df['Country'] != 'US']['Total_Purchases']\n",
    "\n",
    "# Step 2: Perform a t-test to compare total purchases between the US and the rest of the world\n",
    "t_stat, p_value = stats.ttest_ind(us_data, non_us_data, equal_var=False)\n",
    "\n",
    "# Step 3: Print hypotheses and results\n",
    "print(\"Hypotheses:\")\n",
    "print(\"H0: No significant difference in total purchase volumes between the United States and the rest of the world.\")\n",
    "print(\"H1: The United States significantly outperforms the rest of the world in total purchase volumes.\")\n",
    "\n",
    "print(f\"\\nT-test Results: t-statistic = {t_stat:.2f}, p-value = {p_value:.3f}\")\n",
    "\n",
    "# Step 4: Interpret Results\n",
    "if p_value < 0.05:\n",
    "    print(\"Conclusion: Reject H0. The United States significantly outperforms the rest of the world in total purchase volumes.\")\n",
    "else:\n",
    "    print(\"Conclusion: Fail to reject H0. No significant difference in total purchase volumes between the United States and the rest of the world.\")"
   ]
  },
  {
   "cell_type": "markdown",
   "id": "f449e1dc-37b3-4cde-a5ca-244a25786f04",
   "metadata": {},
   "source": [
    "# Visualization"
   ]
  },
  {
   "cell_type": "code",
   "execution_count": 23,
   "id": "d4f82510-2511-46c1-b78d-09b8aa6695be",
   "metadata": {},
   "outputs": [
    {
     "data": {
      "image/png": "[encoded data removed]",
      "text/plain": [
       "<Figure size 720x432 with 1 Axes>"
      ]
     },
     "metadata": {
      "needs_background": "light"
     },
     "output_type": "display_data"
    }
   ],
   "source": [
    "# Identify the top-performing products and those with the lowest revenue.\n",
    "\n",
    "# List of columns related to products\n",
    "product_columns = ['MntWines', 'MntFruits', 'MntMeatProducts', 'MntFishProducts', 'MntSweetProducts', 'MntGoldProds']\n",
    "\n",
    "# Calculate total revenue for each product\n",
    "product_revenue = df[product_columns].sum()\n",
    "\n",
    "# Create a dictionary to map the original product names to new names\n",
    "product_labels = {\n",
    "    'MntWines': 'Wines',\n",
    "    'MntFruits': 'Fruits',\n",
    "    'MntMeatProducts': 'Meat',\n",
    "    'MntFishProducts': 'Fish',\n",
    "    'MntSweetProducts': 'Sweets',\n",
    "    'MntGoldProds': 'Gold'\n",
    "}\n",
    "\n",
    "# Rename the product columns for the bar chart\n",
    "product_revenue = product_revenue.rename(product_labels)\n",
    "product_revenue = product_revenue.sort_values(ascending=False)\n",
    "\n",
    "# Plotting a bar chart for total revenue per product\n",
    "plt.figure(figsize=(10, 6))\n",
    "product_revenue.plot(kind='bar', color='lightgreen')\n",
    "plt.title('Total Revenue per Product')\n",
    "plt.xlabel('Product')\n",
    "plt.ylabel('Total Revenue')\n",
    "plt.xticks(rotation=45)\n",
    "plt.show()"
   ]
  },
  {
   "cell_type": "code",
   "execution_count": 24,
   "id": "22817232-0fed-48f5-9a23-91d7a00df9a6",
   "metadata": {},
   "outputs": [
    {
     "data": {
      "image/png": "[encoded data removed]",
      "text/plain": [
       "<Figure size 576x432 with 1 Axes>"
      ]
     },
     "metadata": {
      "needs_background": "light"
     },
     "output_type": "display_data"
    },
    {
     "name": "stdout",
     "output_type": "stream",
     "text": [
      "correlation coefficient: -0.02\n"
     ]
    }
   ],
   "source": [
    "# Examine if there is a correlation between customers' age and the acceptance rate of the last campaign.\n",
    "\n",
    "\n",
    "\n",
    "plt.figure(figsize=(8, 6))\n",
    "sns.regplot(x='Age', y='Response', data=df, scatter_kws={'color': 'blue'}, line_kws={'color': 'red'})\n",
    "plt.title('Age vs Campaign Acceptance Rate')\n",
    "plt.xlabel('Age')\n",
    "plt.ylabel('Campaign Acceptance (Response)')\n",
    "plt.show()\n",
    "\n",
    "correlation = df['Age'].corr(df['Response'])\n",
    "print(f\"correlation coefficient: {correlation:.2f}\")"
   ]
  },
  {
   "cell_type": "code",
   "execution_count": 25,
   "id": "6602d439-d9c5-4460-a7fb-564dc2a208c3",
   "metadata": {},
   "outputs": [
    {
     "name": "stdout",
     "output_type": "stream",
     "text": [
      "SP     176\n",
      "SA      52\n",
      "CA      38\n",
      "AUS     23\n",
      "GER     17\n",
      "IND     13\n",
      "US      13\n",
      "ME       2\n",
      "Name: Country, dtype: int64\n"
     ]
    },
    {
     "data": {
      "image/png": "[encoded data removed]",
      "text/plain": [
       "<Figure size 720x432 with 1 Axes>"
      ]
     },
     "metadata": {
      "needs_background": "light"
     },
     "output_type": "display_data"
    }
   ],
   "source": [
    "# Determine the country with the highest number of customers who accepted the last campaign\n",
    "\n",
    "# Filter customers who accepted the last campaign (Response == 1)\n",
    "country_acceptance = df[df['Response'] == 1]['Country'].value_counts()\n",
    "print(country_acceptance)\n",
    "\n",
    "# Plotting a bar chart for the number of customers per country who accepted the campaign\n",
    "plt.figure(figsize=(10, 6))\n",
    "country_acceptance.plot(kind='bar', color='lightblue')\n",
    "plt.title('Number of Customers Who Accepted the Last Campaign by Country')\n",
    "plt.xlabel('Country')\n",
    "plt.ylabel('Number of Customers')\n",
    "plt.xticks(rotation=45)\n",
    "plt.show()"
   ]
  },
  {
   "cell_type": "code",
   "execution_count": 27,
   "id": "726000e9-e921-46f0-977f-ae2c325802af",
   "metadata": {},
   "outputs": [
    {
     "data": {
      "image/png": "[encoded data removed]",
      "text/plain": [
       "<Figure size 576x432 with 1 Axes>"
      ]
     },
     "metadata": {
      "needs_background": "light"
     },
     "output_type": "display_data"
    }
   ],
   "source": [
    "#Investigate if there is a discernible pattern in the number of children at home and the total expenditure.\n",
    "\n",
    "plt.figure(figsize=(8, 6))\n",
    "sns.boxplot(x='Total_Children', y='Total_Spending', data=df)\n",
    "plt.title('Total Spend vs. Number of Children at Home')\n",
    "plt.xlabel('Number of Children')\n",
    "plt.ylabel('Total Spend')\n",
    "plt.show()"
   ]
  },
  {
   "cell_type": "code",
   "execution_count": 36,
   "id": "2d9098de-0f89-4243-a728-396f77b4a8ce",
   "metadata": {},
   "outputs": [
    {
     "data": {
      "image/png": "[encoded data removed]",
      "text/plain": [
       "<Figure size 576x432 with 1 Axes>"
      ]
     },
     "metadata": {
      "needs_background": "light"
     },
     "output_type": "display_data"
    }
   ],
   "source": [
    "# Analyze the educational background of customers who lodged complaints in the last two years\n",
    "\n",
    "# Filter the data for customers who lodged complaints in the last two years\n",
    "education_complaints = df[df['Complain'] == 1]['Education'].value_counts()\n",
    "\n",
    "# Plotting a bar chart for the number of complaints by education level\n",
    "plt.figure(figsize=(8, 6))\n",
    "education_complaints.plot(kind='bar', color='pink')\n",
    "plt.title('Educational Background of Customers who Lodged Complaints in the Last 2 Years')\n",
    "plt.xlabel('Education Level')\n",
    "plt.ylabel('Number of Complaints')\n",
    "plt.xticks(rotation=0)\n",
    "plt.show()"
   ]
  }
 ],
 "metadata": {
  "kernelspec": {
   "display_name": "Python 3 [3.10]",
   "language": "python",
   "name": "python3"
  },
  "language_info": {
   "codemirror_mode": {
    "name": "ipython",
    "version": 3
   },
   "file_extension": ".py",
   "mimetype": "text/x-python",
   "name": "python",
   "nbconvert_exporter": "python",
   "pygments_lexer": "ipython3",
   "version": "3.10.2"
  }
 },
 "nbformat": 4,
 "nbformat_minor": 5
}
