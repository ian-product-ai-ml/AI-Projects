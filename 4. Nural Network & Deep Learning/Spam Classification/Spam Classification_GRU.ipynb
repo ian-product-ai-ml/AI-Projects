{
 "cells": [
  {
   "cell_type": "code",
   "execution_count": 155,
   "id": "492f1c0a-ed56-42e6-a73a-99727e22694f",
   "metadata": {},
   "outputs": [],
   "source": [
    "import pandas as pd\n",
    "import numpy as np\n",
    "import tensorflow as tf\n",
    "from tensorflow.keras import layers, models\n",
    "from sklearn.model_selection import train_test_split\n",
    "from sklearn.preprocessing import LabelEncoder\n",
    "import matplotlib.pyplot as plt"
   ]
  },
  {
   "cell_type": "markdown",
   "id": "09d200bc-3548-4d90-8cec-dead7f23036e",
   "metadata": {},
   "source": [
    "## Data Cleaning & Labeling"
   ]
  },
  {
   "cell_type": "code",
   "execution_count": 156,
   "id": "f10ccdb3-8fbf-4f01-a6a8-dd9eccf6013e",
   "metadata": {},
   "outputs": [
    {
     "data": {
      "text/html": [
       "<div>\n",
       "<style scoped>\n",
       "    .dataframe tbody tr th:only-of-type {\n",
       "        vertical-align: middle;\n",
       "    }\n",
       "\n",
       "    .dataframe tbody tr th {\n",
       "        vertical-align: top;\n",
       "    }\n",
       "\n",
       "    .dataframe thead th {\n",
       "        text-align: right;\n",
       "    }\n",
       "</style>\n",
       "<table border=\"1\" class=\"dataframe\">\n",
       "  <thead>\n",
       "    <tr style=\"text-align: right;\">\n",
       "      <th></th>\n",
       "      <th>v1</th>\n",
       "      <th>v2</th>\n",
       "      <th>Unnamed: 2</th>\n",
       "      <th>Unnamed: 3</th>\n",
       "      <th>Unnamed: 4</th>\n",
       "    </tr>\n",
       "  </thead>\n",
       "  <tbody>\n",
       "    <tr>\n",
       "      <th>0</th>\n",
       "      <td>ham</td>\n",
       "      <td>Go until jurong point, crazy.. Available only ...</td>\n",
       "      <td>NaN</td>\n",
       "      <td>NaN</td>\n",
       "      <td>NaN</td>\n",
       "    </tr>\n",
       "    <tr>\n",
       "      <th>1</th>\n",
       "      <td>ham</td>\n",
       "      <td>Ok lar... Joking wif u oni...</td>\n",
       "      <td>NaN</td>\n",
       "      <td>NaN</td>\n",
       "      <td>NaN</td>\n",
       "    </tr>\n",
       "    <tr>\n",
       "      <th>2</th>\n",
       "      <td>spam</td>\n",
       "      <td>Free entry in 2 a wkly comp to win FA Cup fina...</td>\n",
       "      <td>NaN</td>\n",
       "      <td>NaN</td>\n",
       "      <td>NaN</td>\n",
       "    </tr>\n",
       "    <tr>\n",
       "      <th>3</th>\n",
       "      <td>ham</td>\n",
       "      <td>U dun say so early hor... U c already then say...</td>\n",
       "      <td>NaN</td>\n",
       "      <td>NaN</td>\n",
       "      <td>NaN</td>\n",
       "    </tr>\n",
       "    <tr>\n",
       "      <th>4</th>\n",
       "      <td>ham</td>\n",
       "      <td>Nah I don't think he goes to usf, he lives aro...</td>\n",
       "      <td>NaN</td>\n",
       "      <td>NaN</td>\n",
       "      <td>NaN</td>\n",
       "    </tr>\n",
       "  </tbody>\n",
       "</table>\n",
       "</div>"
      ],
      "text/plain": [
       "     v1                                                 v2 Unnamed: 2  \\\n",
       "0   ham  Go until jurong point, crazy.. Available only ...        NaN   \n",
       "1   ham                      Ok lar... Joking wif u oni...        NaN   \n",
       "2  spam  Free entry in 2 a wkly comp to win FA Cup fina...        NaN   \n",
       "3   ham  U dun say so early hor... U c already then say...        NaN   \n",
       "4   ham  Nah I don't think he goes to usf, he lives aro...        NaN   \n",
       "\n",
       "  Unnamed: 3 Unnamed: 4  \n",
       "0        NaN        NaN  \n",
       "1        NaN        NaN  \n",
       "2        NaN        NaN  \n",
       "3        NaN        NaN  \n",
       "4        NaN        NaN  "
      ]
     },
     "execution_count": 156,
     "metadata": {},
     "output_type": "execute_result"
    }
   ],
   "source": [
    "df = pd.read_csv(\"SpamCollection.csv\", encoding=\"latin1\")\n",
    "df.head()"
   ]
  },
  {
   "cell_type": "code",
   "execution_count": 157,
   "id": "fc8e31d0-e490-4c3b-b0c7-35cc495293f7",
   "metadata": {},
   "outputs": [
    {
     "data": {
      "text/plain": [
       "Index(['v1', 'v2', 'Unnamed: 2', 'Unnamed: 3', 'Unnamed: 4'], dtype='object')"
      ]
     },
     "execution_count": 157,
     "metadata": {},
     "output_type": "execute_result"
    }
   ],
   "source": [
    "df.columns"
   ]
  },
  {
   "cell_type": "code",
   "execution_count": 158,
   "id": "91b71f43-4f65-4088-930c-a3a87023b80d",
   "metadata": {},
   "outputs": [
    {
     "data": {
      "text/html": [
       "<div>\n",
       "<style scoped>\n",
       "    .dataframe tbody tr th:only-of-type {\n",
       "        vertical-align: middle;\n",
       "    }\n",
       "\n",
       "    .dataframe tbody tr th {\n",
       "        vertical-align: top;\n",
       "    }\n",
       "\n",
       "    .dataframe thead th {\n",
       "        text-align: right;\n",
       "    }\n",
       "</style>\n",
       "<table border=\"1\" class=\"dataframe\">\n",
       "  <thead>\n",
       "    <tr style=\"text-align: right;\">\n",
       "      <th></th>\n",
       "      <th>label</th>\n",
       "      <th>text</th>\n",
       "    </tr>\n",
       "  </thead>\n",
       "  <tbody>\n",
       "    <tr>\n",
       "      <th>0</th>\n",
       "      <td>0</td>\n",
       "      <td>Go until jurong point, crazy.. Available only ...</td>\n",
       "    </tr>\n",
       "    <tr>\n",
       "      <th>1</th>\n",
       "      <td>0</td>\n",
       "      <td>Ok lar... Joking wif u oni...</td>\n",
       "    </tr>\n",
       "    <tr>\n",
       "      <th>2</th>\n",
       "      <td>1</td>\n",
       "      <td>Free entry in 2 a wkly comp to win FA Cup fina...</td>\n",
       "    </tr>\n",
       "    <tr>\n",
       "      <th>3</th>\n",
       "      <td>0</td>\n",
       "      <td>U dun say so early hor... U c already then say...</td>\n",
       "    </tr>\n",
       "    <tr>\n",
       "      <th>4</th>\n",
       "      <td>0</td>\n",
       "      <td>Nah I don't think he goes to usf, he lives aro...</td>\n",
       "    </tr>\n",
       "  </tbody>\n",
       "</table>\n",
       "</div>"
      ],
      "text/plain": [
       "   label                                               text\n",
       "0      0  Go until jurong point, crazy.. Available only ...\n",
       "1      0                      Ok lar... Joking wif u oni...\n",
       "2      1  Free entry in 2 a wkly comp to win FA Cup fina...\n",
       "3      0  U dun say so early hor... U c already then say...\n",
       "4      0  Nah I don't think he goes to usf, he lives aro..."
      ]
     },
     "execution_count": 158,
     "metadata": {},
     "output_type": "execute_result"
    }
   ],
   "source": [
    "df = df[['v1', 'v2']] # Keep only relevant columns\n",
    "df.columns = ['label', 'text'] # Rename columns\n",
    "\n",
    "label_encoder = LabelEncoder()\n",
    "df['label'] = label_encoder.fit_transform(df['label']) # Convert ham/spam to 0/1\n",
    "df.head()"
   ]
  },
  {
   "cell_type": "markdown",
   "id": "71b50244-29e9-4c96-b07b-352b5df4836b",
   "metadata": {},
   "source": [
    "## Define the hyperparameter"
   ]
  },
  {
   "cell_type": "code",
   "execution_count": 159,
   "id": "43ddbf6f-b4a1-462c-87fb-51d97e605820",
   "metadata": {},
   "outputs": [],
   "source": [
    "from tensorflow.keras.preprocessing.text import Tokenizer\n",
    "from tensorflow.keras.preprocessing.sequence import pad_sequences"
   ]
  },
  {
   "cell_type": "code",
   "execution_count": 160,
   "id": "eb1fe6e2-3a7f-4b73-a72f-c4aa1dc59cdf",
   "metadata": {},
   "outputs": [],
   "source": [
    "# Define hyperparameters\n",
    "vocab_size = 5000          # Only keep top most common words\n",
    "embedding_dim = 64         # Embedding Size, words will be represented by a 64-number vector\n",
    "max_length = 200           # Max number of words per message\n",
    "trunc_type = 'post'        # Cut off extra words at the end\n",
    "padding_type = 'post'      # Pad 0 at the end of short messages\n",
    "oov_token = \"<OOV>\"        # For words not in vocabulary"
   ]
  },
  {
   "cell_type": "code",
   "execution_count": 161,
   "id": "c7fb544b-10f6-4ac9-affb-73eb37320216",
   "metadata": {},
   "outputs": [],
   "source": [
    "# Create tokenizer and fit it on the text messages\n",
    "tokenizer = Tokenizer(num_words=vocab_size, oov_token=oov_token)\n",
    "tokenizer.fit_on_texts(df['text'])\n",
    "\n",
    "# Convert text messages to sequences of word indexes\n",
    "sequences = tokenizer.texts_to_sequences(df['text'])\n",
    "\n",
    "# Pad the sequences to make all same length\n",
    "padded_sequences = pad_sequences(sequences, maxlen=max_length,\n",
    "                                 padding=padding_type, truncating=trunc_type)"
   ]
  },
  {
   "cell_type": "markdown",
   "id": "c7ecb21b-ce74-467a-b3c1-842dd50a78ca",
   "metadata": {},
   "source": [
    "## Split data"
   ]
  },
  {
   "cell_type": "code",
   "execution_count": 162,
   "id": "122da94a-3f3c-4848-ab1d-e3a29196822a",
   "metadata": {},
   "outputs": [],
   "source": [
    "X = padded_sequences\n",
    "y = df['label'].values   # These are your answers: 0 = ham, 1 = spam\n",
    "\n",
    "X_train, X_test, y_train, y_test = train_test_split(X, y, test_size=0.2)"
   ]
  },
  {
   "cell_type": "markdown",
   "id": "8f15b053-8853-4a9d-8332-b250f8f31ab8",
   "metadata": {},
   "source": [
    "## Build the (Gated Recurrent Unit) GRU model"
   ]
  },
  {
   "cell_type": "code",
   "execution_count": 163,
   "id": "9ffa0d8f-57b6-4d9d-9ea4-56e3182e7eba",
   "metadata": {},
   "outputs": [],
   "source": [
    "from tensorflow.keras import Sequential\n",
    "from tensorflow.keras.layers import Embedding, GRU, Dense"
   ]
  },
  {
   "cell_type": "code",
   "execution_count": 164,
   "id": "66f68385-f1ee-4c06-bd8d-69fa1115c98d",
   "metadata": {},
   "outputs": [],
   "source": [
    "model = Sequential([\n",
    "    Embedding(input_dim=5000, output_dim=64, input_length=200),\n",
    "    GRU(64),\n",
    "    Dense(1, activation='sigmoid')\n",
    "])"
   ]
  },
  {
   "cell_type": "code",
   "execution_count": 165,
   "id": "4ae318c8-54f6-4f90-a5fd-f0527c59184d",
   "metadata": {},
   "outputs": [],
   "source": [
    "model.compile(loss='binary_crossentropy', optimizer='adam', metrics=['accuracy'])"
   ]
  },
  {
   "cell_type": "code",
   "execution_count": 166,
   "id": "c96ad6a2-b4b9-4066-bd60-3015ed59f4ab",
   "metadata": {},
   "outputs": [
    {
     "name": "stdout",
     "output_type": "stream",
     "text": [
      "Model: \"sequential_3\"\n",
      "_________________________________________________________________\n",
      " Layer (type)                Output Shape              Param #   \n",
      "=================================================================\n",
      " embedding_3 (Embedding)     (None, 200, 64)           320000    \n",
      "                                                                 \n",
      " gru_3 (GRU)                 (None, 64)                24960     \n",
      "                                                                 \n",
      " dense_3 (Dense)             (None, 1)                 65        \n",
      "                                                                 \n",
      "=================================================================\n",
      "Total params: 345025 (1.32 MB)\n",
      "Trainable params: 345025 (1.32 MB)\n",
      "Non-trainable params: 0 (0.00 Byte)\n",
      "_________________________________________________________________\n"
     ]
    }
   ],
   "source": [
    "model.summary()"
   ]
  },
  {
   "cell_type": "markdown",
   "id": "320c49dc-d2d7-4d16-b0cd-5ea58bf0295d",
   "metadata": {},
   "source": [
    "## Train GRU Model"
   ]
  },
  {
   "cell_type": "code",
   "execution_count": 167,
   "id": "d7b6897c-7ce9-4287-9ff2-bf7fad0dabfd",
   "metadata": {},
   "outputs": [
    {
     "name": "stdout",
     "output_type": "stream",
     "text": [
      "Epoch 1/15\n",
      "140/140 [==============================] - 13s 83ms/step - loss: 0.4188 - accuracy: 0.8602 - val_loss: 0.4052 - val_accuracy: 0.8601\n",
      "Epoch 2/15\n",
      "140/140 [==============================] - 11s 79ms/step - loss: 0.3922 - accuracy: 0.8674 - val_loss: 0.4048 - val_accuracy: 0.8601\n",
      "Epoch 3/15\n",
      "140/140 [==============================] - 11s 78ms/step - loss: 0.3939 - accuracy: 0.8674 - val_loss: 0.4072 - val_accuracy: 0.8601\n",
      "Epoch 4/15\n",
      "140/140 [==============================] - 11s 76ms/step - loss: 0.3933 - accuracy: 0.8674 - val_loss: 0.4049 - val_accuracy: 0.8601\n",
      "Epoch 5/15\n",
      "140/140 [==============================] - 10s 75ms/step - loss: 0.3928 - accuracy: 0.8674 - val_loss: 0.4098 - val_accuracy: 0.8601\n",
      "Epoch 6/15\n",
      "140/140 [==============================] - 11s 77ms/step - loss: 0.3920 - accuracy: 0.8674 - val_loss: 0.4067 - val_accuracy: 0.8601\n",
      "Epoch 7/15\n",
      "140/140 [==============================] - 11s 76ms/step - loss: 0.3921 - accuracy: 0.8674 - val_loss: 0.4069 - val_accuracy: 0.8601\n",
      "Epoch 8/15\n",
      "140/140 [==============================] - 11s 75ms/step - loss: 0.3928 - accuracy: 0.8674 - val_loss: 0.4049 - val_accuracy: 0.8601\n",
      "Epoch 9/15\n",
      "140/140 [==============================] - 10s 75ms/step - loss: 0.3934 - accuracy: 0.8674 - val_loss: 0.4053 - val_accuracy: 0.8601\n",
      "Epoch 10/15\n",
      "140/140 [==============================] - 10s 75ms/step - loss: 0.3918 - accuracy: 0.8674 - val_loss: 0.4066 - val_accuracy: 0.8601\n",
      "Epoch 11/15\n",
      "140/140 [==============================] - 11s 75ms/step - loss: 0.3925 - accuracy: 0.8674 - val_loss: 0.4096 - val_accuracy: 0.8601\n",
      "Epoch 12/15\n",
      "140/140 [==============================] - 11s 77ms/step - loss: 0.3917 - accuracy: 0.8674 - val_loss: 0.4122 - val_accuracy: 0.8601\n",
      "Epoch 13/15\n",
      "140/140 [==============================] - 11s 76ms/step - loss: 0.3930 - accuracy: 0.8674 - val_loss: 0.4061 - val_accuracy: 0.8601\n",
      "Epoch 14/15\n",
      "140/140 [==============================] - 10s 75ms/step - loss: 0.3939 - accuracy: 0.8674 - val_loss: 0.4055 - val_accuracy: 0.8601\n",
      "Epoch 15/15\n",
      "140/140 [==============================] - 10s 75ms/step - loss: 0.3922 - accuracy: 0.8674 - val_loss: 0.4057 - val_accuracy: 0.8601\n"
     ]
    }
   ],
   "source": [
    "history = model.fit(\n",
    "    X_train, y_train,\n",
    "    epochs=15,\n",
    "    batch_size=32,\n",
    "    validation_data=(X_test, y_test)\n",
    ")\n"
   ]
  },
  {
   "cell_type": "markdown",
   "id": "47566782-2b89-42e8-881c-13847160b070",
   "metadata": {},
   "source": [
    "## Visualize & Evaluate Result"
   ]
  },
  {
   "cell_type": "markdown",
   "id": "de099d59-578f-4c0b-92f2-6dd2af732e16",
   "metadata": {},
   "source": [
    "def plot_history(history):\n",
    "    # Accuracy plot\n",
    "    plt.figure(figsize=(12, 5))\n",
    "\n",
    "    # Plot training and validation accuracy\n",
    "    plt.subplot(1, 2, 1)\n",
    "    plt.plot(history.history['accuracy'], label='Train Accuracy')\n",
    "    plt.plot(history.history['val_accuracy'], label='Validation Accuracy')\n",
    "    plt.title('Model Accuracy Over Epochs')\n",
    "    plt.xlabel('Epoch')\n",
    "    plt.ylabel('Accuracy')\n",
    "    plt.legend()\n",
    "\n",
    "    # Plot training and validation loss\n",
    "    plt.subplot(1, 2, 2)\n",
    "    plt.plot(history.history['loss'], label='Train Loss')\n",
    "    plt.plot(history.history['val_loss'], label='Validation Loss')\n",
    "    plt.title('Model Loss Over Epochs')\n",
    "    plt.xlabel('Epoch')\n",
    "    plt.ylabel('Loss')\n",
    "    plt.legend()\n",
    "\n",
    "    plt.tight_layout()\n",
    "    plt.show()"
   ]
  },
  {
   "cell_type": "code",
   "execution_count": 168,
   "id": "6cc99d8c-4ab8-452d-9fac-e01beef9a25e",
   "metadata": {},
   "outputs": [
    {
     "data": {
      "image/png": "[encoded data removed]",
      "text/plain": [
       "<Figure size 864x360 with 2 Axes>"
      ]
     },
     "metadata": {
      "needs_background": "light"
     },
     "output_type": "display_data"
    }
   ],
   "source": [
    "plot_history(history)"
   ]
  },
  {
   "cell_type": "code",
   "execution_count": 169,
   "id": "54488c92-eec3-448f-ba7f-d938b75b01ac",
   "metadata": {},
   "outputs": [
    {
     "name": "stdout",
     "output_type": "stream",
     "text": [
      "35/35 - 1s - loss: 0.4057 - accuracy: 0.8601 - 514ms/epoch - 15ms/step\n",
      "Test Loss: 0.4057\n",
      "Test Accuracy: 0.8601\n",
      "140/140 - 2s - loss: 0.3915 - accuracy: 0.8674 - 2s/epoch - 15ms/step\n",
      "Train Loss: 0.3915\n",
      "Train Accuracy: 0.8674\n"
     ]
    }
   ],
   "source": [
    "# Evaluate the model on the test set\n",
    "test_loss, test_accuracy = model.evaluate(X_test, y_test, verbose=2)\n",
    "print(f\"Test Loss: {test_loss:.4f}\")\n",
    "print(f\"Test Accuracy: {test_accuracy:.4f}\")\n",
    "\n",
    "# Evaluate the model on the training set\n",
    "train_loss, train_accuracy = model.evaluate(X_train, y_train, verbose=2)\n",
    "print(f\"Train Loss: {train_loss:.4f}\")\n",
    "print(f\"Train Accuracy: {train_accuracy:.4f}\")"
   ]
  },
  {
   "cell_type": "markdown",
   "id": "27f5aad9-55e1-434d-aedc-168892ec9f1e",
   "metadata": {},
   "source": [
    "## Test Model"
   ]
  },
  {
   "cell_type": "code",
   "execution_count": 170,
   "id": "6704165f-1fef-4aff-b9c9-f44649dd6cb3",
   "metadata": {},
   "outputs": [],
   "source": [
    "def predict_message(text):\n",
    "    # Convert text to sequence\n",
    "    sequence = tokenizer.texts_to_sequences([text])\n",
    "    \n",
    "    # Pad it to the same length\n",
    "    padded = pad_sequences(sequence, maxlen=200, padding='post', truncating='post')\n",
    "    \n",
    "    # Predict\n",
    "    prob = model.predict(padded)[0][0]\n",
    "    label = \"spam\" if prob > 0.5 else \"ham\"\n",
    "\n",
    "    print(f\"Message: {text}\")\n",
    "    print(f\"Prediction: {label}\")"
   ]
  },
  {
   "cell_type": "code",
   "execution_count": 171,
   "id": "7795ee6a-0731-4113-9692-3c4e7aed98fe",
   "metadata": {},
   "outputs": [
    {
     "name": "stdout",
     "output_type": "stream",
     "text": [
      "1/1 [==============================] - 0s 239ms/step\n",
      "Message: Fine if thatåÕs the way u feel. ThatåÕs the way its gota b\n",
      "Prediction: ham\n"
     ]
    }
   ],
   "source": [
    "predict_message(\"Fine if thatåÕs the way u feel. ThatåÕs the way its gota b\")"
   ]
  },
  {
   "cell_type": "code",
   "execution_count": 172,
   "id": "3c374654-d761-4934-ac20-32c3d83fdd11",
   "metadata": {},
   "outputs": [
    {
     "name": "stdout",
     "output_type": "stream",
     "text": [
      "1/1 [==============================] - 0s 20ms/step\n",
      "Message: England v Macedonia - dont miss the goals/team news. Txt ur national team to 87077 eg ENGLAND to 87077 Try:WALES, SCOTLAND 4txt/Ì¼1.20 POBOXox36504W45WQ 16+\n",
      "Prediction: ham\n"
     ]
    }
   ],
   "source": [
    "predict_message(\"England v Macedonia - dont miss the goals/team news. Txt ur national team to 87077 eg ENGLAND to 87077 Try:WALES, SCOTLAND 4txt/Ì¼1.20 POBOXox36504W45WQ 16+\")"
   ]
  },
  {
   "cell_type": "code",
   "execution_count": 173,
   "id": "8619ee65-ce12-41b5-bde7-96d25091688d",
   "metadata": {},
   "outputs": [
    {
     "name": "stdout",
     "output_type": "stream",
     "text": [
      "1/1 [==============================] - 0s 20ms/step\n",
      "Message: Congratulations! You've won a free cruise. Call now!\n",
      "Prediction: ham\n"
     ]
    }
   ],
   "source": [
    "predict_message(\"Congratulations! You've won a free cruise. Call now!\")"
   ]
  },
  {
   "cell_type": "code",
   "execution_count": 174,
   "id": "2061e4b9-1a60-47c1-b911-dd74b5b2f490",
   "metadata": {},
   "outputs": [
    {
     "name": "stdout",
     "output_type": "stream",
     "text": [
      "1/1 [==============================] - 0s 20ms/step\n",
      "Message: Congrats! 1 year special cinema pass for 2 is yours. call 09061209465 now! C Suprman V, Matrix3, StarWars3, etc all 4 FREE! bx420-ip4-5we. 150pm. Dont miss out! \n",
      "Prediction: ham\n"
     ]
    }
   ],
   "source": [
    "predict_message(\"Congrats! 1 year special cinema pass for 2 is yours. call 09061209465 now! C Suprman V, Matrix3, StarWars3, etc all 4 FREE! bx420-ip4-5we. 150pm. Dont miss out! \")"
   ]
  },
  {
   "cell_type": "code",
   "execution_count": 175,
   "id": "d91f3f49-e188-4a4c-9f69-67cb5811d39b",
   "metadata": {},
   "outputs": [
    {
     "name": "stdout",
     "output_type": "stream",
     "text": [
      "1/1 [==============================] - 0s 19ms/step\n",
      "Message: Do you know what Mallika Sherawat did yesterday? Find out now @  &lt;URL&gt;\n",
      "Prediction: ham\n"
     ]
    }
   ],
   "source": [
    "predict_message(\"Do you know what Mallika Sherawat did yesterday? Find out now @  &lt;URL&gt;\")"
   ]
  },
  {
   "cell_type": "code",
   "execution_count": 176,
   "id": "7872439b-d8ef-4a94-a3f9-7e6afadc044b",
   "metadata": {},
   "outputs": [
    {
     "name": "stdout",
     "output_type": "stream",
     "text": [
      "1/1 [==============================] - 0s 20ms/step\n",
      "Message: XXXMobileMovieClub: To use your credit, click the WAP link in the next txt message or click here>> http://wap. xxxmobilemovieclub.com?n=QJKGIGHJJGCBL\n",
      "Prediction: ham\n"
     ]
    }
   ],
   "source": [
    "predict_message(\"XXXMobileMovieClub: To use your credit, click the WAP link in the next txt message or click here>> http://wap. xxxmobilemovieclub.com?n=QJKGIGHJJGCBL\")"
   ]
  },
  {
   "cell_type": "code",
   "execution_count": 177,
   "id": "9af4e3b4-f5e8-4354-a88d-ba8b993b5fe7",
   "metadata": {},
   "outputs": [
    {
     "name": "stdout",
     "output_type": "stream",
     "text": [
      "24/24 [==============================] - 0s 14ms/step\n",
      "Spam messages: 747\n",
      "Correctly predicted as spam: 0\n",
      "Accuracy on spam: 0.00%\n"
     ]
    }
   ],
   "source": [
    "# Tokenizer and spam data\n",
    "tokenizer = Tokenizer(num_words=5000, oov_token=\"<OOV>\")\n",
    "tokenizer.fit_on_texts(df['text'])\n",
    "\n",
    "spam_df = df[df['label'] == 1].copy()\n",
    "spam_sequences = tokenizer.texts_to_sequences(spam_df['text'])\n",
    "spam_padded = pad_sequences(spam_sequences, maxlen=200, padding='post', truncating='post')\n",
    "\n",
    "# Predict\n",
    "spam_predictions = model.predict(spam_padded)\n",
    "spam_pred_labels = (spam_predictions > 0.5).astype(int).flatten()\n",
    "\n",
    "# Count correct predictions\n",
    "num_correct_spam = (spam_pred_labels == 1).sum()\n",
    "total_spam = len(spam_pred_labels)\n",
    "accuracy_on_spam = num_correct_spam / total_spam\n",
    "\n",
    "print(f\"Spam messages: {total_spam}\")\n",
    "print(f\"Correctly predicted as spam: {num_correct_spam}\")\n",
    "print(f\"Accuracy on spam: {accuracy_on_spam:.2%}\")"
   ]
  }
 ],
 "metadata": {
  "kernelspec": {
   "display_name": "Python 3 [3.10]",
   "language": "python",
   "name": "python3"
  },
  "language_info": {
   "codemirror_mode": {
    "name": "ipython",
    "version": 3
   },
   "file_extension": ".py",
   "mimetype": "text/x-python",
   "name": "python",
   "nbconvert_exporter": "python",
   "pygments_lexer": "ipython3",
   "version": "3.10.2"
  }
 },
 "nbformat": 4,
 "nbformat_minor": 5
}
