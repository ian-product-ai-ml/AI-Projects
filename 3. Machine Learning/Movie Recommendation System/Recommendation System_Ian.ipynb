{
 "cells": [
  {
   "cell_type": "code",
   "execution_count": 9,
   "id": "6977e9c4-6295-423d-a969-9314c7314c1d",
   "metadata": {},
   "outputs": [],
   "source": [
    "# Import libaries\n",
    "import pandas as pd\n",
    "import numpy as np\n",
    "import scipy.stats\n",
    "import seaborn as sns\n",
    "from sklearn.metrics.pairwise import cosine_similarity\n",
    "import matplotlib.pyplot as plt\n",
    "import statistics\n",
    "import operator"
   ]
  },
  {
   "cell_type": "markdown",
   "id": "d7967dca-44e3-41c0-8c65-36c989280d27",
   "metadata": {},
   "source": [
    "The anime.csv dataset contains information about the following columns:\n",
    "\n",
    "- anime_id: An identifier for the anime\n",
    "- name: The name of the anime\n",
    "- genre: The genre(s) of the anime\n",
    "- type: The type of anime (e.g., TV, Movie)\n",
    "- episodes: The number of episodes (Note: This is an object type, suggesting some non-numeric values may be present.)\n",
    "- rating: The rating of the anime\n",
    "- members: The number of members who have added this anime to their list"
   ]
  },
  {
   "cell_type": "markdown",
   "id": "8a5cfb09-97ee-4a3a-81f1-9f93cdac1492",
   "metadata": {},
   "source": [
    "## Exploritary Data Analysis"
   ]
  },
  {
   "cell_type": "code",
   "execution_count": 10,
   "id": "ddea6f2c-3474-4df3-b275-220ca8edc43d",
   "metadata": {},
   "outputs": [
    {
     "data": {
      "text/html": [
       "<div>\n",
       "<style scoped>\n",
       "    .dataframe tbody tr th:only-of-type {\n",
       "        vertical-align: middle;\n",
       "    }\n",
       "\n",
       "    .dataframe tbody tr th {\n",
       "        vertical-align: top;\n",
       "    }\n",
       "\n",
       "    .dataframe thead th {\n",
       "        text-align: right;\n",
       "    }\n",
       "</style>\n",
       "<table border=\"1\" class=\"dataframe\">\n",
       "  <thead>\n",
       "    <tr style=\"text-align: right;\">\n",
       "      <th></th>\n",
       "      <th>anime_id</th>\n",
       "      <th>name</th>\n",
       "      <th>genre</th>\n",
       "      <th>type</th>\n",
       "      <th>episodes</th>\n",
       "      <th>rating</th>\n",
       "      <th>members</th>\n",
       "    </tr>\n",
       "  </thead>\n",
       "  <tbody>\n",
       "    <tr>\n",
       "      <th>0</th>\n",
       "      <td>32281</td>\n",
       "      <td>Kimi no Na wa.</td>\n",
       "      <td>Drama, Romance, School, Supernatural</td>\n",
       "      <td>Movie</td>\n",
       "      <td>1</td>\n",
       "      <td>9.37</td>\n",
       "      <td>200630</td>\n",
       "    </tr>\n",
       "    <tr>\n",
       "      <th>1</th>\n",
       "      <td>5114</td>\n",
       "      <td>Fullmetal Alchemist: Brotherhood</td>\n",
       "      <td>Action, Adventure, Drama, Fantasy, Magic, Mili...</td>\n",
       "      <td>TV</td>\n",
       "      <td>64</td>\n",
       "      <td>9.26</td>\n",
       "      <td>793665</td>\n",
       "    </tr>\n",
       "    <tr>\n",
       "      <th>2</th>\n",
       "      <td>28977</td>\n",
       "      <td>Gintama°</td>\n",
       "      <td>Action, Comedy, Historical, Parody, Samurai, S...</td>\n",
       "      <td>TV</td>\n",
       "      <td>51</td>\n",
       "      <td>9.25</td>\n",
       "      <td>114262</td>\n",
       "    </tr>\n",
       "    <tr>\n",
       "      <th>3</th>\n",
       "      <td>9253</td>\n",
       "      <td>Steins;Gate</td>\n",
       "      <td>Sci-Fi, Thriller</td>\n",
       "      <td>TV</td>\n",
       "      <td>24</td>\n",
       "      <td>9.17</td>\n",
       "      <td>673572</td>\n",
       "    </tr>\n",
       "    <tr>\n",
       "      <th>4</th>\n",
       "      <td>9969</td>\n",
       "      <td>Gintama&amp;#039;</td>\n",
       "      <td>Action, Comedy, Historical, Parody, Samurai, S...</td>\n",
       "      <td>TV</td>\n",
       "      <td>51</td>\n",
       "      <td>9.16</td>\n",
       "      <td>151266</td>\n",
       "    </tr>\n",
       "  </tbody>\n",
       "</table>\n",
       "</div>"
      ],
      "text/plain": [
       "   anime_id                              name  \\\n",
       "0     32281                    Kimi no Na wa.   \n",
       "1      5114  Fullmetal Alchemist: Brotherhood   \n",
       "2     28977                          Gintama°   \n",
       "3      9253                       Steins;Gate   \n",
       "4      9969                     Gintama&#039;   \n",
       "\n",
       "                                               genre   type episodes  rating  \\\n",
       "0               Drama, Romance, School, Supernatural  Movie        1    9.37   \n",
       "1  Action, Adventure, Drama, Fantasy, Magic, Mili...     TV       64    9.26   \n",
       "2  Action, Comedy, Historical, Parody, Samurai, S...     TV       51    9.25   \n",
       "3                                   Sci-Fi, Thriller     TV       24    9.17   \n",
       "4  Action, Comedy, Historical, Parody, Samurai, S...     TV       51    9.16   \n",
       "\n",
       "   members  \n",
       "0   200630  \n",
       "1   793665  \n",
       "2   114262  \n",
       "3   673572  \n",
       "4   151266  "
      ]
     },
     "execution_count": 10,
     "metadata": {},
     "output_type": "execute_result"
    }
   ],
   "source": [
    "# load the data from 'anime.csv' into a DataFrame named 'animes'.\n",
    "animes = pd.read_csv('anime.csv')\n",
    "animes.head()"
   ]
  },
  {
   "cell_type": "code",
   "execution_count": 11,
   "id": "43a9b1e8-e342-49a3-a7c2-4b1ec8cd871d",
   "metadata": {},
   "outputs": [
    {
     "name": "stdout",
     "output_type": "stream",
     "text": [
      "<class 'pandas.core.frame.DataFrame'>\n",
      "RangeIndex: 12294 entries, 0 to 12293\n",
      "Data columns (total 7 columns):\n",
      " #   Column    Non-Null Count  Dtype  \n",
      "---  ------    --------------  -----  \n",
      " 0   anime_id  12294 non-null  int64  \n",
      " 1   name      12294 non-null  object \n",
      " 2   genre     12232 non-null  object \n",
      " 3   type      12269 non-null  object \n",
      " 4   episodes  12294 non-null  object \n",
      " 5   rating    12064 non-null  float64\n",
      " 6   members   12294 non-null  int64  \n",
      "dtypes: float64(1), int64(2), object(4)\n",
      "memory usage: 672.5+ KB\n"
     ]
    }
   ],
   "source": [
    "# Concise summary of the DataFrame\n",
    "animes.info()"
   ]
  },
  {
   "cell_type": "code",
   "execution_count": 12,
   "id": "ea0c317d-d300-4d87-9638-2fc63121a812",
   "metadata": {},
   "outputs": [
    {
     "data": {
      "text/plain": [
       "anime_id      0\n",
       "name          0\n",
       "genre        62\n",
       "type         25\n",
       "episodes      0\n",
       "rating      230\n",
       "members       0\n",
       "dtype: int64"
      ]
     },
     "execution_count": 12,
     "metadata": {},
     "output_type": "execute_result"
    }
   ],
   "source": [
    "# Calculates the total number of missing (null) values in each column\n",
    "animes.isnull().sum()"
   ]
  },
  {
   "cell_type": "code",
   "execution_count": 13,
   "id": "7a01959e-6c13-498e-9ac1-c3c5fd95311e",
   "metadata": {},
   "outputs": [],
   "source": [
    "import matplotlib.pyplot as plt\n",
    "import seaborn as sns\n",
    "\n",
    "# Handle missing values\n",
    "animes['genre'].fillna('Unknown', inplace=True)\n",
    "animes['type'].fillna('Unknown', inplace=True)\n",
    "\n",
    "# Convert the 'episodes' column to numeric data type using\n",
    "# the pd.to_numeric() function, with any non-convertible values replaced by 0\n",
    "animes['episodes'] = pd.to_numeric(animes['episodes'], errors='coerce').fillna(0)\n",
    "\n",
    "# Fill missing ratings with mean rating\n",
    "animes['rating'].fillna(animes['rating'].mean(), inplace=True)"
   ]
  },
  {
   "cell_type": "code",
   "execution_count": 14,
   "id": "48ee1d96-aede-4108-b912-fb84993e71aa",
   "metadata": {},
   "outputs": [
    {
     "data": {
      "text/html": [
       "<div>\n",
       "<style scoped>\n",
       "    .dataframe tbody tr th:only-of-type {\n",
       "        vertical-align: middle;\n",
       "    }\n",
       "\n",
       "    .dataframe tbody tr th {\n",
       "        vertical-align: top;\n",
       "    }\n",
       "\n",
       "    .dataframe thead th {\n",
       "        text-align: right;\n",
       "    }\n",
       "</style>\n",
       "<table border=\"1\" class=\"dataframe\">\n",
       "  <thead>\n",
       "    <tr style=\"text-align: right;\">\n",
       "      <th></th>\n",
       "      <th>anime_id</th>\n",
       "      <th>episodes</th>\n",
       "      <th>rating</th>\n",
       "      <th>members</th>\n",
       "    </tr>\n",
       "  </thead>\n",
       "  <tbody>\n",
       "    <tr>\n",
       "      <th>count</th>\n",
       "      <td>12294.000000</td>\n",
       "      <td>12294.000000</td>\n",
       "      <td>12294.000000</td>\n",
       "      <td>1.229400e+04</td>\n",
       "    </tr>\n",
       "    <tr>\n",
       "      <th>mean</th>\n",
       "      <td>14058.221653</td>\n",
       "      <td>12.040101</td>\n",
       "      <td>6.473902</td>\n",
       "      <td>1.807134e+04</td>\n",
       "    </tr>\n",
       "    <tr>\n",
       "      <th>std</th>\n",
       "      <td>11455.294701</td>\n",
       "      <td>46.257299</td>\n",
       "      <td>1.017096</td>\n",
       "      <td>5.482068e+04</td>\n",
       "    </tr>\n",
       "    <tr>\n",
       "      <th>min</th>\n",
       "      <td>1.000000</td>\n",
       "      <td>0.000000</td>\n",
       "      <td>1.670000</td>\n",
       "      <td>5.000000e+00</td>\n",
       "    </tr>\n",
       "    <tr>\n",
       "      <th>25%</th>\n",
       "      <td>3484.250000</td>\n",
       "      <td>1.000000</td>\n",
       "      <td>5.900000</td>\n",
       "      <td>2.250000e+02</td>\n",
       "    </tr>\n",
       "    <tr>\n",
       "      <th>50%</th>\n",
       "      <td>10260.500000</td>\n",
       "      <td>2.000000</td>\n",
       "      <td>6.550000</td>\n",
       "      <td>1.550000e+03</td>\n",
       "    </tr>\n",
       "    <tr>\n",
       "      <th>75%</th>\n",
       "      <td>24794.500000</td>\n",
       "      <td>12.000000</td>\n",
       "      <td>7.170000</td>\n",
       "      <td>9.437000e+03</td>\n",
       "    </tr>\n",
       "    <tr>\n",
       "      <th>max</th>\n",
       "      <td>34527.000000</td>\n",
       "      <td>1818.000000</td>\n",
       "      <td>10.000000</td>\n",
       "      <td>1.013917e+06</td>\n",
       "    </tr>\n",
       "  </tbody>\n",
       "</table>\n",
       "</div>"
      ],
      "text/plain": [
       "           anime_id      episodes        rating       members\n",
       "count  12294.000000  12294.000000  12294.000000  1.229400e+04\n",
       "mean   14058.221653     12.040101      6.473902  1.807134e+04\n",
       "std    11455.294701     46.257299      1.017096  5.482068e+04\n",
       "min        1.000000      0.000000      1.670000  5.000000e+00\n",
       "25%     3484.250000      1.000000      5.900000  2.250000e+02\n",
       "50%    10260.500000      2.000000      6.550000  1.550000e+03\n",
       "75%    24794.500000     12.000000      7.170000  9.437000e+03\n",
       "max    34527.000000   1818.000000     10.000000  1.013917e+06"
      ]
     },
     "execution_count": 14,
     "metadata": {},
     "output_type": "execute_result"
    }
   ],
   "source": [
    "# Generate descriptive statistics for the numerical columns\n",
    "animes.describe()"
   ]
  },
  {
   "cell_type": "code",
   "execution_count": 15,
   "id": "18a67e44-4965-44a4-91da-e814526277e6",
   "metadata": {},
   "outputs": [
    {
     "data": {
      "image/png": "[encoded data removed]",
      "text/plain": [
       "<Figure size 1008x432 with 2 Axes>"
      ]
     },
     "metadata": {
      "needs_background": "light"
     },
     "output_type": "display_data"
    }
   ],
   "source": [
    "# Analyzing categorical variables\n",
    "type_counts = animes['type'].value_counts()\n",
    "genre_counts = animes['genre'].str.split(', ').explode().value_counts().head(10)\n",
    "\n",
    "# Plotting the distributions\n",
    "fig, ax = plt.subplots(1, 2, figsize=(14, 6))\n",
    "\n",
    "type_counts.plot(kind='bar', ax=ax[0], color='lightblue')\n",
    "ax[0].set_title('Distribution of Anime Types')\n",
    "ax[0].set_ylabel('Frequency')\n",
    "ax[0].set_xlabel('Type')\n",
    "\n",
    "genre_counts.plot(kind='bar', ax=ax[1], color='lightgreen')\n",
    "ax[1].set_title('Top 10 Most Common Genres')\n",
    "ax[1].set_ylabel('Frequency')\n",
    "ax[1].set_xlabel('Genre')\n",
    "\n",
    "plt.tight_layout()\n",
    "plt.show()"
   ]
  },
  {
   "cell_type": "code",
   "execution_count": 16,
   "id": "57bf1a4b-3179-44ab-aaed-d1b8911446fa",
   "metadata": {},
   "outputs": [],
   "source": [
    "# Read the rating.csv file and store its contents in the 'ratings' dataframe\n",
    "ratings = pd.read_csv('rating.csv')"
   ]
  },
  {
   "cell_type": "code",
   "execution_count": 17,
   "id": "55ccd58d-091b-4216-8edc-113e06b372a7",
   "metadata": {},
   "outputs": [
    {
     "data": {
      "text/html": [
       "<div>\n",
       "<style scoped>\n",
       "    .dataframe tbody tr th:only-of-type {\n",
       "        vertical-align: middle;\n",
       "    }\n",
       "\n",
       "    .dataframe tbody tr th {\n",
       "        vertical-align: top;\n",
       "    }\n",
       "\n",
       "    .dataframe thead th {\n",
       "        text-align: right;\n",
       "    }\n",
       "</style>\n",
       "<table border=\"1\" class=\"dataframe\">\n",
       "  <thead>\n",
       "    <tr style=\"text-align: right;\">\n",
       "      <th></th>\n",
       "      <th>user_id</th>\n",
       "      <th>anime_id</th>\n",
       "      <th>rating</th>\n",
       "    </tr>\n",
       "  </thead>\n",
       "  <tbody>\n",
       "    <tr>\n",
       "      <th>47</th>\n",
       "      <td>1</td>\n",
       "      <td>8074</td>\n",
       "      <td>10</td>\n",
       "    </tr>\n",
       "    <tr>\n",
       "      <th>81</th>\n",
       "      <td>1</td>\n",
       "      <td>11617</td>\n",
       "      <td>10</td>\n",
       "    </tr>\n",
       "    <tr>\n",
       "      <th>83</th>\n",
       "      <td>1</td>\n",
       "      <td>11757</td>\n",
       "      <td>10</td>\n",
       "    </tr>\n",
       "    <tr>\n",
       "      <th>101</th>\n",
       "      <td>1</td>\n",
       "      <td>15451</td>\n",
       "      <td>10</td>\n",
       "    </tr>\n",
       "    <tr>\n",
       "      <th>153</th>\n",
       "      <td>2</td>\n",
       "      <td>11771</td>\n",
       "      <td>10</td>\n",
       "    </tr>\n",
       "  </tbody>\n",
       "</table>\n",
       "</div>"
      ],
      "text/plain": [
       "     user_id  anime_id  rating\n",
       "47         1      8074      10\n",
       "81         1     11617      10\n",
       "83         1     11757      10\n",
       "101        1     15451      10\n",
       "153        2     11771      10"
      ]
     },
     "execution_count": 17,
     "metadata": {},
     "output_type": "execute_result"
    }
   ],
   "source": [
    "# Exclude rows where the rating is -1 (implying missing or few ratings from individuals)\n",
    "ratings = ratings[ratings.rating != -1]\n",
    "ratings.head()"
   ]
  },
  {
   "cell_type": "code",
   "execution_count": 18,
   "id": "c9d06aeb-e540-4d2d-a455-588e23f8c368",
   "metadata": {},
   "outputs": [
    {
     "data": {
      "text/plain": [
       "user_id     0\n",
       "anime_id    0\n",
       "rating      0\n",
       "dtype: int64"
      ]
     },
     "execution_count": 18,
     "metadata": {},
     "output_type": "execute_result"
    }
   ],
   "source": [
    "ratings.isnull().sum()"
   ]
  },
  {
   "cell_type": "code",
   "execution_count": 19,
   "id": "0268c28c-dc0f-4295-aa0f-562ccccbedd8",
   "metadata": {},
   "outputs": [
    {
     "data": {
      "text/plain": [
       "count             6337241.0\n",
       "mean      7.808496946857473\n",
       "std      1.5724960304974225\n",
       "min                     1.0\n",
       "25%                     7.0\n",
       "50%                     8.0\n",
       "75%                     9.0\n",
       "max                    10.0\n",
       "Name: rating, dtype: object"
      ]
     },
     "execution_count": 19,
     "metadata": {},
     "output_type": "execute_result"
    }
   ],
   "source": [
    "# Generate descriptive statistics for the numerical columns\n",
    "ratings['rating'].describe().astype(str)"
   ]
  },
  {
   "cell_type": "code",
   "execution_count": 20,
   "id": "4550f6d9-097a-4e54-85ab-c46509293ca7",
   "metadata": {},
   "outputs": [
    {
     "data": {
      "text/plain": [
       "69600"
      ]
     },
     "execution_count": 20,
     "metadata": {},
     "output_type": "execute_result"
    }
   ],
   "source": [
    "# Calculate the number of unique user IDs\n",
    "len(ratings['user_id'].unique())"
   ]
  },
  {
   "cell_type": "code",
   "execution_count": 21,
   "id": "23dc5f7a-540e-4d2c-b1c4-99f0df9c53cc",
   "metadata": {},
   "outputs": [
    {
     "data": {
      "text/plain": [
       "12294"
      ]
     },
     "execution_count": 21,
     "metadata": {},
     "output_type": "execute_result"
    }
   ],
   "source": [
    "# Calculate the number of unique anime IDs\n",
    "len(animes['anime_id'].unique())"
   ]
  },
  {
   "cell_type": "code",
   "execution_count": 22,
   "id": "e781a78c-8177-4660-8187-2090e2aa464f",
   "metadata": {},
   "outputs": [
    {
     "name": "stdout",
     "output_type": "stream",
     "text": [
      "user_id\n",
      "1          4\n",
      "2          1\n",
      "3         92\n",
      "5        459\n",
      "7        343\n",
      "        ... \n",
      "73512     12\n",
      "73513     33\n",
      "73514      1\n",
      "73515    179\n",
      "73516      2\n",
      "Name: rating, Length: 69600, dtype: int64\n"
     ]
    },
    {
     "data": {
      "text/plain": [
       "91.05231321839081"
      ]
     },
     "execution_count": 22,
     "metadata": {},
     "output_type": "execute_result"
    }
   ],
   "source": [
    "import statistics\n",
    "\n",
    "# Calculate the number of ratings per user\n",
    "ratings_per_user = ratings.groupby('user_id')['rating'].count()\n",
    "print(ratings_per_user)\n",
    "# Calculate the mean number of ratings per user\n",
    "mean_ratings_per_user = statistics.mean(ratings_per_user.tolist())\n",
    "mean_ratings_per_user"
   ]
  },
  {
   "cell_type": "code",
   "execution_count": 23,
   "id": "b515fa3c-38b7-4a9b-96e2-48c8c4aae2f2",
   "metadata": {},
   "outputs": [
    {
     "data": {
      "image/png": "[encoded data removed]",
      "text/plain": [
       "<Figure size 432x288 with 1 Axes>"
      ]
     },
     "metadata": {
      "needs_background": "light"
     },
     "output_type": "display_data"
    }
   ],
   "source": [
    "import matplotlib.pyplot as plt\n",
    "\n",
    "# Plot a histogram of the number of ratings per user\n",
    "ratings_per_user.hist(bins=20, range=(0,500))\n",
    "plt.xlabel('Number of Ratings per User')\n",
    "plt.ylabel('Frequency')\n",
    "plt.title('Distribution of Ratings per User')\n",
    "plt.show()"
   ]
  },
  {
   "cell_type": "code",
   "execution_count": 24,
   "id": "dba7099d-c58d-491b-b9ad-d2fd0e9c80d6",
   "metadata": {},
   "outputs": [
    {
     "data": {
      "text/plain": [
       "638.3843054296364"
      ]
     },
     "execution_count": 24,
     "metadata": {},
     "output_type": "execute_result"
    }
   ],
   "source": [
    "# Calculate the number of ratings per anime\n",
    "ratings_per_anime = ratings.groupby('anime_id')['rating'].count()\n",
    "\n",
    "# Calculate the mean number of ratings per anime\n",
    "mean_ratings_per_anime = statistics.mean(ratings_per_anime.tolist())\n",
    "mean_ratings_per_anime"
   ]
  },
  {
   "cell_type": "markdown",
   "id": "a58efa59-ff29-49ab-bc61-a8f205da38be",
   "metadata": {},
   "source": [
    "## Data Preparation"
   ]
  },
  {
   "cell_type": "code",
   "execution_count": 25,
   "id": "d3bb529a-fa7e-42e2-bb56-fc1213dd5793",
   "metadata": {},
   "outputs": [],
   "source": [
    "# Create a DataFrame from the ratings per anime data\n",
    "ratings_per_anime_df = pd.DataFrame(ratings_per_anime)\n",
    "\n",
    "# Filter the DataFrame to include only anime with 1000 or more ratings. Find popular anime\n",
    "filtered_ratings_per_anime_df = ratings_per_anime_df[ratings_per_anime_df.rating >= 1000]\n",
    "\n",
    "# Extract the indices (anime IDs) of popular anime\n",
    "popular_anime = filtered_ratings_per_anime_df.index.tolist()"
   ]
  },
  {
   "cell_type": "code",
   "execution_count": 26,
   "id": "0f3fd9a5-a973-4140-9b86-f0a9b82207ee",
   "metadata": {},
   "outputs": [],
   "source": [
    "# Create a DataFrame from the ratings per user data\n",
    "ratings_per_user_df = pd.DataFrame(ratings_per_user)\n",
    "\n",
    "# Filter the DataFrame to include only users with 500 or more ratings. Find Active rating users\n",
    "filtered_ratings_per_user_df = ratings_per_user_df[ratings_per_user_df.rating >= 500]\n",
    "\n",
    "# Extract the indices (user IDs) of prolific users\n",
    "prolific_users = filtered_ratings_per_user_df.index.tolist()"
   ]
  },
  {
   "cell_type": "code",
   "execution_count": 27,
   "id": "6619e5b8-c77d-49c8-ac0f-2191969aba8b",
   "metadata": {},
   "outputs": [
    {
     "data": {
      "text/plain": [
       "1005314"
      ]
     },
     "execution_count": 27,
     "metadata": {},
     "output_type": "execute_result"
    }
   ],
   "source": [
    "# Filter the ratings dataset to include only ratings for popular anime\n",
    "filtered_ratings = ratings[ratings.anime_id.isin(popular_anime)]\n",
    "\n",
    "# Further filter the ratings dataset to include only ratings from prolific users\n",
    "filtered_ratings = ratings[ratings.user_id.isin(prolific_users)]\n",
    "\n",
    "# Calculate the length of the filtered ratings dataset\n",
    "len(filtered_ratings)"
   ]
  },
  {
   "cell_type": "code",
   "execution_count": 28,
   "id": "8898fbb8-b0df-47ff-bf19-ef096d6e8526",
   "metadata": {},
   "outputs": [
    {
     "data": {
      "text/html": [
       "<div>\n",
       "<style scoped>\n",
       "    .dataframe tbody tr th:only-of-type {\n",
       "        vertical-align: middle;\n",
       "    }\n",
       "\n",
       "    .dataframe tbody tr th {\n",
       "        vertical-align: top;\n",
       "    }\n",
       "\n",
       "    .dataframe thead th {\n",
       "        text-align: right;\n",
       "    }\n",
       "</style>\n",
       "<table border=\"1\" class=\"dataframe\">\n",
       "  <thead>\n",
       "    <tr style=\"text-align: right;\">\n",
       "      <th>anime_id</th>\n",
       "      <th>1</th>\n",
       "      <th>5</th>\n",
       "      <th>6</th>\n",
       "      <th>7</th>\n",
       "      <th>8</th>\n",
       "      <th>15</th>\n",
       "      <th>16</th>\n",
       "      <th>17</th>\n",
       "      <th>18</th>\n",
       "      <th>19</th>\n",
       "      <th>...</th>\n",
       "      <th>34238</th>\n",
       "      <th>34239</th>\n",
       "      <th>34240</th>\n",
       "      <th>34252</th>\n",
       "      <th>34283</th>\n",
       "      <th>34324</th>\n",
       "      <th>34325</th>\n",
       "      <th>34349</th>\n",
       "      <th>34367</th>\n",
       "      <th>34475</th>\n",
       "    </tr>\n",
       "    <tr>\n",
       "      <th>user_id</th>\n",
       "      <th></th>\n",
       "      <th></th>\n",
       "      <th></th>\n",
       "      <th></th>\n",
       "      <th></th>\n",
       "      <th></th>\n",
       "      <th></th>\n",
       "      <th></th>\n",
       "      <th></th>\n",
       "      <th></th>\n",
       "      <th></th>\n",
       "      <th></th>\n",
       "      <th></th>\n",
       "      <th></th>\n",
       "      <th></th>\n",
       "      <th></th>\n",
       "      <th></th>\n",
       "      <th></th>\n",
       "      <th></th>\n",
       "      <th></th>\n",
       "      <th></th>\n",
       "    </tr>\n",
       "  </thead>\n",
       "  <tbody>\n",
       "    <tr>\n",
       "      <th>226</th>\n",
       "      <td>8.0</td>\n",
       "      <td>0.0</td>\n",
       "      <td>8.0</td>\n",
       "      <td>0.0</td>\n",
       "      <td>0.0</td>\n",
       "      <td>0.0</td>\n",
       "      <td>0.0</td>\n",
       "      <td>0.0</td>\n",
       "      <td>0.0</td>\n",
       "      <td>0.0</td>\n",
       "      <td>...</td>\n",
       "      <td>0.0</td>\n",
       "      <td>0.0</td>\n",
       "      <td>0.0</td>\n",
       "      <td>0.0</td>\n",
       "      <td>0.0</td>\n",
       "      <td>0.0</td>\n",
       "      <td>0.0</td>\n",
       "      <td>0.0</td>\n",
       "      <td>0.0</td>\n",
       "      <td>0.0</td>\n",
       "    </tr>\n",
       "    <tr>\n",
       "      <th>271</th>\n",
       "      <td>0.0</td>\n",
       "      <td>0.0</td>\n",
       "      <td>0.0</td>\n",
       "      <td>0.0</td>\n",
       "      <td>0.0</td>\n",
       "      <td>0.0</td>\n",
       "      <td>0.0</td>\n",
       "      <td>0.0</td>\n",
       "      <td>0.0</td>\n",
       "      <td>0.0</td>\n",
       "      <td>...</td>\n",
       "      <td>0.0</td>\n",
       "      <td>0.0</td>\n",
       "      <td>10.0</td>\n",
       "      <td>0.0</td>\n",
       "      <td>0.0</td>\n",
       "      <td>0.0</td>\n",
       "      <td>0.0</td>\n",
       "      <td>0.0</td>\n",
       "      <td>0.0</td>\n",
       "      <td>0.0</td>\n",
       "    </tr>\n",
       "    <tr>\n",
       "      <th>294</th>\n",
       "      <td>7.0</td>\n",
       "      <td>7.0</td>\n",
       "      <td>0.0</td>\n",
       "      <td>0.0</td>\n",
       "      <td>0.0</td>\n",
       "      <td>0.0</td>\n",
       "      <td>0.0</td>\n",
       "      <td>0.0</td>\n",
       "      <td>0.0</td>\n",
       "      <td>0.0</td>\n",
       "      <td>...</td>\n",
       "      <td>0.0</td>\n",
       "      <td>0.0</td>\n",
       "      <td>0.0</td>\n",
       "      <td>0.0</td>\n",
       "      <td>0.0</td>\n",
       "      <td>0.0</td>\n",
       "      <td>0.0</td>\n",
       "      <td>0.0</td>\n",
       "      <td>0.0</td>\n",
       "      <td>0.0</td>\n",
       "    </tr>\n",
       "    <tr>\n",
       "      <th>392</th>\n",
       "      <td>7.0</td>\n",
       "      <td>0.0</td>\n",
       "      <td>7.0</td>\n",
       "      <td>0.0</td>\n",
       "      <td>0.0</td>\n",
       "      <td>0.0</td>\n",
       "      <td>0.0</td>\n",
       "      <td>0.0</td>\n",
       "      <td>7.0</td>\n",
       "      <td>0.0</td>\n",
       "      <td>...</td>\n",
       "      <td>0.0</td>\n",
       "      <td>0.0</td>\n",
       "      <td>0.0</td>\n",
       "      <td>0.0</td>\n",
       "      <td>0.0</td>\n",
       "      <td>0.0</td>\n",
       "      <td>0.0</td>\n",
       "      <td>0.0</td>\n",
       "      <td>0.0</td>\n",
       "      <td>0.0</td>\n",
       "    </tr>\n",
       "    <tr>\n",
       "      <th>446</th>\n",
       "      <td>9.0</td>\n",
       "      <td>8.0</td>\n",
       "      <td>9.0</td>\n",
       "      <td>0.0</td>\n",
       "      <td>0.0</td>\n",
       "      <td>0.0</td>\n",
       "      <td>0.0</td>\n",
       "      <td>0.0</td>\n",
       "      <td>0.0</td>\n",
       "      <td>10.0</td>\n",
       "      <td>...</td>\n",
       "      <td>0.0</td>\n",
       "      <td>0.0</td>\n",
       "      <td>9.0</td>\n",
       "      <td>0.0</td>\n",
       "      <td>0.0</td>\n",
       "      <td>0.0</td>\n",
       "      <td>0.0</td>\n",
       "      <td>0.0</td>\n",
       "      <td>0.0</td>\n",
       "      <td>0.0</td>\n",
       "    </tr>\n",
       "  </tbody>\n",
       "</table>\n",
       "<p>5 rows × 9591 columns</p>\n",
       "</div>"
      ],
      "text/plain": [
       "anime_id  1      5      6      7      8      15     16     17     18     \\\n",
       "user_id                                                                   \n",
       "226         8.0    0.0    8.0    0.0    0.0    0.0    0.0    0.0    0.0   \n",
       "271         0.0    0.0    0.0    0.0    0.0    0.0    0.0    0.0    0.0   \n",
       "294         7.0    7.0    0.0    0.0    0.0    0.0    0.0    0.0    0.0   \n",
       "392         7.0    0.0    7.0    0.0    0.0    0.0    0.0    0.0    7.0   \n",
       "446         9.0    8.0    9.0    0.0    0.0    0.0    0.0    0.0    0.0   \n",
       "\n",
       "anime_id  19     ...  34238  34239  34240  34252  34283  34324  34325  34349  \\\n",
       "user_id          ...                                                           \n",
       "226         0.0  ...    0.0    0.0    0.0    0.0    0.0    0.0    0.0    0.0   \n",
       "271         0.0  ...    0.0    0.0   10.0    0.0    0.0    0.0    0.0    0.0   \n",
       "294         0.0  ...    0.0    0.0    0.0    0.0    0.0    0.0    0.0    0.0   \n",
       "392         0.0  ...    0.0    0.0    0.0    0.0    0.0    0.0    0.0    0.0   \n",
       "446        10.0  ...    0.0    0.0    9.0    0.0    0.0    0.0    0.0    0.0   \n",
       "\n",
       "anime_id  34367  34475  \n",
       "user_id                 \n",
       "226         0.0    0.0  \n",
       "271         0.0    0.0  \n",
       "294         0.0    0.0  \n",
       "392         0.0    0.0  \n",
       "446         0.0    0.0  \n",
       "\n",
       "[5 rows x 9591 columns]"
      ]
     },
     "execution_count": 28,
     "metadata": {},
     "output_type": "execute_result"
    }
   ],
   "source": [
    "# Create a pivot table to construct the user-item rating matrix\n",
    "rating_matrix = filtered_ratings.pivot_table(index='user_id', columns='anime_id', values='rating')\n",
    "\n",
    "# Fill missing values (NaN) with 0\n",
    "rating_matrix = rating_matrix.fillna(0)\n",
    "\n",
    "rating_matrix.head()"
   ]
  },
  {
   "cell_type": "markdown",
   "id": "11418506-5fea-4f8f-8591-b5aec8995e73",
   "metadata": {},
   "source": [
    "## Recommendation Engine Development - User Based Approach"
   ]
  },
  {
   "cell_type": "code",
   "execution_count": 29,
   "id": "adf34826-4ddc-421d-acf8-a4a5a548455b",
   "metadata": {},
   "outputs": [],
   "source": [
    "# Find similar users, exclude itself; convert it to a list\n",
    "from sklearn.metrics.pairwise import cosine_similarity\n",
    "import operator\n",
    "\n",
    "def similar_users(user_id, matrix, k=3):\n",
    "    sim_score = cosine_similarity(matrix)\n",
    "    sim_score_df = pd.DataFrame(sim_score,matrix.index,columns=matrix.index)\n",
    "    users=sim_score_df[user_id].sort_values(ascending=False)[1:].head(k).index\n",
    "    \n",
    "    return users.tolist()"
   ]
  },
  {
   "cell_type": "code",
   "execution_count": 32,
   "id": "25d1961f-f235-4bde-80f1-6d4db138ce9f",
   "metadata": {},
   "outputs": [
    {
     "name": "stdout",
     "output_type": "stream",
     "text": [
      "[1103, 13652, 20314]\n"
     ]
    }
   ],
   "source": [
    "# Define the current user's ID\n",
    "current_user = 271\n",
    "\n",
    "# Find similar users to the current user\n",
    "similar_user_indices = similar_users(current_user, rating_matrix)\n",
    "print(similar_user_indices) "
   ]
  },
  {
   "cell_type": "code",
   "execution_count": 38,
   "id": "d90757a8-9f41-440d-9458-9192c8ef567a",
   "metadata": {},
   "outputs": [],
   "source": [
    "# Recommend items based on top 3 similar users' mean rating; Select top 5\n",
    "def recommend_item(user_index,matrix, items=5):\n",
    "    similar_user_indices = similar_users(user_index,rating_matrix,k=3)\n",
    "    recommended_items=matrix[matrix.index.isin(similar_user_indices)].mean().sort_values().tail(items).index.tolist()\n",
    "    anime_information=animes[animes['anime_id'].isin(recommended_items)]\n",
    "    return anime_information"
   ]
  },
  {
   "cell_type": "code",
   "execution_count": 39,
   "id": "c32ff53f-3d88-4ec2-ba3c-6a2048e5f497",
   "metadata": {},
   "outputs": [
    {
     "data": {
      "text/html": [
       "<div>\n",
       "<style scoped>\n",
       "    .dataframe tbody tr th:only-of-type {\n",
       "        vertical-align: middle;\n",
       "    }\n",
       "\n",
       "    .dataframe tbody tr th {\n",
       "        vertical-align: top;\n",
       "    }\n",
       "\n",
       "    .dataframe thead th {\n",
       "        text-align: right;\n",
       "    }\n",
       "</style>\n",
       "<table border=\"1\" class=\"dataframe\">\n",
       "  <thead>\n",
       "    <tr style=\"text-align: right;\">\n",
       "      <th></th>\n",
       "      <th>anime_id</th>\n",
       "      <th>name</th>\n",
       "      <th>genre</th>\n",
       "      <th>type</th>\n",
       "      <th>episodes</th>\n",
       "      <th>rating</th>\n",
       "      <th>members</th>\n",
       "    </tr>\n",
       "  </thead>\n",
       "  <tbody>\n",
       "    <tr>\n",
       "      <th>10</th>\n",
       "      <td>4181</td>\n",
       "      <td>Clannad: After Story</td>\n",
       "      <td>Drama, Fantasy, Romance, Slice of Life, Supern...</td>\n",
       "      <td>TV</td>\n",
       "      <td>24.0</td>\n",
       "      <td>9.06</td>\n",
       "      <td>456749</td>\n",
       "    </tr>\n",
       "    <tr>\n",
       "      <th>36</th>\n",
       "      <td>11741</td>\n",
       "      <td>Fate/Zero 2nd Season</td>\n",
       "      <td>Action, Fantasy, Supernatural, Thriller</td>\n",
       "      <td>TV</td>\n",
       "      <td>12.0</td>\n",
       "      <td>8.73</td>\n",
       "      <td>340973</td>\n",
       "    </tr>\n",
       "    <tr>\n",
       "      <th>94</th>\n",
       "      <td>10087</td>\n",
       "      <td>Fate/Zero</td>\n",
       "      <td>Action, Fantasy, Supernatural</td>\n",
       "      <td>TV</td>\n",
       "      <td>13.0</td>\n",
       "      <td>8.51</td>\n",
       "      <td>453630</td>\n",
       "    </tr>\n",
       "    <tr>\n",
       "      <th>180</th>\n",
       "      <td>18195</td>\n",
       "      <td>Little Busters!: Refrain</td>\n",
       "      <td>Comedy, Drama, Romance, School, Slice of Life,...</td>\n",
       "      <td>TV</td>\n",
       "      <td>13.0</td>\n",
       "      <td>8.36</td>\n",
       "      <td>71820</td>\n",
       "    </tr>\n",
       "    <tr>\n",
       "      <th>223</th>\n",
       "      <td>2167</td>\n",
       "      <td>Clannad</td>\n",
       "      <td>Comedy, Drama, Romance, School, Slice of Life,...</td>\n",
       "      <td>TV</td>\n",
       "      <td>23.0</td>\n",
       "      <td>8.30</td>\n",
       "      <td>566690</td>\n",
       "    </tr>\n",
       "  </tbody>\n",
       "</table>\n",
       "</div>"
      ],
      "text/plain": [
       "     anime_id                      name  \\\n",
       "10       4181      Clannad: After Story   \n",
       "36      11741      Fate/Zero 2nd Season   \n",
       "94      10087                 Fate/Zero   \n",
       "180     18195  Little Busters!: Refrain   \n",
       "223      2167                   Clannad   \n",
       "\n",
       "                                                 genre type  episodes  rating  \\\n",
       "10   Drama, Fantasy, Romance, Slice of Life, Supern...   TV      24.0    9.06   \n",
       "36             Action, Fantasy, Supernatural, Thriller   TV      12.0    8.73   \n",
       "94                       Action, Fantasy, Supernatural   TV      13.0    8.51   \n",
       "180  Comedy, Drama, Romance, School, Slice of Life,...   TV      13.0    8.36   \n",
       "223  Comedy, Drama, Romance, School, Slice of Life,...   TV      23.0    8.30   \n",
       "\n",
       "     members  \n",
       "10    456749  \n",
       "36    340973  \n",
       "94    453630  \n",
       "180    71820  \n",
       "223   566690  "
      ]
     },
     "execution_count": 39,
     "metadata": {},
     "output_type": "execute_result"
    }
   ],
   "source": [
    "# Test for user ID 271\n",
    "recommend_item(271,rating_matrix)"
   ]
  },
  {
   "cell_type": "markdown",
   "id": "360b43c0-ceb9-4118-ac0f-f0be9fb3c6b5",
   "metadata": {},
   "source": [
    "## Recommendation Engine Development - Item Based Approach"
   ]
  },
  {
   "cell_type": "code",
   "execution_count": 41,
   "id": "ce6304d6-ffeb-4c96-bea0-ba9928baca9b",
   "metadata": {},
   "outputs": [],
   "source": [
    "# Define dataset representing ratings given by users to various TV shows\n",
    "dataset = {\n",
    "    'user1': {'Mindhunter': 5, 'You': 3, 'Dexter': 3, 'Mr. Robot': 3, 'True Detective': 2, 'Twin Peaks': 3},\n",
    "    'user2': {'Mindhunter': 5, 'You': 3, 'Mr. Robot': 5, 'Dexter': 5, 'Twin Peaks': 3, 'True Detective': 3},\n",
    "    'user3': {'Mindhunter': 2, 'Dexter': 5, 'Mr. Robot': 3, 'Twin Peaks': 4},\n",
    "    'user4': {'Dexter': 5, 'Twin Peaks': 4, 'Mr. Robot': 4},\n",
    "    'user5': {'Mindhunter': 4, 'You': 4, 'Dexter': 4, 'Twin Peaks': 3, 'True Detective': 2},\n",
    "    'user6': {'Mindhunter': 3, 'Dexter': 4, 'Twin Peaks': 3, 'Mr. Robot': 5, 'True Detective': 3},\n",
    "    'user7': {'Dexter': 4, 'True Detective': 1, 'Mr. Robot': 4}\n",
    "}"
   ]
  },
  {
   "cell_type": "code",
   "execution_count": 45,
   "id": "8fa3019b-7e73-4586-84d7-5b0ee8b24aee",
   "metadata": {},
   "outputs": [
    {
     "data": {
      "text/html": [
       "<div>\n",
       "<style scoped>\n",
       "    .dataframe tbody tr th:only-of-type {\n",
       "        vertical-align: middle;\n",
       "    }\n",
       "\n",
       "    .dataframe tbody tr th {\n",
       "        vertical-align: top;\n",
       "    }\n",
       "\n",
       "    .dataframe thead th {\n",
       "        text-align: right;\n",
       "    }\n",
       "</style>\n",
       "<table border=\"1\" class=\"dataframe\">\n",
       "  <thead>\n",
       "    <tr style=\"text-align: right;\">\n",
       "      <th></th>\n",
       "      <th>user1</th>\n",
       "      <th>user2</th>\n",
       "      <th>user3</th>\n",
       "      <th>user4</th>\n",
       "      <th>user5</th>\n",
       "      <th>user6</th>\n",
       "      <th>user7</th>\n",
       "    </tr>\n",
       "  </thead>\n",
       "  <tbody>\n",
       "    <tr>\n",
       "      <th>Mindhunter</th>\n",
       "      <td>5</td>\n",
       "      <td>5</td>\n",
       "      <td>2.0</td>\n",
       "      <td>Not Seen</td>\n",
       "      <td>4.0</td>\n",
       "      <td>3.0</td>\n",
       "      <td>Not Seen</td>\n",
       "    </tr>\n",
       "    <tr>\n",
       "      <th>You</th>\n",
       "      <td>3</td>\n",
       "      <td>3</td>\n",
       "      <td>Not Seen</td>\n",
       "      <td>Not Seen</td>\n",
       "      <td>4.0</td>\n",
       "      <td>Not Seen</td>\n",
       "      <td>Not Seen</td>\n",
       "    </tr>\n",
       "    <tr>\n",
       "      <th>Dexter</th>\n",
       "      <td>3</td>\n",
       "      <td>5</td>\n",
       "      <td>5.0</td>\n",
       "      <td>5.0</td>\n",
       "      <td>4.0</td>\n",
       "      <td>4.0</td>\n",
       "      <td>4.0</td>\n",
       "    </tr>\n",
       "    <tr>\n",
       "      <th>Mr. Robot</th>\n",
       "      <td>3</td>\n",
       "      <td>5</td>\n",
       "      <td>3.0</td>\n",
       "      <td>4.0</td>\n",
       "      <td>Not Seen</td>\n",
       "      <td>5.0</td>\n",
       "      <td>4.0</td>\n",
       "    </tr>\n",
       "    <tr>\n",
       "      <th>True Detective</th>\n",
       "      <td>2</td>\n",
       "      <td>3</td>\n",
       "      <td>Not Seen</td>\n",
       "      <td>Not Seen</td>\n",
       "      <td>2.0</td>\n",
       "      <td>3.0</td>\n",
       "      <td>1.0</td>\n",
       "    </tr>\n",
       "    <tr>\n",
       "      <th>Twin Peaks</th>\n",
       "      <td>3</td>\n",
       "      <td>3</td>\n",
       "      <td>4.0</td>\n",
       "      <td>4.0</td>\n",
       "      <td>3.0</td>\n",
       "      <td>3.0</td>\n",
       "      <td>Not Seen</td>\n",
       "    </tr>\n",
       "  </tbody>\n",
       "</table>\n",
       "</div>"
      ],
      "text/plain": [
       "                user1  user2     user3     user4     user5     user6     user7\n",
       "Mindhunter          5      5       2.0  Not Seen       4.0       3.0  Not Seen\n",
       "You                 3      3  Not Seen  Not Seen       4.0  Not Seen  Not Seen\n",
       "Dexter              3      5       5.0       5.0       4.0       4.0       4.0\n",
       "Mr. Robot           3      5       3.0       4.0  Not Seen       5.0       4.0\n",
       "True Detective      2      3  Not Seen  Not Seen       2.0       3.0       1.0\n",
       "Twin Peaks          3      3       4.0       4.0       3.0       3.0  Not Seen"
      ]
     },
     "execution_count": 45,
     "metadata": {},
     "output_type": "execute_result"
    }
   ],
   "source": [
    "# Convert the dataset dictionary to a DataFrame\n",
    "dataset_df = pd.DataFrame(dataset)\n",
    "\n",
    "# Fill missing values (NaN) with \"Not Seen\"\n",
    "dataset_df.fillna(\"Not Seen\", inplace=True)\n",
    "\n",
    "dataset_df"
   ]
  },
  {
   "cell_type": "code",
   "execution_count": 46,
   "id": "fb5e2abd-b5d5-4dcc-bd1e-cd7788d0148a",
   "metadata": {},
   "outputs": [],
   "source": [
    "def unique_items():\n",
    "   \n",
    "    return pd.DataFrame(dataset).index.unique().tolist()"
   ]
  },
  {
   "cell_type": "code",
   "execution_count": 47,
   "id": "7515a58e-7124-406b-8809-a9666309fecb",
   "metadata": {},
   "outputs": [],
   "source": [
    "df=pd.DataFrame(dataset)"
   ]
  },
  {
   "cell_type": "code",
   "execution_count": 48,
   "id": "91684880-393b-46e0-ba2c-fbd5e0cf991d",
   "metadata": {},
   "outputs": [
    {
     "data": {
      "text/html": [
       "<div>\n",
       "<style scoped>\n",
       "    .dataframe tbody tr th:only-of-type {\n",
       "        vertical-align: middle;\n",
       "    }\n",
       "\n",
       "    .dataframe tbody tr th {\n",
       "        vertical-align: top;\n",
       "    }\n",
       "\n",
       "    .dataframe thead th {\n",
       "        text-align: right;\n",
       "    }\n",
       "</style>\n",
       "<table border=\"1\" class=\"dataframe\">\n",
       "  <thead>\n",
       "    <tr style=\"text-align: right;\">\n",
       "      <th></th>\n",
       "      <th>user1</th>\n",
       "      <th>user2</th>\n",
       "      <th>user3</th>\n",
       "      <th>user4</th>\n",
       "      <th>user5</th>\n",
       "      <th>user6</th>\n",
       "      <th>user7</th>\n",
       "    </tr>\n",
       "  </thead>\n",
       "  <tbody>\n",
       "    <tr>\n",
       "      <th>Mindhunter</th>\n",
       "      <td>5</td>\n",
       "      <td>5</td>\n",
       "      <td>2.0</td>\n",
       "      <td>NaN</td>\n",
       "      <td>4.0</td>\n",
       "      <td>3.0</td>\n",
       "      <td>NaN</td>\n",
       "    </tr>\n",
       "    <tr>\n",
       "      <th>You</th>\n",
       "      <td>3</td>\n",
       "      <td>3</td>\n",
       "      <td>NaN</td>\n",
       "      <td>NaN</td>\n",
       "      <td>4.0</td>\n",
       "      <td>NaN</td>\n",
       "      <td>NaN</td>\n",
       "    </tr>\n",
       "    <tr>\n",
       "      <th>Dexter</th>\n",
       "      <td>3</td>\n",
       "      <td>5</td>\n",
       "      <td>5.0</td>\n",
       "      <td>5.0</td>\n",
       "      <td>4.0</td>\n",
       "      <td>4.0</td>\n",
       "      <td>4.0</td>\n",
       "    </tr>\n",
       "    <tr>\n",
       "      <th>Mr. Robot</th>\n",
       "      <td>3</td>\n",
       "      <td>5</td>\n",
       "      <td>3.0</td>\n",
       "      <td>4.0</td>\n",
       "      <td>NaN</td>\n",
       "      <td>5.0</td>\n",
       "      <td>4.0</td>\n",
       "    </tr>\n",
       "    <tr>\n",
       "      <th>True Detective</th>\n",
       "      <td>2</td>\n",
       "      <td>3</td>\n",
       "      <td>NaN</td>\n",
       "      <td>NaN</td>\n",
       "      <td>2.0</td>\n",
       "      <td>3.0</td>\n",
       "      <td>1.0</td>\n",
       "    </tr>\n",
       "    <tr>\n",
       "      <th>Twin Peaks</th>\n",
       "      <td>3</td>\n",
       "      <td>3</td>\n",
       "      <td>4.0</td>\n",
       "      <td>4.0</td>\n",
       "      <td>3.0</td>\n",
       "      <td>3.0</td>\n",
       "      <td>NaN</td>\n",
       "    </tr>\n",
       "  </tbody>\n",
       "</table>\n",
       "</div>"
      ],
      "text/plain": [
       "                user1  user2  user3  user4  user5  user6  user7\n",
       "Mindhunter          5      5    2.0    NaN    4.0    3.0    NaN\n",
       "You                 3      3    NaN    NaN    4.0    NaN    NaN\n",
       "Dexter              3      5    5.0    5.0    4.0    4.0    4.0\n",
       "Mr. Robot           3      5    3.0    4.0    NaN    5.0    4.0\n",
       "True Detective      2      3    NaN    NaN    2.0    3.0    1.0\n",
       "Twin Peaks          3      3    4.0    4.0    3.0    3.0    NaN"
      ]
     },
     "execution_count": 48,
     "metadata": {},
     "output_type": "execute_result"
    }
   ],
   "source": [
    "df"
   ]
  },
  {
   "cell_type": "code",
   "execution_count": 49,
   "id": "a1ecbf95-721e-4806-9fa5-a6983945dfb6",
   "metadata": {},
   "outputs": [],
   "source": [
    "def item_similarity(item1, item2):\n",
    "    sim = cosine_similarity(df.fillna(0))\n",
    "    sim_df = pd.DataFrame(sim,columns=df.index,index=df.index)\n",
    "    cs=sim_df[sim_df.index==item1][item2].values\n",
    "    \n",
    "    return cs"
   ]
  },
  {
   "cell_type": "code",
   "execution_count": 52,
   "id": "5be16f73-d788-42bb-bd29-89104048218f",
   "metadata": {},
   "outputs": [
    {
     "name": "stdout",
     "output_type": "stream",
     "text": [
      "Cosine Similarity: [0.91390769]\n"
     ]
    }
   ],
   "source": [
    "# Print the cosine similarity between 'Dexter' and 'Mr. Robot' based on ratings\n",
    "print(\"Cosine Similarity:\", item_similarity('Dexter', 'Mr. Robot'))"
   ]
  },
  {
   "cell_type": "code",
   "execution_count": 66,
   "id": "c4b2124c-8f8f-41db-ac0e-f332596515a7",
   "metadata": {},
   "outputs": [],
   "source": [
    "def most_similar_items(target_item):\n",
    "    # Obtain a list of all unique items\n",
    "    un_lst = unique_items()\n",
    "\n",
    "    # Calculate similarity scores between the target item and all other items\n",
    "    scores = [(item_similarity(target_item, other_item), target_item + \" >>> \" + other_item) for other_item in un_lst if other_item != target_item]\n",
    "\n",
    "    # Sort the similarity scores in descending order\n",
    "    scores.sort(reverse=True)\n",
    "\n",
    "    # Return the sorted similarity scores\n",
    "    return scores"
   ]
  },
  {
   "cell_type": "code",
   "execution_count": 67,
   "id": "abc50f84-6d1b-48b5-b004-6bc0611eab66",
   "metadata": {},
   "outputs": [
    {
     "name": "stdout",
     "output_type": "stream",
     "text": [
      "[(array([0.92884073]), 'Dexter >>> Twin Peaks'), (array([0.91390769]), 'Dexter >>> Mr. Robot'), (array([0.76382539]), 'Dexter >>> Mindhunter'), (array([0.75377836]), 'Dexter >>> True Detective'), (array([0.59708143]), 'Dexter >>> You')]\n"
     ]
    }
   ],
   "source": [
    "# Print the most similar items to 'Dexter' based on their similarity scores\n",
    "print(most_similar_items('Dexter'))"
   ]
  },
  {
   "cell_type": "code",
   "execution_count": 57,
   "id": "cadb2f1c-fd6d-4c36-81b3-2a7b920c9cd6",
   "metadata": {},
   "outputs": [],
   "source": [
    "def target_shows_to_users(target_person):\n",
    "    # Get all unique shows from the dataset\n",
    "    unique_shows = set(df.index)\n",
    "\n",
    "    # Get shows rated by the target person\n",
    "    target_person_shows = set(df[target_person].dropna().index)\n",
    "\n",
    "    # Find shows not yet rated by the target person\n",
    "    recommended_shows = list(unique_shows - target_person_shows)\n",
    "\n",
    "    # Return recommendations (or 0 if no recommendations available)\n",
    "    return recommended_shows, list(target_person_shows)"
   ]
  },
  {
   "cell_type": "code",
   "execution_count": 64,
   "id": "e3c9d385-9454-47c3-afd8-0f5213333a4f",
   "metadata": {},
   "outputs": [
    {
     "data": {
      "text/html": [
       "<div>\n",
       "<style scoped>\n",
       "    .dataframe tbody tr th:only-of-type {\n",
       "        vertical-align: middle;\n",
       "    }\n",
       "\n",
       "    .dataframe tbody tr th {\n",
       "        vertical-align: top;\n",
       "    }\n",
       "\n",
       "    .dataframe thead th {\n",
       "        text-align: right;\n",
       "    }\n",
       "</style>\n",
       "<table border=\"1\" class=\"dataframe\">\n",
       "  <thead>\n",
       "    <tr style=\"text-align: right;\">\n",
       "      <th></th>\n",
       "      <th>Seen Shows</th>\n",
       "      <th>Unseen Shows</th>\n",
       "    </tr>\n",
       "  </thead>\n",
       "  <tbody>\n",
       "    <tr>\n",
       "      <th>0</th>\n",
       "      <td>Dexter</td>\n",
       "      <td>Mindhunter</td>\n",
       "    </tr>\n",
       "    <tr>\n",
       "      <th>1</th>\n",
       "      <td>True Detective</td>\n",
       "      <td>You</td>\n",
       "    </tr>\n",
       "    <tr>\n",
       "      <th>2</th>\n",
       "      <td>Mr. Robot</td>\n",
       "      <td>Twin Peaks</td>\n",
       "    </tr>\n",
       "  </tbody>\n",
       "</table>\n",
       "</div>"
      ],
      "text/plain": [
       "       Seen Shows Unseen Shows\n",
       "0          Dexter   Mindhunter\n",
       "1  True Detective          You\n",
       "2       Mr. Robot   Twin Peaks"
      ]
     },
     "execution_count": 64,
     "metadata": {},
     "output_type": "execute_result"
    }
   ],
   "source": [
    "# Obtain lists of unseen and seen tv shows for user 'user7' using the target_shows_to_users function\n",
    "unseen_shows, seen_shows = target_shows_to_users('user7')\n",
    "\n",
    "# Create a dictionary to store unseen and seen movies\n",
    "dct = {\"Seen Shows\": seen_shows, \"Unseen Shows\": unseen_shows}\n",
    "\n",
    "# Convert the dictionary to a DataFrame for better visualization\n",
    "pd.DataFrame(dct)"
   ]
  }
 ],
 "metadata": {
  "kernelspec": {
   "display_name": "Python 3 [3.10]",
   "language": "python",
   "name": "python3"
  },
  "language_info": {
   "codemirror_mode": {
    "name": "ipython",
    "version": 3
   },
   "file_extension": ".py",
   "mimetype": "text/x-python",
   "name": "python",
   "nbconvert_exporter": "python",
   "pygments_lexer": "ipython3",
   "version": "3.10.2"
  }
 },
 "nbformat": 4,
 "nbformat_minor": 5
}
