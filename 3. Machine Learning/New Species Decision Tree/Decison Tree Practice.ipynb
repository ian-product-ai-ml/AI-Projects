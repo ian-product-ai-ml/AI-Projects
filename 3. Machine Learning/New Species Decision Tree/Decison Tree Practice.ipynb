{
 "cells": [
  {
   "cell_type": "code",
   "execution_count": 5,
   "id": "00067f37-564c-4b4a-add8-71dd29ad30b6",
   "metadata": {},
   "outputs": [],
   "source": [
    "import pandas as pd"
   ]
  },
  {
   "cell_type": "code",
   "execution_count": 7,
   "id": "43fd3e51-75f1-4257-bdd0-3137d57d5e0b",
   "metadata": {},
   "outputs": [],
   "source": [
    "df = pd.read_csv(\"iris.csv\")"
   ]
  },
  {
   "cell_type": "code",
   "execution_count": null,
   "id": "59bd73e1-e2bd-4ef8-814c-2af1db372a0f",
   "metadata": {},
   "outputs": [],
   "source": [
    "df.head()"
   ]
  },
  {
   "cell_type": "code",
   "execution_count": null,
   "id": "c458449b-05dd-41c7-9cfc-cabe999f569d",
   "metadata": {},
   "outputs": [],
   "source": [
    "from sklearn.model_selection import train_test_split"
   ]
  },
  {
   "cell_type": "code",
   "execution_count": null,
   "id": "82ee23a0-9881-4ae3-9dce-1091a01652a6",
   "metadata": {},
   "outputs": [],
   "source": [
    "x = df.drop(columns=['species'])\n",
    "y = df['species']\n",
    "x_train,x_test,y_train,y_test = train_test_split(x,y,random_state=0)"
   ]
  },
  {
   "cell_type": "code",
   "execution_count": null,
   "id": "c3f760f4-de9a-4377-bc7b-e707df73f795",
   "metadata": {},
   "outputs": [],
   "source": [
    "# Decison Tree\n",
    "from sklearn.tree import DecisionTreeClassifier, plot_tree, export_graphviz\n",
    "from matplotlib import pyplot as plt"
   ]
  },
  {
   "cell_type": "code",
   "execution_count": null,
   "id": "5c658e46-bc6a-4a79-96bf-56ffe158cf2a",
   "metadata": {},
   "outputs": [],
   "source": [
    "model = DecisionTreeClassifier(max_depth=2)\n",
    "model.fit(x_train,y_train)\n",
    "print(\"Train Score: \", model.score(x_train,y_train))\n",
    "print(\"Test Score: \", model.score(x_test,y_test))"
   ]
  },
  {
   "cell_type": "code",
   "execution_count": null,
   "id": "3409b2af-6907-40f9-9857-13dd78a0a6ab",
   "metadata": {},
   "outputs": [],
   "source": [
    "plt.figure(figsize=(14,8))\n",
    "plot_tree(model,feature_names=x_train.columns,filled=True,rounded=True)\n",
    "plt.show()"
   ]
  },
  {
   "cell_type": "code",
   "execution_count": null,
   "id": "5cfeef22-b1d9-4301-abaf-6b99b69c96ef",
   "metadata": {},
   "outputs": [],
   "source": [
    "x_train[x_train['Petal.Width']<=0.8].index"
   ]
  },
  {
   "cell_type": "code",
   "execution_count": null,
   "id": "a88d70a2-a99e-4749-a825-631b17f79de8",
   "metadata": {},
   "outputs": [],
   "source": [
    "y_train[x_train[x_train['Petal.Width']<=0.8].index]"
   ]
  },
  {
   "cell_type": "code",
   "execution_count": null,
   "id": "1d9ee971-994f-460e-af19-9a961a91a944",
   "metadata": {},
   "outputs": [],
   "source": [
    "model = DecisionTreeClassifier()\n",
    "model.fit(x_train,y_train)\n",
    "print(\"Train Score: \", model.score(x_train,y_train))\n",
    "print(\"Test Score: \", model.score(x_test,y_test))\n",
    "\n",
    "plt.figure(figsize=(14,8))\n",
    "plot_tree(model,feature_names=x_train.columns,filled=True,rounded=True)\n",
    "plt.show()"
   ]
  },
  {
   "cell_type": "markdown",
   "id": "9aa13d80-a088-4115-8713-57be0ad58c10",
   "metadata": {},
   "source": [
    "# Pruning trees: Take care of Overfitting"
   ]
  },
  {
   "cell_type": "code",
   "execution_count": null,
   "id": "745192d0-0ea9-4a75-a9b8-e93121c7c739",
   "metadata": {},
   "outputs": [],
   "source": [
    "# Method 1\n",
    "model = DecisionTreeClassifier(max_depth=3) #Max depth can be a hyperparameter to fine tune\n",
    "model.fit(x_train,y_train)\n",
    "print(\"Train Score: \", model.score(x_train,y_train))\n",
    "print(\"Test Score: \", model.score(x_test,y_test))\n",
    "\n",
    "plt.figure(figsize=(14,8))\n",
    "plot_tree(model,feature_names=x_train.columns,filled=True,rounded=True)\n",
    "plt.show()"
   ]
  },
  {
   "cell_type": "code",
   "execution_count": null,
   "id": "ff9b5930-b178-4cdd-920c-d37d3fc5fcc3",
   "metadata": {},
   "outputs": [],
   "source": [
    "# Method 2\n",
    "model = DecisionTreeClassifier(min_samples_split=10)\n",
    "model.fit(x_train,y_train)\n",
    "print(\"Train Score: \", model.score(x_train,y_train))\n",
    "print(\"Test Score: \", model.score(x_test,y_test))\n",
    "\n",
    "plt.figure(figsize=(14,8))\n",
    "plot_tree(model,feature_names=x_train.columns,filled=True,rounded=True)\n",
    "plt.show()"
   ]
  },
  {
   "cell_type": "code",
   "execution_count": null,
   "id": "1c784e81-fdfd-410a-a5af-00643c3cf260",
   "metadata": {},
   "outputs": [],
   "source": [
    "# Mothod 3\n",
    "model = DecisionTreeClassifier(min_samples_leaf=10)\n",
    "model.fit(x_train,y_train)\n",
    "print(\"Train Score: \", model.score(x_train,y_train))\n",
    "print(\"Test Score: \", model.score(x_test,y_test))\n",
    "\n",
    "plt.figure(figsize=(14,8))\n",
    "plot_tree(model,feature_names=x_train.columns,filled=True,rounded=True)\n",
    "plt.show()"
   ]
  },
  {
   "cell_type": "code",
   "execution_count": null,
   "id": "e7e55c60-7cdd-4dd4-8787-ba24bceda556",
   "metadata": {},
   "outputs": [],
   "source": [
    "# Mothod 4 (adding penalty)\n",
    "model = DecisionTreeClassifier(ccp_alpha=0.001) # cost complexity pruning alpha. ccp up, smaller tree. ccp down, larger tree can overfit\n",
    "model.fit(x_train,y_train)\n",
    "print(\"Train Score: \", model.score(x_train,y_train))\n",
    "print(\"Test Score: \", model.score(x_test,y_test))\n",
    "\n",
    "plt.figure(figsize=(14,8))\n",
    "plot_tree(model,feature_names=x_train.columns,filled=True,rounded=True)\n",
    "plt.show()"
   ]
  },
  {
   "cell_type": "code",
   "execution_count": null,
   "id": "29f5b8bf-0f39-4985-a4fc-19fb26a6ad19",
   "metadata": {},
   "outputs": [],
   "source": [
    "model = DecisionTreeClassifier(min_samples_split=10,min_samples_leaf=10,ccp_alpha=0.001)\n",
    "model.fit(x_train,y_train)\n",
    "print(\"Train Score: \", model.score(x_train,y_train))\n",
    "print(\"Test Score: \", model.score(x_test,y_test))\n",
    "\n",
    "plt.figure(figsize=(14,8))\n",
    "plot_tree(model,feature_names=x_train.columns,filled=True,rounded=True)\n",
    "plt.show()"
   ]
  },
  {
   "cell_type": "markdown",
   "id": "b762cd3a-9399-4b86-ad28-3ddf1faaf9fa",
   "metadata": {},
   "source": [
    "## Regression Tree"
   ]
  },
  {
   "cell_type": "code",
   "execution_count": null,
   "id": "64f37959-8193-4359-b3eb-634e7e33fc10",
   "metadata": {},
   "outputs": [],
   "source": [
    "df = pd.read_csv(\"house.csv\")"
   ]
  },
  {
   "cell_type": "code",
   "execution_count": null,
   "id": "0a810e62-9589-4996-8374-5b22fa3691a6",
   "metadata": {},
   "outputs": [],
   "source": [
    "x =df[['SqFt','Bedrooms']]\n",
    "y = df['Price']\n",
    "x_train,x_test,y_train,y_test = train_test_split(x,y,random_state=0)\n"
   ]
  },
  {
   "cell_type": "code",
   "execution_count": null,
   "id": "51f35192-cd17-414c-88c5-aa9bf9ce9697",
   "metadata": {},
   "outputs": [],
   "source": [
    "from sklearn.tree import DecisionTreeRegressor\n",
    "regModel = DecisionTreeRegressor()\n",
    "regModel.fit(x_train,y_train)\n",
    "print(\"Train Score: \", regModel.score(x_train,y_train))\n",
    "print(\"Test Score: \", regModel.score(x_test,y_test)) #test score negative, not good. demo purpose"
   ]
  },
  {
   "cell_type": "code",
   "execution_count": null,
   "id": "9ed49f72-996d-452f-86b8-8f2708e2b8a5",
   "metadata": {},
   "outputs": [],
   "source": [
    "plt.figure(figsize=(14,8))\n",
    "plot_tree(regModel,feature_names=x_train.columns,filled=True,rounded=True)\n",
    "plt.show()"
   ]
  },
  {
   "cell_type": "code",
   "execution_count": null,
   "id": "147a7f0f-f6fe-4292-9108-a2140a9dc17e",
   "metadata": {},
   "outputs": [],
   "source": [
    "# getting prediction\n",
    "regModel.predict([[30000000,50]])"
   ]
  },
  {
   "cell_type": "code",
   "execution_count": null,
   "id": "55221553-009f-45b0-b79f-2e351fb2b914",
   "metadata": {},
   "outputs": [],
   "source": [
    "from sklearn.tree import export_graphviz"
   ]
  },
  {
   "cell_type": "code",
   "execution_count": null,
   "id": "4d4e0f71-d464-4a11-b3d9-5cf4ce7e4403",
   "metadata": {},
   "outputs": [],
   "source": [
    "export_graphviz(regModel,out_file=\"reg_model_house.dot\",feature_names=x_train.columns,rounded=True,filled=True)"
   ]
  },
  {
   "cell_type": "code",
   "execution_count": null,
   "id": "044e35b4-36b7-4570-8184-661c6b3a665b",
   "metadata": {},
   "outputs": [],
   "source": [
    "# Goto http://www.webgraphviz.com/ and paste the content of above dot file to generate the tree\n",
    "# We don't use decision tree for regession purpose, normally"
   ]
  }
 ],
 "metadata": {
  "kernelspec": {
   "display_name": "Python 3 [3.10]",
   "language": "python",
   "name": "python3"
  },
  "language_info": {
   "codemirror_mode": {
    "name": "ipython",
    "version": 3
   },
   "file_extension": ".py",
   "mimetype": "text/x-python",
   "name": "python",
   "nbconvert_exporter": "python",
   "pygments_lexer": "ipython3",
   "version": "3.10.2"
  }
 },
 "nbformat": 4,
 "nbformat_minor": 5
}
