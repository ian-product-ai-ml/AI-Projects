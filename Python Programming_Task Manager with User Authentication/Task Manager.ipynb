{
 "cells": [
  {
   "cell_type": "code",
   "execution_count": 1,
   "id": "540d02f6-08d5-4254-bd18-0b86295aa173",
   "metadata": {},
   "outputs": [],
   "source": [
    "# Function to register a new user\n",
    "import os\n",
    "import hashlib"
   ]
  },
  {
   "cell_type": "markdown",
   "id": "e14dd818-e342-4a1a-9340-ef162d9980b7",
   "metadata": {
    "tags": []
   },
   "source": [
    "## User Authentication"
   ]
  },
  {
   "cell_type": "code",
   "execution_count": 2,
   "id": "28f64471-e4c3-4ad0-83fe-4e0baca5af47",
   "metadata": {},
   "outputs": [],
   "source": [
    "def register():\n",
    "    username = input(\"Enter new username: \")\n",
    "    password = input(\"Enter new password: \")\n",
    "    \n",
    "    # Check if the username is already taken\n",
    "    if not os.path.exists('users.txt'):\n",
    "        with open('users.txt', 'w') as file:\n",
    "            pass  # Create the file if it doesn't exist\n",
    "        \n",
    "    with open('users.txt','r') as file:\n",
    "        users = file.readlines()\n",
    "        for user in users:\n",
    "            existing_username = user.strip().split(\",\")[0]\n",
    "            if existing_username == username:\n",
    "                print(\"Username already exists. Please enter a different username.\")\n",
    "                return\n",
    "    \n",
    "    # Hash password\n",
    "    hash_password = hashlib.sha256(password.encode()).hexdigest()\n",
    "    \n",
    "    # Store the new user's credentials in the 'users.txt' file\n",
    "    with open('users.txt','a') as file:\n",
    "        file.write(f\"{username},{hash_password}\\n\")\n",
    "    print(\"Registration Successful!\")"
   ]
  },
  {
   "cell_type": "code",
   "execution_count": 3,
   "id": "5cccf8c6-0e72-4aa7-a12d-f051eec96a2a",
   "metadata": {},
   "outputs": [],
   "source": [
    "def login():\n",
    "    username = input(\"Enter your username: \")\n",
    "    password = input(\"Enter your password: \")\n",
    "    \n",
    "    # Hash password\n",
    "    hashed_password = hashlib.sha256(password.encode()).hexdigest()\n",
    "    \n",
    "    # Validate credentials\n",
    "    with open('users.txt','r') as file:\n",
    "        users = file.readlines()\n",
    "        for user in users:\n",
    "            existing_username, stored_password = user.strip().split(\",\")\n",
    "            if existing_username == username and stored_password == hashed_password:\n",
    "                print(\"Login Successful! Access granted.\")\n",
    "                return\n",
    "    print(\"Invalid username or password. Try again\")"
   ]
  },
  {
   "cell_type": "markdown",
   "id": "2d197858-81fa-4a53-a6bc-b0e02fdb0ecf",
   "metadata": {},
   "source": [
    "## Add Task"
   ]
  },
  {
   "cell_type": "code",
   "execution_count": 4,
   "id": "7f240f3f-73d6-4b31-afe4-9a1ebe58824b",
   "metadata": {},
   "outputs": [],
   "source": [
    "def add_task(username):\n",
    "    task_description = input(\"Enter task description: \")\n",
    "    task_status = \"Pending\"\n",
    "    \n",
    "    # Determine task ID by counting existing tasks\n",
    "    task_id = 1\n",
    "    if os.path.exists('tasks.txt'):\n",
    "        with open('tasks.txt','r') as file:\n",
    "            tasks = file.readlines()\n",
    "            task_id = len(tasks) + 1\n",
    "            \n",
    "    #Store task in tasks.txt\n",
    "    with open('tasks.txt','a') as file:\n",
    "        file.write(f\"{username},{task_id},{task_description},{task_status}\\n\")\n",
    "    print(\"Task added successfully!\")  \n",
    "    "
   ]
  },
  {
   "cell_type": "markdown",
   "id": "294d4279-92bc-4c17-b089-b7955bf94655",
   "metadata": {},
   "source": [
    "## View Task"
   ]
  },
  {
   "cell_type": "code",
   "execution_count": 5,
   "id": "2a37fcd5-68e3-4cd9-abf3-0e1f02948473",
   "metadata": {},
   "outputs": [],
   "source": [
    "def view_task(username):\n",
    "    with open('tasks.txt', 'r') as file:\n",
    "        tasks = file.readlines()\n",
    "        user_tasks = []\n",
    "        \n",
    "        for task in tasks:\n",
    "            task = task.strip()\n",
    "            if task.startswith(username + ','):\n",
    "                user_tasks.append(task)\n",
    "                \n",
    "        if user_tasks:\n",
    "            print(f\"Tasks for {username}:\")\n",
    "            for task in user_tasks:\n",
    "                _, task_id, task_description, task_status = task.split(\",\")\n",
    "                print(f\"Task ID: {task_id}, Description: {task_description}, Status: {task_status}\")\n",
    "        else:\n",
    "            print(\"No tasks found for this user.\")"
   ]
  },
  {
   "cell_type": "markdown",
   "id": "e1a1d4fe-4d0b-49fe-86d2-60e2e6586ee6",
   "metadata": {},
   "source": [
    "## Mark Task as Completed"
   ]
  },
  {
   "cell_type": "code",
   "execution_count": 6,
   "id": "e43ec37a-4c1b-4027-a671-00680ac4d8a1",
   "metadata": {},
   "outputs": [],
   "source": [
    "def mark(username):\n",
    "    task_id_to_mark = input(\"Enter the Task ID to mark as completed: \")\n",
    "    \n",
    "    # Read all tasks and update the specified task\n",
    "    with open('tasks.txt', 'r') as file:\n",
    "        tasks = file.readlines()\n",
    "    \n",
    "    with open('tasks.txt', 'w') as file:\n",
    "        for task in tasks:\n",
    "            task = task.strip()\n",
    "            task_parts = task.split(\",\")\n",
    "            if task_parts[0] == username and task_parts[1] == task_id_to_mark:\n",
    "                task_parts[3] = \"Completed\"\n",
    "                print(f\"Task ID {task_id_to_mark} marked as completed.\")\n",
    "            file.write(\",\".join(task_parts) + \"\\n\")"
   ]
  },
  {
   "cell_type": "markdown",
   "id": "fe26a743-6d37-415b-9307-6a279b737538",
   "metadata": {},
   "source": [
    "## Delete"
   ]
  },
  {
   "cell_type": "code",
   "execution_count": 7,
   "id": "1a167a84-c62c-420e-8bff-24692691575b",
   "metadata": {},
   "outputs": [],
   "source": [
    "def delete_task(username):\n",
    "    task_id_to_delete = input(\"Enter the Task ID to delete: \")\n",
    "    \n",
    "    # Read all tasks and delete the specified task\n",
    "    with open('tasks.txt', 'r') as file:\n",
    "        tasks = file.readlines()\n",
    "    \n",
    "    with open('tasks.txt', 'w') as file:\n",
    "        for task in tasks:\n",
    "            task = task.strip()\n",
    "            task_parts = task.split(\",\")\n",
    "            if task_parts[0] == username and task_parts[1] == task_id_to_delete:\n",
    "                print(f\"Task ID {task_id_to_delete} deleted.\")\n",
    "                continue\n",
    "            file.write(\",\".join(task_parts) + \"\\n\")"
   ]
  },
  {
   "cell_type": "markdown",
   "id": "00972059-099d-4cb9-8a28-85cf7cf34b51",
   "metadata": {},
   "source": [
    "## Menu"
   ]
  },
  {
   "cell_type": "code",
   "execution_count": 13,
   "id": "1419d5c0-8cf9-4b8a-a4f5-91bcde64b0a2",
   "metadata": {},
   "outputs": [],
   "source": [
    "def menu(username):\n",
    "    while True:\n",
    "        print(\"\\nTask Manager Menu:\")\n",
    "        print(\"1. Add a Task\")\n",
    "        print(\"2. View Tasks\")\n",
    "        print(\"3. Mark a Task as Completed\")\n",
    "        print(\"4. Delete a Task\")\n",
    "        print(\"5. Logout\")\n",
    "        \n",
    "        choice = input(\"Enter your choice: \")\n",
    "        \n",
    "        if choice == '1':\n",
    "            add_task(username)\n",
    "        elif choice == '2':\n",
    "            view_task(username)\n",
    "        elif choice == '3':\n",
    "            mark(username)\n",
    "        elif choice == '4':\n",
    "            delete_task(username)\n",
    "        elif choice == '5':\n",
    "            print(\"Logged out\")\n",
    "            break\n",
    "        else:\n",
    "            print(\"Invalid choice. Please try again.\") \n"
   ]
  },
  {
   "cell_type": "markdown",
   "id": "b7235adb-a359-4a74-b8c1-107a9af95b68",
   "metadata": {},
   "source": [
    "##### register()"
   ]
  },
  {
   "cell_type": "code",
   "execution_count": 10,
   "id": "283ba54f-bb3f-4fbd-b5c9-d3add735db61",
   "metadata": {},
   "outputs": [
    {
     "name": "stdin",
     "output_type": "stream",
     "text": [
      "Enter your username:  Lambo\n",
      "Enter your password:  00\n"
     ]
    },
    {
     "name": "stdout",
     "output_type": "stream",
     "text": [
      "Login Successful! Access granted.\n"
     ]
    }
   ],
   "source": [
    "login()"
   ]
  },
  {
   "cell_type": "code",
   "execution_count": 15,
   "id": "106626aa-df9c-4800-9235-5fd5cd071ba5",
   "metadata": {},
   "outputs": [
    {
     "name": "stdout",
     "output_type": "stream",
     "text": [
      "\n",
      "Task Manager Menu:\n",
      "1. Add a Task\n",
      "2. View Tasks\n",
      "3. Mark a Task as Completed\n",
      "4. Delete a Task\n",
      "5. Logout\n"
     ]
    },
    {
     "name": "stdin",
     "output_type": "stream",
     "text": [
      "Enter your choice:  2\n"
     ]
    },
    {
     "name": "stdout",
     "output_type": "stream",
     "text": [
      "Tasks for Lambo:\n",
      "Task ID: 2, Description: Jump, Status: Completed\n",
      "\n",
      "Task Manager Menu:\n",
      "1. Add a Task\n",
      "2. View Tasks\n",
      "3. Mark a Task as Completed\n",
      "4. Delete a Task\n",
      "5. Logout\n"
     ]
    },
    {
     "name": "stdin",
     "output_type": "stream",
     "text": [
      "Enter your choice:  1\n",
      "Enter task description:  Home\n"
     ]
    },
    {
     "name": "stdout",
     "output_type": "stream",
     "text": [
      "Task added successfully!\n",
      "\n",
      "Task Manager Menu:\n",
      "1. Add a Task\n",
      "2. View Tasks\n",
      "3. Mark a Task as Completed\n",
      "4. Delete a Task\n",
      "5. Logout\n"
     ]
    },
    {
     "name": "stdin",
     "output_type": "stream",
     "text": [
      "Enter your choice:  2\n"
     ]
    },
    {
     "name": "stdout",
     "output_type": "stream",
     "text": [
      "Tasks for Lambo:\n",
      "Task ID: 2, Description: Jump, Status: Completed\n",
      "Task ID: 6, Description: Home, Status: Pending\n",
      "\n",
      "Task Manager Menu:\n",
      "1. Add a Task\n",
      "2. View Tasks\n",
      "3. Mark a Task as Completed\n",
      "4. Delete a Task\n",
      "5. Logout\n"
     ]
    },
    {
     "name": "stdin",
     "output_type": "stream",
     "text": [
      "Enter your choice:  4\n",
      "Enter the Task ID to delete:  2\n"
     ]
    },
    {
     "name": "stdout",
     "output_type": "stream",
     "text": [
      "Task ID 2 deleted.\n",
      "\n",
      "Task Manager Menu:\n",
      "1. Add a Task\n",
      "2. View Tasks\n",
      "3. Mark a Task as Completed\n",
      "4. Delete a Task\n",
      "5. Logout\n"
     ]
    },
    {
     "name": "stdin",
     "output_type": "stream",
     "text": [
      "Enter your choice:  2\n"
     ]
    },
    {
     "name": "stdout",
     "output_type": "stream",
     "text": [
      "Tasks for Lambo:\n",
      "Task ID: 6, Description: Home, Status: Pending\n",
      "\n",
      "Task Manager Menu:\n",
      "1. Add a Task\n",
      "2. View Tasks\n",
      "3. Mark a Task as Completed\n",
      "4. Delete a Task\n",
      "5. Logout\n"
     ]
    },
    {
     "name": "stdin",
     "output_type": "stream",
     "text": [
      "Enter your choice:  1\n",
      "Enter task description:  MMM\n"
     ]
    },
    {
     "name": "stdout",
     "output_type": "stream",
     "text": [
      "Task added successfully!\n",
      "\n",
      "Task Manager Menu:\n",
      "1. Add a Task\n",
      "2. View Tasks\n",
      "3. Mark a Task as Completed\n",
      "4. Delete a Task\n",
      "5. Logout\n"
     ]
    },
    {
     "name": "stdin",
     "output_type": "stream",
     "text": [
      "Enter your choice:  2\n"
     ]
    },
    {
     "name": "stdout",
     "output_type": "stream",
     "text": [
      "Tasks for Lambo:\n",
      "Task ID: 6, Description: Home, Status: Pending\n",
      "Task ID: 6, Description: MMM, Status: Pending\n",
      "\n",
      "Task Manager Menu:\n",
      "1. Add a Task\n",
      "2. View Tasks\n",
      "3. Mark a Task as Completed\n",
      "4. Delete a Task\n",
      "5. Logout\n"
     ]
    },
    {
     "name": "stdin",
     "output_type": "stream",
     "text": [
      "Enter your choice:  3\n",
      "Enter the Task ID to mark as completed:  3\n"
     ]
    },
    {
     "name": "stdout",
     "output_type": "stream",
     "text": [
      "\n",
      "Task Manager Menu:\n",
      "1. Add a Task\n",
      "2. View Tasks\n",
      "3. Mark a Task as Completed\n",
      "4. Delete a Task\n",
      "5. Logout\n"
     ]
    },
    {
     "name": "stdin",
     "output_type": "stream",
     "text": [
      "Enter your choice:  2\n"
     ]
    },
    {
     "name": "stdout",
     "output_type": "stream",
     "text": [
      "Tasks for Lambo:\n",
      "Task ID: 6, Description: Home, Status: Pending\n",
      "Task ID: 6, Description: MMM, Status: Pending\n",
      "\n",
      "Task Manager Menu:\n",
      "1. Add a Task\n",
      "2. View Tasks\n",
      "3. Mark a Task as Completed\n",
      "4. Delete a Task\n",
      "5. Logout\n"
     ]
    },
    {
     "name": "stdin",
     "output_type": "stream",
     "text": [
      "Enter your choice:  3\n",
      "Enter the Task ID to mark as completed:  6\n"
     ]
    },
    {
     "name": "stdout",
     "output_type": "stream",
     "text": [
      "Task ID 6 marked as completed.\n",
      "Task ID 6 marked as completed.\n",
      "\n",
      "Task Manager Menu:\n",
      "1. Add a Task\n",
      "2. View Tasks\n",
      "3. Mark a Task as Completed\n",
      "4. Delete a Task\n",
      "5. Logout\n"
     ]
    },
    {
     "name": "stdin",
     "output_type": "stream",
     "text": [
      "Enter your choice:  2\n"
     ]
    },
    {
     "name": "stdout",
     "output_type": "stream",
     "text": [
      "Tasks for Lambo:\n",
      "Task ID: 6, Description: Home, Status: Completed\n",
      "Task ID: 6, Description: MMM, Status: Completed\n",
      "\n",
      "Task Manager Menu:\n",
      "1. Add a Task\n",
      "2. View Tasks\n",
      "3. Mark a Task as Completed\n",
      "4. Delete a Task\n",
      "5. Logout\n"
     ]
    },
    {
     "name": "stdin",
     "output_type": "stream",
     "text": [
      "Enter your choice:  1\n",
      "Enter task description:  ABC\n"
     ]
    },
    {
     "name": "stdout",
     "output_type": "stream",
     "text": [
      "Task added successfully!\n",
      "\n",
      "Task Manager Menu:\n",
      "1. Add a Task\n",
      "2. View Tasks\n",
      "3. Mark a Task as Completed\n",
      "4. Delete a Task\n",
      "5. Logout\n"
     ]
    },
    {
     "name": "stdin",
     "output_type": "stream",
     "text": [
      "Enter your choice:  2\n"
     ]
    },
    {
     "name": "stdout",
     "output_type": "stream",
     "text": [
      "Tasks for Lambo:\n",
      "Task ID: 6, Description: Home, Status: Completed\n",
      "Task ID: 6, Description: MMM, Status: Completed\n",
      "Task ID: 7, Description: ABC, Status: Pending\n",
      "\n",
      "Task Manager Menu:\n",
      "1. Add a Task\n",
      "2. View Tasks\n",
      "3. Mark a Task as Completed\n",
      "4. Delete a Task\n",
      "5. Logout\n"
     ]
    },
    {
     "name": "stdin",
     "output_type": "stream",
     "text": [
      "Enter your choice:  1\n",
      "Enter task description:  School\n"
     ]
    },
    {
     "name": "stdout",
     "output_type": "stream",
     "text": [
      "Task added successfully!\n",
      "\n",
      "Task Manager Menu:\n",
      "1. Add a Task\n",
      "2. View Tasks\n",
      "3. Mark a Task as Completed\n",
      "4. Delete a Task\n",
      "5. Logout\n"
     ]
    },
    {
     "name": "stdin",
     "output_type": "stream",
     "text": [
      "Enter your choice:  2\n"
     ]
    },
    {
     "name": "stdout",
     "output_type": "stream",
     "text": [
      "Tasks for Lambo:\n",
      "Task ID: 6, Description: Home, Status: Completed\n",
      "Task ID: 6, Description: MMM, Status: Completed\n",
      "Task ID: 7, Description: ABC, Status: Pending\n",
      "Task ID: 8, Description: School, Status: Pending\n",
      "\n",
      "Task Manager Menu:\n",
      "1. Add a Task\n",
      "2. View Tasks\n",
      "3. Mark a Task as Completed\n",
      "4. Delete a Task\n",
      "5. Logout\n"
     ]
    },
    {
     "name": "stdin",
     "output_type": "stream",
     "text": [
      "Enter your choice:  5\n"
     ]
    },
    {
     "name": "stdout",
     "output_type": "stream",
     "text": [
      "Logged out\n"
     ]
    }
   ],
   "source": [
    "menu(\"Lambo\")"
   ]
  },
  {
   "cell_type": "code",
   "execution_count": null,
   "id": "a0ce5fe1-1f80-42c1-9883-8d7dbdbe2e79",
   "metadata": {},
   "outputs": [],
   "source": []
  }
 ],
 "metadata": {
  "kernelspec": {
   "display_name": "Python 3 [3.10]",
   "language": "python",
   "name": "python3"
  },
  "language_info": {
   "codemirror_mode": {
    "name": "ipython",
    "version": 3
   },
   "file_extension": ".py",
   "mimetype": "text/x-python",
   "name": "python",
   "nbconvert_exporter": "python",
   "pygments_lexer": "ipython3",
   "version": "3.10.2"
  }
 },
 "nbformat": 4,
 "nbformat_minor": 5
}
