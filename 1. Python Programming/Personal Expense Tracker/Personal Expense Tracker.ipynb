{
 "cells": [
  {
   "cell_type": "markdown",
   "id": "9432540e-318d-415f-9afc-ac7217eb1c1e",
   "metadata": {},
   "source": [
    "## Add an expense"
   ]
  },
  {
   "cell_type": "code",
   "execution_count": 48,
   "id": "46b35196-106d-49b8-b578-9a8eae53cef0",
   "metadata": {},
   "outputs": [],
   "source": [
    "import csv"
   ]
  },
  {
   "cell_type": "code",
   "execution_count": 65,
   "id": "c8e83e1d-f542-460e-aecf-0a57c9c1d026",
   "metadata": {},
   "outputs": [],
   "source": [
    "expenses = []"
   ]
  },
  {
   "cell_type": "code",
   "execution_count": 27,
   "id": "dfb72e8d-afa8-42c8-bcc0-d527869959f1",
   "metadata": {},
   "outputs": [],
   "source": [
    "def add_exp():\n",
    "    # User input details\n",
    "    date = input(\"Date of the expense (YYYY-MM-DD): \")\n",
    "    category = input(\"Category of the expense, such as Food or Travel: \")\n",
    "    amount = input(\"Spent Amount: \")\n",
    "    description = input(\"Desribe the sepnd: \")\n",
    "\n",
    "    # Create dictionary\n",
    "    expense = {'date':date, 'category':category, 'amount':amount, 'description':description}\n",
    "    expenses.append(expense)\n",
    "    print('Expense addedd successfully!')"
   ]
  },
  {
   "cell_type": "markdown",
   "id": "77be025f-bc68-4a02-a383-c1b10a88a342",
   "metadata": {},
   "source": [
    "## View expenses"
   ]
  },
  {
   "cell_type": "code",
   "execution_count": 33,
   "id": "ab7a2062-456e-4250-9f33-78ec9ccd8dfa",
   "metadata": {},
   "outputs": [],
   "source": [
    "def display_exp():\n",
    "    if expenses:\n",
    "        print(\"Recorded Expenses: \")\n",
    "        exp_num = 1\n",
    "        for expense in expenses:\n",
    "            \n",
    "            # Validate required details are present\n",
    "            if expense['date'] == \"\" or expense['category'] == \"\" or expense['amount'] == \"\" or expense['description'] == \"\":\n",
    "                print(f\"Expense #{exp_num} is incomplete and is skipped.\")\n",
    "            else:\n",
    "                print(f\"Expense #{exp_num}:\")\n",
    "                print(f\"Date: {expense['date']}\")\n",
    "                print(f\"Category: {expense['category']}\")\n",
    "                print(f\"Amount: {expense['amount']}\")\n",
    "                print(f\"Description: {expense['description']}\")\n",
    "            exp_num += 1\n",
    "    \n",
    "    else:\n",
    "        print(\"No record!\")"
   ]
  },
  {
   "cell_type": "markdown",
   "id": "e060179b-e0cb-4dee-af69-ff87c35dffa9",
   "metadata": {},
   "source": [
    "## Set and track budget"
   ]
  },
  {
   "cell_type": "code",
   "execution_count": 34,
   "id": "3485be78-93cc-40d0-b07c-2660c407aae3",
   "metadata": {},
   "outputs": [],
   "source": [
    "def set_budget():\n",
    "    global budget\n",
    "    budget = float(input(\"Input monthly budget\"))\n",
    "    \n",
    "    print(f\"Monthly budget set to: ${budget}\")"
   ]
  },
  {
   "cell_type": "code",
   "execution_count": 39,
   "id": "6be494fe-8838-4c1d-9195-d124364171ad",
   "metadata": {},
   "outputs": [],
   "source": [
    "def total_exp():\n",
    "    total = sum(float(expense['amount'])for expense in expenses)\n",
    "    print(f\"Total expenses so far: ${total}\")\n",
    "    \n",
    "    #Check if over budget\n",
    "    if total > budget:\n",
    "        print(\"You have exceeded your budget!\")\n",
    "        \n",
    "    else:\n",
    "        remain = budget - total\n",
    "        print(f\"You have ${remain} left for the month.\")"
   ]
  },
  {
   "cell_type": "code",
   "execution_count": 81,
   "id": "dca79ed2-951a-42b5-af40-21a0a52e1b89",
   "metadata": {},
   "outputs": [],
   "source": [
    "def clear_data():\n",
    "    # Clear all expenses from the global expenses list\n",
    "    expenses.clear()\n",
    "    with open('expenses.csv', 'w') as file:\n",
    "        writer = csv.writer(file)\n",
    "        writer.writerow(['Date', 'Category', 'Amount', 'Description'])\n",
    "    print(\"All expenses have been cleared and CSV data reset!\")"
   ]
  },
  {
   "cell_type": "markdown",
   "id": "eb48ffdf-b931-4211-9f34-b3071b9d68a4",
   "metadata": {},
   "source": [
    "## Save and load"
   ]
  },
  {
   "cell_type": "code",
   "execution_count": 49,
   "id": "02399213-bff1-4149-a286-c01ea98952f0",
   "metadata": {},
   "outputs": [],
   "source": [
    "def save_csv():\n",
    "    global expenses\n",
    "    with open('expenses.csv',mode='w') as file:\n",
    "        writer = csv.writer(file)\n",
    "        writer.writerow(['Date', 'Category', 'Amount', 'Description'])\n",
    "        for expense in expenses:\n",
    "            writer.writerow([expense['date'], expense['category'], expense['amount'], expense['description']])\n",
    "    print(\"Expenses saved to expenses.csv\")"
   ]
  },
  {
   "cell_type": "code",
   "execution_count": 76,
   "id": "c065be87-a545-4848-8e3b-1ddf67759e32",
   "metadata": {},
   "outputs": [],
   "source": [
    "def load_csv():\n",
    "    # Load all expenses from CSV file\n",
    "    try:\n",
    "        with open('expenses.csv', 'r') as file:\n",
    "            reader = csv.reader(file)\n",
    "            next(reader)  # Skip header row\n",
    "            for row in reader:\n",
    "                expense = {'date': row[0], 'category': row[1], 'amount': row[2], 'description': row[3]}\n",
    "                expenses.append(expense)\n",
    "        print(\"Expenses loaded from expenses.csv\")\n",
    "    except FileNotFoundError:\n",
    "        print(\"No saved expenses found.\")"
   ]
  },
  {
   "cell_type": "markdown",
   "id": "56ca6240-4e5f-4bb7-8143-921c8e424dca",
   "metadata": {},
   "source": [
    "## Create menu"
   ]
  },
  {
   "cell_type": "code",
   "execution_count": 84,
   "id": "111bfb20-8581-48ac-9e72-77b700fff4d8",
   "metadata": {},
   "outputs": [],
   "source": [
    "def menu():\n",
    "    while True:\n",
    "        print(\"-------Menu-------\")\n",
    "        print(\"1. Add Expense\")\n",
    "        print(\"2. View Expenses\")\n",
    "        print(\"3. Track Budget\")\n",
    "        print(\"4. Save Expenses\")\n",
    "        print(\"5. Exit\")\n",
    "        \n",
    "        choice = input(\"Enter your choice (1-5): \")\n",
    "        \n",
    "        if choice == '1':\n",
    "            add_exp()\n",
    "        elif choice == '2':\n",
    "            display_exp()\n",
    "        elif choice == '3':\n",
    "            set_budget()\n",
    "            total_exp()\n",
    "        elif choice == '4':\n",
    "            save_csv()\n",
    "        elif choice == '5':\n",
    "            save_csv()\n",
    "            print(\"Goodbye!\")\n",
    "            break\n",
    "        else:\n",
    "            print(\"Invalid choice, please input 1-5.\")"
   ]
  },
  {
   "cell_type": "markdown",
   "id": "858ea521-dad0-4a20-af03-58d9bbe3c9b8",
   "metadata": {},
   "source": [
    "## Test Code"
   ]
  },
  {
   "cell_type": "code",
   "execution_count": 87,
   "id": "896a7a3c-e40c-4e16-977a-447bf7b5baee",
   "metadata": {},
   "outputs": [
    {
     "name": "stdout",
     "output_type": "stream",
     "text": [
      "All expenses have been cleared and CSV data reset!\n"
     ]
    }
   ],
   "source": [
    "clear_data()"
   ]
  },
  {
   "cell_type": "code",
   "execution_count": 91,
   "id": "0673b007-48e1-4e9e-ba3b-fb8690bf12a3",
   "metadata": {},
   "outputs": [
    {
     "name": "stdout",
     "output_type": "stream",
     "text": [
      "-------Menu-------\n",
      "1. Add Expense\n",
      "2. View Expenses\n",
      "3. Track Budget\n",
      "4. Save Expenses\n",
      "5. Exit\n"
     ]
    },
    {
     "name": "stdin",
     "output_type": "stream",
     "text": [
      "Enter your choice (1-5):  2\n"
     ]
    },
    {
     "name": "stdout",
     "output_type": "stream",
     "text": [
      "Recorded Expenses: \n",
      "Expense #1:\n",
      "Date: 2020-01-01\n",
      "Category: food\n",
      "Amount: 35\n",
      "Description: hot dog\n",
      "Expense #2:\n",
      "Date: 2020-01-01\n",
      "Category: travel\n",
      "Amount: 125\n",
      "Description: LA\n",
      "Expense #3 is incomplete and is skipped.\n",
      "Expense #4:\n",
      "Date: 2020-01-01\n",
      "Category: TRAVEL\n",
      "Amount: 200\n",
      "Description: SF\n",
      "-------Menu-------\n",
      "1. Add Expense\n",
      "2. View Expenses\n",
      "3. Track Budget\n",
      "4. Save Expenses\n",
      "5. Exit\n"
     ]
    },
    {
     "name": "stdin",
     "output_type": "stream",
     "text": [
      "Enter your choice (1-5):  3\n",
      "Input monthly budget 500\n"
     ]
    },
    {
     "name": "stdout",
     "output_type": "stream",
     "text": [
      "Monthly budget set to: $500.0\n",
      "Total expenses so far: $440.0\n",
      "You have $60.0 left for the month.\n",
      "-------Menu-------\n",
      "1. Add Expense\n",
      "2. View Expenses\n",
      "3. Track Budget\n",
      "4. Save Expenses\n",
      "5. Exit\n"
     ]
    },
    {
     "name": "stdin",
     "output_type": "stream",
     "text": [
      "Enter your choice (1-5):  5\n"
     ]
    },
    {
     "name": "stdout",
     "output_type": "stream",
     "text": [
      "Expenses saved to expenses.csv\n",
      "Goodbye!\n"
     ]
    }
   ],
   "source": [
    "menu()"
   ]
  },
  {
   "cell_type": "code",
   "execution_count": null,
   "id": "9360f437-71fd-478f-a170-2d8dfd763a1e",
   "metadata": {},
   "outputs": [],
   "source": []
  }
 ],
 "metadata": {
  "kernelspec": {
   "display_name": "Python 3 [3.10]",
   "language": "python",
   "name": "python3"
  },
  "language_info": {
   "codemirror_mode": {
    "name": "ipython",
    "version": 3
   },
   "file_extension": ".py",
   "mimetype": "text/x-python",
   "name": "python",
   "nbconvert_exporter": "python",
   "pygments_lexer": "ipython3",
   "version": "3.10.2"
  }
 },
 "nbformat": 4,
 "nbformat_minor": 5
}
